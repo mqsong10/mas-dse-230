{
 "cells": [
  {
   "cell_type": "code",
   "execution_count": 1,
   "id": "f9d8db5e",
   "metadata": {},
   "outputs": [],
   "source": [
    "import pyspark\n",
    "import warnings\n",
    "import matplotlib\n",
    "import matplotlib.pyplot as plt\n",
    "\n",
    "from pyspark.sql import SparkSession\n",
    "\n",
    "matplotlib.rcParams['figure.dpi'] = 300\n",
    "\n",
    "!sed -i 's/hadoop.root.logger=INFO,console/hadoop.root.logger=WARN,console/' /usr/hadoop-3.3.2/etc/hadoop/log4j.properties\n",
    "warnings.filterwarnings('ignore')"
   ]
  },
  {
   "cell_type": "code",
   "execution_count": 2,
   "id": "d29abb71",
   "metadata": {
    "tags": []
   },
   "outputs": [
    {
     "name": "stderr",
     "output_type": "stream",
     "text": [
      "2023-05-06 00:17:18,209 WARN util.NativeCodeLoader: Unable to load native-hadoop library for your platform... using builtin-java classes where applicable\n",
      "2023-05-06 00:17:19,278 WARN util.Utils: Service 'SparkUI' could not bind on port 4040. Attempting port 4041.\n"
     ]
    }
   ],
   "source": [
    "conf = pyspark.SparkConf().setAll(\n",
    "    [('spark.master', 'local[2]'),\n",
    "     ('spark.app.name', 'EDA')])\n",
    "spark = SparkSession.builder.config(conf=conf).getOrCreate()"
   ]
  },
  {
   "cell_type": "code",
   "execution_count": 5,
   "id": "0be49d61",
   "metadata": {},
   "outputs": [],
   "source": [
    "df = spark.read.csv('file:///home/work/Project/crime.csv', header=True)\n",
    "df = df.filter(\"Year < 2023\")\n",
    "# Ignore 2023 to only look at completed years"
   ]
  },
  {
   "cell_type": "markdown",
   "id": "04dd0da5",
   "metadata": {},
   "source": [
    "#### Features"
   ]
  },
  {
   "cell_type": "code",
   "execution_count": 9,
   "id": "cbb9a9f7",
   "metadata": {},
   "outputs": [
    {
     "data": {
      "text/plain": [
       "'ID *--* Case Number *--* Date *--* Block *--* IUCR *--* Primary Type *--* Description *--* Location Description *--* Arrest *--* Domestic *--* Beat *--* District *--* Ward *--* Community Area *--* FBI Code *--* X Coordinate *--* Y Coordinate *--* Year *--* Updated On *--* Latitude *--* Longitude *--* Location'"
      ]
     },
     "execution_count": 9,
     "metadata": {},
     "output_type": "execute_result"
    }
   ],
   "source": [
    "' *--* '.join([i.name for i in df.schema])"
   ]
  },
  {
   "cell_type": "markdown",
   "id": "3b4f24db",
   "metadata": {},
   "source": [
    "#### Feature: Primary Categories"
   ]
  },
  {
   "cell_type": "code",
   "execution_count": null,
   "id": "16cdf792",
   "metadata": {},
   "outputs": [],
   "source": []
  },
  {
   "cell_type": "code",
   "execution_count": null,
   "id": "35f3da5f",
   "metadata": {},
   "outputs": [],
   "source": [
    "new_cats = {\n",
    "    'CRIM SEXUAL ASSAULT':'CRIMINAL SEXUAL ASSAULT',\n",
    "    'NON-CRIMINAL (SUBJECT SPECIFIED)':'NON-CRIMINAL',\n",
    "    'NON - CRIMINAL':'NON-CRIMINAL',\n",
    "    'OTHER NARCOTIC VIOLATION':'NARCOTICS',\n",
    "    'PUBLIC INDECENCY':'PUBLIC INDECENCY/OBSCENITY',\n",
    "    'OBSCENITY':'PUBLIC INDECENCY/OBSCENITY'\n",
    "}"
   ]
  },
  {
   "cell_type": "code",
   "execution_count": 3,
   "id": "49652a9e",
   "metadata": {
    "tags": []
   },
   "outputs": [
    {
     "name": "stderr",
     "output_type": "stream",
     "text": [
      "                                                                                \r"
     ]
    }
   ],
   "source": []
  },
  {
   "cell_type": "code",
   "execution_count": 4,
   "id": "13c5f795",
   "metadata": {},
   "outputs": [],
   "source": [
    "df.createOrReplaceTempView('crime')"
   ]
  },
  {
   "cell_type": "code",
   "execution_count": 15,
   "id": "64e83e20",
   "metadata": {},
   "outputs": [
    {
     "data": {
      "text/plain": [
       "['ID',\n",
       " 'Case Number',\n",
       " 'Date',\n",
       " 'Block',\n",
       " 'IUCR',\n",
       " 'Primary Type',\n",
       " 'Description',\n",
       " 'Location Description',\n",
       " 'Arrest',\n",
       " 'Domestic',\n",
       " 'Beat',\n",
       " 'District',\n",
       " 'Ward',\n",
       " 'Community Area',\n",
       " 'FBI Code',\n",
       " 'X Coordinate',\n",
       " 'Y Coordinate',\n",
       " 'Year',\n",
       " 'Updated On',\n",
       " 'Latitude',\n",
       " 'Longitude',\n",
       " 'Location']"
      ]
     },
     "execution_count": 15,
     "metadata": {},
     "output_type": "execute_result"
    }
   ],
   "source": []
  },
  {
   "cell_type": "code",
   "execution_count": 23,
   "id": "394b55d3",
   "metadata": {},
   "outputs": [
    {
     "name": "stderr",
     "output_type": "stream",
     "text": [
      "                                                                                \r"
     ]
    }
   ],
   "source": [
    "query = '''\n",
    "SELECT CAST(`Ward` AS INT) AS ward\n",
    "    , COUNT(*) AS n_crimes\n",
    "FROM crime\n",
    "WHERE `Ward` IS NOT NULL\n",
    "GROUP BY `Ward`\n",
    "'''\n",
    "df = spark.sql(query).toPandas().to_csv('map_ward.csv', index=False)"
   ]
  },
  {
   "cell_type": "code",
   "execution_count": 25,
   "id": "6c18f118",
   "metadata": {},
   "outputs": [
    {
     "name": "stderr",
     "output_type": "stream",
     "text": [
      "                                                                                \r"
     ]
    }
   ],
   "source": [
    "query = '''\n",
    "WITH cte (\n",
    "    SELECT `Ward`\n",
    "        , SUM(CASE Arrest\n",
    "            WHEN 'false' THEN 0\n",
    "            WHEN 'true' THEN 1 END) AS count_true\n",
    "        , COUNT(`Arrest`) AS total\n",
    "    FROM crime\n",
    "    WHERE Year < 2023\n",
    "    GROUP BY `Ward`\n",
    ")\n",
    "SELECT *\n",
    "    , count_true/total AS proportion_arrested\n",
    "FROM cte\n",
    "'''\n",
    "tdf = spark.sql(query).toPandas().to_csv('map_arrest_rate.csv',index=False)"
   ]
  },
  {
   "cell_type": "code",
   "execution_count": 9,
   "id": "a7fe6207",
   "metadata": {
    "tags": []
   },
   "outputs": [
    {
     "name": "stderr",
     "output_type": "stream",
     "text": [
      "                                                                                \r"
     ]
    }
   ],
   "source": [
    "query = '''\n",
    "WITH cte (\n",
    "    SELECT `Primary Type`\n",
    "        , SUM(CASE Arrest\n",
    "            WHEN 'false' THEN 0\n",
    "            WHEN 'true' THEN 1 END) AS count_true\n",
    "        , COUNT(`Arrest`) AS total\n",
    "    FROM crime\n",
    "    WHERE Year < 2023\n",
    "    GROUP BY `Primary Type`\n",
    ")\n",
    "SELECT *\n",
    "    , count_true/total AS proportion_arrested\n",
    "FROM cte\n",
    "'''\n",
    "tdf = spark.sql(query).toPandas().to_csv('arrest_rates.csc',index=False)"
   ]
  },
  {
   "cell_type": "code",
   "execution_count": null,
   "id": "edac2dee",
   "metadata": {},
   "outputs": [],
   "source": [
    "tdf.head(30)"
   ]
  },
  {
   "cell_type": "code",
   "execution_count": 23,
   "id": "435775bc",
   "metadata": {},
   "outputs": [],
   "source": [
    "tdf.to_csv('year_type_counts.csv', index=False)"
   ]
  },
  {
   "cell_type": "code",
   "execution_count": 28,
   "id": "18826ad2",
   "metadata": {},
   "outputs": [],
   "source": [
    "spark.stop()"
   ]
  },
  {
   "cell_type": "code",
   "execution_count": null,
   "id": "1b091d72",
   "metadata": {},
   "outputs": [],
   "source": [
    "ew_cats = {'CRIM SEXUAL ASSAULT':'CRIMINAL SEXUAL ASSAULT','NON-CRIMINAL (SUBJECT SPECIFIED)':'NON-CRIMINAL',\n",
    "           'NON - CRIMINAL':'NON-CRIMINAL', 'OTHER NARCOTIC VIOLATION':'NARCOTICS',\n",
    "           'PUBLIC INDECENCY':'PUBLIC INDECENCY/OBSCENITY', 'OBSCENITY':'PUBLIC INDECENCY/OBSCENITY'}\n"
   ]
  }
 ],
 "metadata": {
  "kernelspec": {
   "display_name": "Python 3 (ipykernel)",
   "language": "python",
   "name": "python3"
  },
  "language_info": {
   "codemirror_mode": {
    "name": "ipython",
    "version": 3
   },
   "file_extension": ".py",
   "mimetype": "text/x-python",
   "name": "python",
   "nbconvert_exporter": "python",
   "pygments_lexer": "ipython3",
   "version": "3.8.10"
  }
 },
 "nbformat": 4,
 "nbformat_minor": 5
}
