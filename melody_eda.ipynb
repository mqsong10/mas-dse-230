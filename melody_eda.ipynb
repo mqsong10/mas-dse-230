{
 "cells": [
  {
   "cell_type": "markdown",
   "id": "27330edb",
   "metadata": {},
   "source": [
    "### Project EDA"
   ]
  },
  {
   "cell_type": "code",
   "execution_count": 1,
   "id": "c2defd54",
   "metadata": {},
   "outputs": [],
   "source": [
    "# Suppress Hadoop Info looging\n",
    "!sed -i 's/hadoop.root.logger=INFO,console/hadoop.root.logger=WARN,console/' /usr/hadoop-3.3.2/etc/hadoop/log4j.properties"
   ]
  },
  {
   "cell_type": "code",
   "execution_count": 2,
   "id": "0c910108",
   "metadata": {},
   "outputs": [
    {
     "name": "stderr",
     "output_type": "stream",
     "text": [
      "2023-05-20 00:41:54,422 WARN util.NativeCodeLoader: Unable to load native-hadoop library for your platform... using builtin-java classes where applicable\n"
     ]
    }
   ],
   "source": [
    "import pyspark\n",
    "from pyspark.sql import SparkSession\n",
    "\n",
    "conf = pyspark.SparkConf().setAll([('spark.master', 'local[*]'),\n",
    "                                   ('spark.app.name', 'Basic Setup')])\n",
    "spark = SparkSession.builder.config(conf=conf).getOrCreate()"
   ]
  },
  {
   "cell_type": "code",
   "execution_count": 3,
   "id": "4cb80249",
   "metadata": {},
   "outputs": [
    {
     "name": "stderr",
     "output_type": "stream",
     "text": [
      "                                                                                \r"
     ]
    }
   ],
   "source": [
    "# Load dataframe\n",
    "\n",
    "df = spark.read.csv(\"file:///home/work/Crimes_-_2001_to_Present.csv\",header=True)"
   ]
  },
  {
   "cell_type": "code",
   "execution_count": 4,
   "id": "37be9c3a",
   "metadata": {},
   "outputs": [
    {
     "name": "stdout",
     "output_type": "stream",
     "text": [
      "root\n",
      " |-- ID: string (nullable = true)\n",
      " |-- Case Number: string (nullable = true)\n",
      " |-- Date: string (nullable = true)\n",
      " |-- Block: string (nullable = true)\n",
      " |-- IUCR: string (nullable = true)\n",
      " |-- Primary Type: string (nullable = true)\n",
      " |-- Description: string (nullable = true)\n",
      " |-- Location Description: string (nullable = true)\n",
      " |-- Arrest: string (nullable = true)\n",
      " |-- Domestic: string (nullable = true)\n",
      " |-- Beat: string (nullable = true)\n",
      " |-- District: string (nullable = true)\n",
      " |-- Ward: string (nullable = true)\n",
      " |-- Community Area: string (nullable = true)\n",
      " |-- FBI Code: string (nullable = true)\n",
      " |-- X Coordinate: string (nullable = true)\n",
      " |-- Y Coordinate: string (nullable = true)\n",
      " |-- Year: string (nullable = true)\n",
      " |-- Updated On: string (nullable = true)\n",
      " |-- Latitude: string (nullable = true)\n",
      " |-- Longitude: string (nullable = true)\n",
      " |-- Location: string (nullable = true)\n",
      " |-- Historical Wards 2003-2015: string (nullable = true)\n",
      " |-- Zip Codes: string (nullable = true)\n",
      " |-- Community Areas: string (nullable = true)\n",
      " |-- Census Tracts: string (nullable = true)\n",
      " |-- Wards: string (nullable = true)\n",
      " |-- Boundaries - ZIP Codes: string (nullable = true)\n",
      " |-- Police Districts: string (nullable = true)\n",
      " |-- Police Beats: string (nullable = true)\n",
      "\n"
     ]
    }
   ],
   "source": [
    "df.printSchema()"
   ]
  },
  {
   "cell_type": "code",
   "execution_count": 5,
   "id": "bd023d6a",
   "metadata": {},
   "outputs": [],
   "source": [
    "# Limit to data pre-2023\n",
    "\n",
    "df = df.filter(\"Year < 2023\")"
   ]
  },
  {
   "cell_type": "code",
   "execution_count": 6,
   "id": "94e8a6ba",
   "metadata": {},
   "outputs": [
    {
     "name": "stderr",
     "output_type": "stream",
     "text": [
      "                                                                                \r"
     ]
    },
    {
     "data": {
      "text/plain": [
       "7711421"
      ]
     },
     "execution_count": 6,
     "metadata": {},
     "output_type": "execute_result"
    }
   ],
   "source": [
    "# Check null values\n",
    "\n",
    "df.count()"
   ]
  },
  {
   "cell_type": "code",
   "execution_count": 7,
   "id": "a8601adc",
   "metadata": {},
   "outputs": [],
   "source": [
    "# Drop nulls\n",
    "\n",
    "df_clean = df.dropna()"
   ]
  },
  {
   "cell_type": "code",
   "execution_count": 8,
   "id": "9dcc1fd7",
   "metadata": {},
   "outputs": [
    {
     "name": "stderr",
     "output_type": "stream",
     "text": [
      "2023-05-20 00:42:30,031 WARN util.package: Truncated the string representation of a plan since it was too large. This behavior can be adjusted by setting 'spark.sql.debug.maxToStringFields'.\n",
      "                                                                                \r"
     ]
    },
    {
     "data": {
      "text/plain": [
       "6982152"
      ]
     },
     "execution_count": 8,
     "metadata": {},
     "output_type": "execute_result"
    }
   ],
   "source": [
    "# Count again\n",
    "\n",
    "df_clean.count()"
   ]
  },
  {
   "cell_type": "code",
   "execution_count": 9,
   "id": "a29d924e",
   "metadata": {},
   "outputs": [
    {
     "name": "stderr",
     "output_type": "stream",
     "text": [
      "                                                                                \r"
     ]
    }
   ],
   "source": [
    "# Iterate how many columns have null values\n",
    "\n",
    "df.createOrReplaceTempView('crime_view')\n",
    "\n",
    "cols = [i.name for i in df.schema]\n",
    "#cols = ['ID']\n",
    "null_counts = []\n",
    "\n",
    "for col in cols:\n",
    "    query = f'''\n",
    "    SELECT COUNT(*)\n",
    "    FROM crime_view\n",
    "    WHERE `{col}` IS NULL\n",
    "    '''\n",
    "    null_counts.append(spark.sql(query).collect())\n",
    "    "
   ]
  },
  {
   "cell_type": "code",
   "execution_count": 10,
   "id": "f656df82",
   "metadata": {},
   "outputs": [],
   "source": [
    "null_counts_clean = [null_counts[i][0][0] for i in range(len(null_counts))]"
   ]
  },
  {
   "cell_type": "code",
   "execution_count": 11,
   "id": "a307fb8c",
   "metadata": {
    "collapsed": true,
    "jupyter": {
     "outputs_hidden": true
    },
    "tags": []
   },
   "outputs": [
    {
     "ename": "NameError",
     "evalue": "name 'total_rows' is not defined",
     "output_type": "error",
     "traceback": [
      "\u001b[0;31m---------------------------------------------------------------------------\u001b[0m",
      "\u001b[0;31mNameError\u001b[0m                                 Traceback (most recent call last)",
      "Cell \u001b[0;32mIn[11], line 5\u001b[0m\n\u001b[1;32m      3\u001b[0m null_summary_df \u001b[38;5;241m=\u001b[39m pd\u001b[38;5;241m.\u001b[39mDataFrame(data\u001b[38;5;241m=\u001b[39mcols,columns\u001b[38;5;241m=\u001b[39m[\u001b[38;5;124m'\u001b[39m\u001b[38;5;124mColumn Name\u001b[39m\u001b[38;5;124m'\u001b[39m])\n\u001b[1;32m      4\u001b[0m null_summary_df[\u001b[38;5;124m'\u001b[39m\u001b[38;5;124mNull Rows\u001b[39m\u001b[38;5;124m'\u001b[39m] \u001b[38;5;241m=\u001b[39m null_counts_clean\n\u001b[0;32m----> 5\u001b[0m null_summary_df[\u001b[38;5;124m'\u001b[39m\u001b[38;5;124mFraction of Total Rows\u001b[39m\u001b[38;5;124m'\u001b[39m] \u001b[38;5;241m=\u001b[39m [\u001b[38;5;28mround\u001b[39m(null_counts[i][\u001b[38;5;241m0\u001b[39m][\u001b[38;5;241m0\u001b[39m]\u001b[38;5;241m/\u001b[39mtotal_rows, \u001b[38;5;241m4\u001b[39m) \u001b[38;5;28;01mfor\u001b[39;00m i \u001b[38;5;129;01min\u001b[39;00m \u001b[38;5;28mrange\u001b[39m(\u001b[38;5;28mlen\u001b[39m(null_counts))]\n",
      "Cell \u001b[0;32mIn[11], line 5\u001b[0m, in \u001b[0;36m<listcomp>\u001b[0;34m(.0)\u001b[0m\n\u001b[1;32m      3\u001b[0m null_summary_df \u001b[38;5;241m=\u001b[39m pd\u001b[38;5;241m.\u001b[39mDataFrame(data\u001b[38;5;241m=\u001b[39mcols,columns\u001b[38;5;241m=\u001b[39m[\u001b[38;5;124m'\u001b[39m\u001b[38;5;124mColumn Name\u001b[39m\u001b[38;5;124m'\u001b[39m])\n\u001b[1;32m      4\u001b[0m null_summary_df[\u001b[38;5;124m'\u001b[39m\u001b[38;5;124mNull Rows\u001b[39m\u001b[38;5;124m'\u001b[39m] \u001b[38;5;241m=\u001b[39m null_counts_clean\n\u001b[0;32m----> 5\u001b[0m null_summary_df[\u001b[38;5;124m'\u001b[39m\u001b[38;5;124mFraction of Total Rows\u001b[39m\u001b[38;5;124m'\u001b[39m] \u001b[38;5;241m=\u001b[39m [\u001b[38;5;28mround\u001b[39m(null_counts[i][\u001b[38;5;241m0\u001b[39m][\u001b[38;5;241m0\u001b[39m]\u001b[38;5;241m/\u001b[39m\u001b[43mtotal_rows\u001b[49m, \u001b[38;5;241m4\u001b[39m) \u001b[38;5;28;01mfor\u001b[39;00m i \u001b[38;5;129;01min\u001b[39;00m \u001b[38;5;28mrange\u001b[39m(\u001b[38;5;28mlen\u001b[39m(null_counts))]\n",
      "\u001b[0;31mNameError\u001b[0m: name 'total_rows' is not defined"
     ]
    }
   ],
   "source": [
    "import pandas as pd\n",
    "\n",
    "null_summary_df = pd.DataFrame(data=cols,columns=['Column Name'])\n",
    "null_summary_df['Null Rows'] = null_counts_clean\n",
    "null_summary_df['Fraction of Total Rows'] = [round(null_counts[i][0][0]/total_rows, 4) for i in range(len(null_counts))]"
   ]
  },
  {
   "cell_type": "code",
   "execution_count": null,
   "id": "ac3c4dd3",
   "metadata": {},
   "outputs": [],
   "source": [
    "null_summary_df.sort_values('Null Rows', ascending=False)"
   ]
  },
  {
   "cell_type": "code",
   "execution_count": null,
   "id": "8dcec94e",
   "metadata": {},
   "outputs": [],
   "source": [
    "print(7711421-6982152)"
   ]
  },
  {
   "cell_type": "code",
   "execution_count": null,
   "id": "5dec39b2",
   "metadata": {
    "tags": []
   },
   "outputs": [],
   "source": [
    "# View primary crime types\n",
    "\n",
    "#df.select('Primary Type').distinct().sort(df['Primary Type'].asc()).show(n=50,truncate=False)"
   ]
  },
  {
   "cell_type": "code",
   "execution_count": null,
   "id": "559b0724",
   "metadata": {},
   "outputs": [],
   "source": [
    "# Reclassify crime types\n",
    "from pyspark.sql.functions import regexp_replace\n",
    "\n",
    "new_cats = {'CRIM SEXUAL ASSAULT':'CRIMINAL SEXUAL ASSAULT',\n",
    "            'NON-CRIMINAL (SUBJECT SPECIFIED)':'NON-CRIMINAL', \n",
    "            'NON - CRIMINAL':'NON-CRIMINAL', \n",
    "            'OTHER NARCOTIC VIOLATION':'NARCOTICS',\n",
    "            'PUBLIC INDECENCY':'PUBLIC INDECENCY/OBSCENITY', \n",
    "            'OBSCENITY':'PUBLIC INDECENCY/OBSCENITY'}\n",
    "\n",
    "for i in new_cats:\n",
    "    df = df.replace(i,new_cats[i],\"Primary Type\")"
   ]
  },
  {
   "cell_type": "code",
   "execution_count": null,
   "id": "0ed7d75e",
   "metadata": {},
   "outputs": [],
   "source": [
    "# Check number of primary types\n",
    "\n",
    "df.select(\"Primary Type\").distinct().count()"
   ]
  },
  {
   "cell_type": "code",
   "execution_count": null,
   "id": "91c86065",
   "metadata": {},
   "outputs": [],
   "source": [
    "df.select('Primary Type').distinct().show(n=50,truncate=False)"
   ]
  },
  {
   "cell_type": "code",
   "execution_count": null,
   "id": "96ba9fe1",
   "metadata": {},
   "outputs": [],
   "source": [
    "from pyspark.sql.functions import countDistinct\n",
    "from pyspark.sql.functions import col\n",
    "\n",
    "df_type_counts = df.groupBy(\"Primary Type\") \\\n",
    "  .agg(countDistinct('Description').alias(\"Count of Secondary Types\")) \\\n",
    "  .orderBy(col(\"Count of Secondary Types\").desc()) \\\n",
    "\n",
    "df_type_counts_pd = df_type_counts.toPandas()"
   ]
  },
  {
   "cell_type": "code",
   "execution_count": null,
   "id": "df640fdc",
   "metadata": {},
   "outputs": [],
   "source": [
    "import matplotlib.pyplot as plt \n",
    "\n",
    "df_type_counts_pd.plot(kind='bar',x='Primary Type',y='Count of Secondary Types',figsize=(12,5),title=\"Number of Secondary Types per Primary Type\",ylabel=\"Count\",legend=False)"
   ]
  },
  {
   "cell_type": "code",
   "execution_count": null,
   "id": "f758ccfc",
   "metadata": {},
   "outputs": [],
   "source": [
    "df.agg(countDistinct('Description')).show()"
   ]
  },
  {
   "cell_type": "code",
   "execution_count": null,
   "id": "34296482",
   "metadata": {},
   "outputs": [],
   "source": []
  },
  {
   "cell_type": "code",
   "execution_count": null,
   "id": "bbbe83ad",
   "metadata": {},
   "outputs": [],
   "source": []
  },
  {
   "cell_type": "code",
   "execution_count": null,
   "id": "043289c6",
   "metadata": {},
   "outputs": [],
   "source": []
  },
  {
   "cell_type": "code",
   "execution_count": null,
   "id": "971aa87f",
   "metadata": {},
   "outputs": [],
   "source": []
  }
 ],
 "metadata": {
  "kernelspec": {
   "display_name": "Python 3 (ipykernel)",
   "language": "python",
   "name": "python3"
  },
  "language_info": {
   "codemirror_mode": {
    "name": "ipython",
    "version": 3
   },
   "file_extension": ".py",
   "mimetype": "text/x-python",
   "name": "python",
   "nbconvert_exporter": "python",
   "pygments_lexer": "ipython3",
   "version": "3.8.10"
  }
 },
 "nbformat": 4,
 "nbformat_minor": 5
}
