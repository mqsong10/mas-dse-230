{
 "cells": [
  {
   "cell_type": "code",
   "execution_count": 1,
   "id": "e1057c5b",
   "metadata": {},
   "outputs": [],
   "source": [
    "!sed -i 's/hadoop.root.logger=INFO,console/hadoop.root.logger=WARN,console/' /usr/hadoop-3.3.2/etc/hadoop/log4j.properties"
   ]
  },
  {
   "cell_type": "code",
   "execution_count": 2,
   "id": "5709907a",
   "metadata": {},
   "outputs": [
    {
     "name": "stderr",
     "output_type": "stream",
     "text": [
      "2023-05-23 01:33:59,385 WARN util.NativeCodeLoader: Unable to load native-hadoop library for your platform... using builtin-java classes where applicable\n"
     ]
    },
    {
     "name": "stdout",
     "output_type": "stream",
     "text": [
      "3.3.1 3.3.1\n"
     ]
    }
   ],
   "source": [
    "# initialize Spark\n",
    "\n",
    "import matplotlib.pyplot as plt\n",
    "import pandas as pd\n",
    "import pyspark\n",
    "from pyspark.sql import SparkSession, Row\n",
    "from pyspark.sql.window import Window\n",
    "from pyspark.sql.functions import *\n",
    "import pyspark.sql.functions as F\n",
    "\n",
    "import os\n",
    "\n",
    "conf = pyspark.SparkConf().setAll([('spark.master', 'local[2]'),\n",
    "                                   ('spark.app.name', 'PySpark DataFrame Demo')])\n",
    "spark = SparkSession.builder.config(conf=conf).getOrCreate()\n",
    "\n",
    "print (spark.version, pyspark.version.__version__)"
   ]
  },
  {
   "cell_type": "code",
   "execution_count": 3,
   "id": "6313cd31",
   "metadata": {},
   "outputs": [],
   "source": [
    "df = spark.read.csv('file:///home/work/project/mas-dse-230/Crimes_-_2001_to_Present.csv', header=True)"
   ]
  },
  {
   "cell_type": "markdown",
   "id": "a34b6bd1",
   "metadata": {},
   "source": [
    "1. data cleaning\n",
    "2. features used\n",
    "3. train/validation/test sets\n",
    "4. analysis approach\n",
    "    <br>a. input: cleaned, filtered training data\n",
    "    <br>b. setup: create model, cross-validate for hyperparameters\n",
    "    <br>c. output: final model, predictions, scores\n",
    "5. challenges encountered\n",
    "6. post-model analysis, discussion of results"
   ]
  },
  {
   "cell_type": "code",
   "execution_count": 4,
   "id": "f167304c",
   "metadata": {},
   "outputs": [
    {
     "data": {
      "text/plain": [
       "['ID',\n",
       " 'Case Number',\n",
       " 'Date',\n",
       " 'Block',\n",
       " 'IUCR',\n",
       " 'Primary Type',\n",
       " 'Description',\n",
       " 'Location Description',\n",
       " 'Arrest',\n",
       " 'Domestic',\n",
       " 'Beat',\n",
       " 'District',\n",
       " 'Ward',\n",
       " 'Community Area',\n",
       " 'FBI Code',\n",
       " 'X Coordinate',\n",
       " 'Y Coordinate',\n",
       " 'Year',\n",
       " 'Updated On',\n",
       " 'Latitude',\n",
       " 'Longitude',\n",
       " 'Location',\n",
       " 'Historical Wards 2003-2015',\n",
       " 'Zip Codes',\n",
       " 'Community Areas',\n",
       " 'Census Tracts',\n",
       " 'Wards',\n",
       " 'Boundaries - ZIP Codes',\n",
       " 'Police Districts',\n",
       " 'Police Beats']"
      ]
     },
     "execution_count": 4,
     "metadata": {},
     "output_type": "execute_result"
    }
   ],
   "source": [
    "df.columns"
   ]
  },
  {
   "cell_type": "code",
   "execution_count": 5,
   "id": "c28c2262",
   "metadata": {},
   "outputs": [],
   "source": [
    "from pyspark.sql.functions import regexp_replace\n",
    "\n",
    "new_cats = {'CRIM SEXUAL ASSAULT':'CRIMINAL SEXUAL ASSAULT','NON-CRIMINAL (SUBJECT SPECIFIED)':'NON-CRIMINAL', 'NON - CRIMINAL':'NON-CRIMINAL',\n",
    "            'OTHER NARCOTIC VIOLATION':'NARCOTICS','PUBLIC INDECENCY':'PUBLIC INDECENCY/OBSCENITY', 'OBSCENITY':'PUBLIC INDECENCY/OBSCENITY'}\n",
    "\n",
    "for i in new_cats:\n",
    "    df = df.replace(i,new_cats[i],\"Primary Type\")"
   ]
  },
  {
   "cell_type": "code",
   "execution_count": 6,
   "id": "cebe9f19",
   "metadata": {},
   "outputs": [],
   "source": [
    "## Drop NAs"
   ]
  },
  {
   "cell_type": "code",
   "execution_count": 7,
   "id": "ea63356e",
   "metadata": {},
   "outputs": [
    {
     "name": "stderr",
     "output_type": "stream",
     "text": [
      "2023-05-23 01:34:09,267 WARN util.package: Truncated the string representation of a plan since it was too large. This behavior can be adjusted by setting 'spark.sql.debug.maxToStringFields'.\n",
      "                                                                                \r"
     ]
    },
    {
     "data": {
      "text/html": [
       "<div>\n",
       "<style scoped>\n",
       "    .dataframe tbody tr th:only-of-type {\n",
       "        vertical-align: middle;\n",
       "    }\n",
       "\n",
       "    .dataframe tbody tr th {\n",
       "        vertical-align: top;\n",
       "    }\n",
       "\n",
       "    .dataframe thead th {\n",
       "        text-align: right;\n",
       "    }\n",
       "</style>\n",
       "<table border=\"1\" class=\"dataframe\">\n",
       "  <thead>\n",
       "    <tr style=\"text-align: right;\">\n",
       "      <th></th>\n",
       "      <th>ID</th>\n",
       "      <th>Case Number</th>\n",
       "      <th>Date</th>\n",
       "      <th>Block</th>\n",
       "      <th>IUCR</th>\n",
       "      <th>Primary Type</th>\n",
       "      <th>Description</th>\n",
       "      <th>Location Description</th>\n",
       "      <th>Arrest</th>\n",
       "      <th>Domestic</th>\n",
       "      <th>...</th>\n",
       "      <th>Longitude</th>\n",
       "      <th>Location</th>\n",
       "      <th>Historical Wards 2003-2015</th>\n",
       "      <th>Zip Codes</th>\n",
       "      <th>Community Areas</th>\n",
       "      <th>Census Tracts</th>\n",
       "      <th>Wards</th>\n",
       "      <th>Boundaries - ZIP Codes</th>\n",
       "      <th>Police Districts</th>\n",
       "      <th>Police Beats</th>\n",
       "    </tr>\n",
       "  </thead>\n",
       "  <tbody>\n",
       "    <tr>\n",
       "      <th>0</th>\n",
       "      <td>7776558</td>\n",
       "      <td>7776554</td>\n",
       "      <td>7776558</td>\n",
       "      <td>7776558</td>\n",
       "      <td>7776558</td>\n",
       "      <td>7776558</td>\n",
       "      <td>7776558</td>\n",
       "      <td>7766233</td>\n",
       "      <td>7776558</td>\n",
       "      <td>7776558</td>\n",
       "      <td>...</td>\n",
       "      <td>7690048</td>\n",
       "      <td>7690048</td>\n",
       "      <td>7667355</td>\n",
       "      <td>7690048</td>\n",
       "      <td>7670452</td>\n",
       "      <td>7672588</td>\n",
       "      <td>7670569</td>\n",
       "      <td>7670504</td>\n",
       "      <td>7671621</td>\n",
       "      <td>7671644</td>\n",
       "    </tr>\n",
       "  </tbody>\n",
       "</table>\n",
       "<p>1 rows × 30 columns</p>\n",
       "</div>"
      ],
      "text/plain": [
       "        ID  Case Number     Date    Block     IUCR  Primary Type  Description  \\\n",
       "0  7776558      7776554  7776558  7776558  7776558       7776558      7776558   \n",
       "\n",
       "   Location Description   Arrest  Domestic  ...  Longitude  Location  \\\n",
       "0               7766233  7776558   7776558  ...    7690048   7690048   \n",
       "\n",
       "   Historical Wards 2003-2015  Zip Codes  Community Areas  Census Tracts  \\\n",
       "0                     7667355    7690048          7670452        7672588   \n",
       "\n",
       "     Wards  Boundaries - ZIP Codes  Police Districts  Police Beats  \n",
       "0  7670569                 7670504           7671621       7671644  \n",
       "\n",
       "[1 rows x 30 columns]"
      ]
     },
     "execution_count": 7,
     "metadata": {},
     "output_type": "execute_result"
    }
   ],
   "source": [
    "df.select([count(when(col(c).isNotNull(), c)).alias(c) for c in df.columns]).toPandas()"
   ]
  },
  {
   "cell_type": "code",
   "execution_count": 8,
   "id": "b3aa10cb",
   "metadata": {},
   "outputs": [
    {
     "name": "stderr",
     "output_type": "stream",
     "text": [
      "                                                                                \r"
     ]
    },
    {
     "data": {
      "text/html": [
       "<div>\n",
       "<style scoped>\n",
       "    .dataframe tbody tr th:only-of-type {\n",
       "        vertical-align: middle;\n",
       "    }\n",
       "\n",
       "    .dataframe tbody tr th {\n",
       "        vertical-align: top;\n",
       "    }\n",
       "\n",
       "    .dataframe thead th {\n",
       "        text-align: right;\n",
       "    }\n",
       "</style>\n",
       "<table border=\"1\" class=\"dataframe\">\n",
       "  <thead>\n",
       "    <tr style=\"text-align: right;\">\n",
       "      <th></th>\n",
       "      <th>Year</th>\n",
       "      <th>count</th>\n",
       "      <th>count_after</th>\n",
       "      <th>prop_kept</th>\n",
       "    </tr>\n",
       "  </thead>\n",
       "  <tbody>\n",
       "    <tr>\n",
       "      <th>20</th>\n",
       "      <td>2001</td>\n",
       "      <td>485878</td>\n",
       "      <td>3885</td>\n",
       "      <td>0.007996</td>\n",
       "    </tr>\n",
       "    <tr>\n",
       "      <th>8</th>\n",
       "      <td>2002</td>\n",
       "      <td>486802</td>\n",
       "      <td>343581</td>\n",
       "      <td>0.705792</td>\n",
       "    </tr>\n",
       "    <tr>\n",
       "      <th>22</th>\n",
       "      <td>2003</td>\n",
       "      <td>475979</td>\n",
       "      <td>469978</td>\n",
       "      <td>0.987392</td>\n",
       "    </tr>\n",
       "    <tr>\n",
       "      <th>12</th>\n",
       "      <td>2004</td>\n",
       "      <td>469421</td>\n",
       "      <td>465257</td>\n",
       "      <td>0.991129</td>\n",
       "    </tr>\n",
       "    <tr>\n",
       "      <th>7</th>\n",
       "      <td>2005</td>\n",
       "      <td>453771</td>\n",
       "      <td>448002</td>\n",
       "      <td>0.987287</td>\n",
       "    </tr>\n",
       "    <tr>\n",
       "      <th>11</th>\n",
       "      <td>2006</td>\n",
       "      <td>448174</td>\n",
       "      <td>443609</td>\n",
       "      <td>0.989814</td>\n",
       "    </tr>\n",
       "    <tr>\n",
       "      <th>16</th>\n",
       "      <td>2007</td>\n",
       "      <td>437084</td>\n",
       "      <td>433874</td>\n",
       "      <td>0.992656</td>\n",
       "    </tr>\n",
       "    <tr>\n",
       "      <th>15</th>\n",
       "      <td>2008</td>\n",
       "      <td>427165</td>\n",
       "      <td>418048</td>\n",
       "      <td>0.978657</td>\n",
       "    </tr>\n",
       "    <tr>\n",
       "      <th>10</th>\n",
       "      <td>2009</td>\n",
       "      <td>392819</td>\n",
       "      <td>384159</td>\n",
       "      <td>0.977954</td>\n",
       "    </tr>\n",
       "    <tr>\n",
       "      <th>21</th>\n",
       "      <td>2010</td>\n",
       "      <td>370496</td>\n",
       "      <td>368307</td>\n",
       "      <td>0.994092</td>\n",
       "    </tr>\n",
       "    <tr>\n",
       "      <th>13</th>\n",
       "      <td>2011</td>\n",
       "      <td>351960</td>\n",
       "      <td>349473</td>\n",
       "      <td>0.992934</td>\n",
       "    </tr>\n",
       "    <tr>\n",
       "      <th>2</th>\n",
       "      <td>2012</td>\n",
       "      <td>336261</td>\n",
       "      <td>333752</td>\n",
       "      <td>0.992539</td>\n",
       "    </tr>\n",
       "    <tr>\n",
       "      <th>6</th>\n",
       "      <td>2013</td>\n",
       "      <td>307466</td>\n",
       "      <td>305056</td>\n",
       "      <td>0.992162</td>\n",
       "    </tr>\n",
       "    <tr>\n",
       "      <th>5</th>\n",
       "      <td>2014</td>\n",
       "      <td>275731</td>\n",
       "      <td>272528</td>\n",
       "      <td>0.988384</td>\n",
       "    </tr>\n",
       "    <tr>\n",
       "      <th>19</th>\n",
       "      <td>2015</td>\n",
       "      <td>264755</td>\n",
       "      <td>256729</td>\n",
       "      <td>0.969685</td>\n",
       "    </tr>\n",
       "    <tr>\n",
       "      <th>0</th>\n",
       "      <td>2016</td>\n",
       "      <td>269785</td>\n",
       "      <td>265315</td>\n",
       "      <td>0.983431</td>\n",
       "    </tr>\n",
       "    <tr>\n",
       "      <th>4</th>\n",
       "      <td>2017</td>\n",
       "      <td>269064</td>\n",
       "      <td>263037</td>\n",
       "      <td>0.977600</td>\n",
       "    </tr>\n",
       "    <tr>\n",
       "      <th>9</th>\n",
       "      <td>2018</td>\n",
       "      <td>268769</td>\n",
       "      <td>261665</td>\n",
       "      <td>0.973568</td>\n",
       "    </tr>\n",
       "    <tr>\n",
       "      <th>3</th>\n",
       "      <td>2019</td>\n",
       "      <td>261242</td>\n",
       "      <td>256919</td>\n",
       "      <td>0.983452</td>\n",
       "    </tr>\n",
       "    <tr>\n",
       "      <th>1</th>\n",
       "      <td>2020</td>\n",
       "      <td>212080</td>\n",
       "      <td>206406</td>\n",
       "      <td>0.973246</td>\n",
       "    </tr>\n",
       "    <tr>\n",
       "      <th>18</th>\n",
       "      <td>2021</td>\n",
       "      <td>208543</td>\n",
       "      <td>201260</td>\n",
       "      <td>0.965077</td>\n",
       "    </tr>\n",
       "    <tr>\n",
       "      <th>14</th>\n",
       "      <td>2022</td>\n",
       "      <td>238017</td>\n",
       "      <td>231316</td>\n",
       "      <td>0.971847</td>\n",
       "    </tr>\n",
       "    <tr>\n",
       "      <th>17</th>\n",
       "      <td>2023</td>\n",
       "      <td>65296</td>\n",
       "      <td>64345</td>\n",
       "      <td>0.985436</td>\n",
       "    </tr>\n",
       "  </tbody>\n",
       "</table>\n",
       "</div>"
      ],
      "text/plain": [
       "    Year   count  count_after  prop_kept\n",
       "20  2001  485878         3885   0.007996\n",
       "8   2002  486802       343581   0.705792\n",
       "22  2003  475979       469978   0.987392\n",
       "12  2004  469421       465257   0.991129\n",
       "7   2005  453771       448002   0.987287\n",
       "11  2006  448174       443609   0.989814\n",
       "16  2007  437084       433874   0.992656\n",
       "15  2008  427165       418048   0.978657\n",
       "10  2009  392819       384159   0.977954\n",
       "21  2010  370496       368307   0.994092\n",
       "13  2011  351960       349473   0.992934\n",
       "2   2012  336261       333752   0.992539\n",
       "6   2013  307466       305056   0.992162\n",
       "5   2014  275731       272528   0.988384\n",
       "19  2015  264755       256729   0.969685\n",
       "0   2016  269785       265315   0.983431\n",
       "4   2017  269064       263037   0.977600\n",
       "9   2018  268769       261665   0.973568\n",
       "3   2019  261242       256919   0.983452\n",
       "1   2020  212080       206406   0.973246\n",
       "18  2021  208543       201260   0.965077\n",
       "14  2022  238017       231316   0.971847\n",
       "17  2023   65296        64345   0.985436"
      ]
     },
     "execution_count": 8,
     "metadata": {},
     "output_type": "execute_result"
    }
   ],
   "source": [
    "# Count number of NAs for each Year to see if there is any correlation between NA values and year\n",
    "columns = pd.Series(df.columns)\n",
    "columns = columns[columns != 'Year']\n",
    "before_year_na = df.groupBy('Year').count().toPandas()\n",
    "df2 = df.dropna()\n",
    "after_year_na = df2.groupBy('Year').count().toPandas()\n",
    "after_year_na.columns = ['Year', 'count_after']\n",
    "final_na_counts = before_year_na.merge(after_year_na, on='Year')\n",
    "final_na_counts['prop_kept'] = final_na_counts['count_after'] / final_na_counts['count']\n",
    "final_na_counts = final_na_counts.sort_values(by='Year')\n",
    "final_na_counts"
   ]
  },
  {
   "cell_type": "code",
   "execution_count": 9,
   "id": "599ccc38",
   "metadata": {},
   "outputs": [
    {
     "name": "stdout",
     "output_type": "stream",
     "text": [
      "+--------------------+---------------+--------------------+--------------------+--------+----+--------+----+---------+------+\n",
      "|                Date|   Primary Type|         Description|Location Description|Domestic|Beat|District|Ward|Zip Codes|Arrest|\n",
      "+--------------------+---------------+--------------------+--------------------+--------+----+--------+----+---------+------+\n",
      "|09/05/2015 01:30:...|        BATTERY|DOMESTIC BATTERY ...|           RESIDENCE|    true|0924|     009|  12|    14924| false|\n",
      "|09/04/2015 11:30:...|          THEFT|      POCKET-PICKING|             CTA BUS|   false|1511|     015|  29|     4299| false|\n",
      "|09/05/2015 12:45:...|      NARCOTICS|POSS: HEROIN(BRN/...|            SIDEWALK|   false|1412|     014|  35|    21538|  true|\n",
      "|09/05/2015 01:00:...|        ASSAULT|              SIMPLE|           APARTMENT|    true|1522|     015|  28|    22216| false|\n",
      "|09/05/2015 10:55:...|       BURGLARY|      FORCIBLE ENTRY|           RESIDENCE|   false|0614|     006|  21|    21554| false|\n",
      "|09/04/2015 06:00:...|       BURGLARY|      UNLAWFUL ENTRY|    RESIDENCE-GARAGE|   false|1434|     014|  32|    22535| false|\n",
      "|09/05/2015 01:00:...|          THEFT|        RETAIL THEFT|  GROCERY FOOD STORE|   false|1034|     010|  25|    14920|  true|\n",
      "|09/05/2015 11:30:...|        ROBBERY|STRONGARM - NO WE...|              STREET|    true|1222|     012|  27|    21184| false|\n",
      "|09/05/2015 02:00:...|          THEFT|      $500 AND UNDER|PARKING LOT/GARAG...|   false|0833|     008|  13|    21867| false|\n",
      "|09/05/2015 11:00:...|        BATTERY|              SIMPLE|  SMALL RETAIL STORE|   false|1623|     016|  45|    21869| false|\n",
      "|09/05/2015 03:00:...|  OTHER OFFENSE|    TELEPHONE THREAT|           APARTMENT|    true|0512|     005|  34|    21861| false|\n",
      "|09/05/2015 12:50:...|        BATTERY|DOMESTIC BATTERY ...|              STREET|    true|0222|     002|   4|     4301| false|\n",
      "|09/03/2015 01:00:...|          THEFT|           OVER $500|              STREET|   false|1424|     014|   1|    21560| false|\n",
      "|09/05/2015 11:45:...|        BATTERY|AGGRAVATED DOMEST...|           APARTMENT|   false|0612|     006|  21|    21554| false|\n",
      "|09/05/2015 01:30:...|CRIMINAL DAMAGE|          TO VEHICLE|              STREET|   false|1531|     015|  28|    22216| false|\n",
      "|07/08/2015 12:00:...|       BURGLARY|      UNLAWFUL ENTRY|               OTHER|   false|0434|     004|  10|    21202| false|\n",
      "|09/05/2015 09:55:...|       BURGLARY|      FORCIBLE ENTRY|           RESIDENCE|   false|2221|     022|  21|    21554|  true|\n",
      "|09/05/2015 12:35:...|        BATTERY|DOMESTIC BATTERY ...|              STREET|    true|1633|     016|  38|    22254| false|\n",
      "|09/04/2015 10:30:...|CRIMINAL DAMAGE|          TO VEHICLE|              STREET|   false|0432|     004|  10|    21202| false|\n",
      "|09/02/2015 12:01:...|CRIMINAL DAMAGE|         TO PROPERTY|    RESIDENCE-GARAGE|   false|1623|     016|  45|    21869| false|\n",
      "+--------------------+---------------+--------------------+--------------------+--------+----+--------+----+---------+------+\n",
      "only showing top 20 rows\n",
      "\n"
     ]
    }
   ],
   "source": [
    "df_final = df2.select('Date', 'Primary Type', 'Description', 'Location Description', 'Domestic', 'Beat', 'District',\n",
    "                      'Ward', 'Zip Codes', 'Arrest')\n",
    "df_final = df_final.where('Year > 2002 AND Year < 2023')\n",
    "df_final.show()"
   ]
  },
  {
   "cell_type": "code",
   "execution_count": 10,
   "id": "853d9440",
   "metadata": {},
   "outputs": [
    {
     "name": "stderr",
     "output_type": "stream",
     "text": [
      "                                                                                \r"
     ]
    },
    {
     "data": {
      "text/plain": [
       "6634690"
      ]
     },
     "execution_count": 10,
     "metadata": {},
     "output_type": "execute_result"
    }
   ],
   "source": [
    "df_length = df_final.count()\n",
    "df_length"
   ]
  },
  {
   "cell_type": "code",
   "execution_count": 11,
   "id": "bdda6ba5",
   "metadata": {},
   "outputs": [
    {
     "name": "stdout",
     "output_type": "stream",
     "text": [
      "root\n",
      " |-- Date: string (nullable = true)\n",
      " |-- Primary Type: string (nullable = true)\n",
      " |-- Description: string (nullable = true)\n",
      " |-- Location Description: string (nullable = true)\n",
      " |-- Domestic: string (nullable = true)\n",
      " |-- Beat: string (nullable = true)\n",
      " |-- District: string (nullable = true)\n",
      " |-- Ward: string (nullable = true)\n",
      " |-- Zip Codes: string (nullable = true)\n",
      " |-- Arrest: string (nullable = true)\n",
      "\n"
     ]
    }
   ],
   "source": [
    "df_final.printSchema()"
   ]
  },
  {
   "cell_type": "markdown",
   "id": "6c4c5fe1",
   "metadata": {},
   "source": [
    "## Make Month column"
   ]
  },
  {
   "cell_type": "code",
   "execution_count": 12,
   "id": "a38f598f",
   "metadata": {},
   "outputs": [
    {
     "name": "stderr",
     "output_type": "stream",
     "text": [
      "                                                                                \r"
     ]
    },
    {
     "data": {
      "text/plain": [
       "<Axes: xlabel='Month'>"
      ]
     },
     "execution_count": 12,
     "metadata": {},
     "output_type": "execute_result"
    },
    {
     "data": {
      "image/png": "[encoded data removed]",
      "text/plain": [
       "<Figure size 640x480 with 1 Axes>"
      ]
     },
     "metadata": {},
     "output_type": "display_data"
    }
   ],
   "source": [
    "df_final = df_final.withColumn('Month', substring('Date', 0, 2))\n",
    "df_final.groupBy('Month').count().toPandas().sort_values('Month').plot(x='Month', y='count')"
   ]
  },
  {
   "cell_type": "markdown",
   "id": "f93b33be",
   "metadata": {},
   "source": [
    "## Make Hour column"
   ]
  },
  {
   "cell_type": "code",
   "execution_count": 13,
   "id": "b65d92d7",
   "metadata": {},
   "outputs": [],
   "source": [
    "df_final = df_final.withColumn('Hour', from_unixtime(unix_timestamp('Date','MM/dd/yyyy hh:mm:ss a'),'HH'))"
   ]
  },
  {
   "cell_type": "code",
   "execution_count": 14,
   "id": "9b059a14",
   "metadata": {},
   "outputs": [
    {
     "name": "stderr",
     "output_type": "stream",
     "text": [
      "[Stage 17:====================================================>   (15 + 1) / 16]\r"
     ]
    },
    {
     "name": "stdout",
     "output_type": "stream",
     "text": [
      "+--------------------+-------+\n",
      "|Location Description|  count|\n",
      "+--------------------+-------+\n",
      "|              STREET|1694154|\n",
      "|           RESIDENCE|1088378|\n",
      "|           APARTMENT| 788073|\n",
      "|            SIDEWALK| 656854|\n",
      "|               OTHER| 223114|\n",
      "|PARKING LOT/GARAG...| 169235|\n",
      "|               ALLEY| 148224|\n",
      "|  SMALL RETAIL STORE| 127646|\n",
      "|SCHOOL, PUBLIC, B...| 124179|\n",
      "|    RESIDENCE-GARAGE| 114583|\n",
      "+--------------------+-------+\n",
      "only showing top 10 rows\n",
      "\n"
     ]
    },
    {
     "name": "stderr",
     "output_type": "stream",
     "text": [
      "                                                                                \r"
     ]
    }
   ],
   "source": [
    "df_final.groupBy('Location Description').count().orderBy('count', ascending=False).show(10)"
   ]
  },
  {
   "cell_type": "code",
   "execution_count": 15,
   "id": "94f89f69",
   "metadata": {},
   "outputs": [
    {
     "name": "stderr",
     "output_type": "stream",
     "text": [
      "                                                                                \r"
     ]
    },
    {
     "data": {
      "text/plain": [
       "<Axes: xlabel='Month'>"
      ]
     },
     "execution_count": 15,
     "metadata": {},
     "output_type": "execute_result"
    },
    {
     "data": {
      "image/png": "[encoded data removed]",
      "text/plain": [
       "<Figure size 640x480 with 1 Axes>"
      ]
     },
     "metadata": {},
     "output_type": "display_data"
    }
   ],
   "source": [
    "df_final = df_final.withColumn('Hour', substring('Date', 0, 2))\n",
    "df_final.groupBy('Month').count().toPandas().sort_values('Month').plot(x='Month', y='count')"
   ]
  },
  {
   "cell_type": "code",
   "execution_count": 16,
   "id": "196e34ab",
   "metadata": {},
   "outputs": [
    {
     "name": "stderr",
     "output_type": "stream",
     "text": [
      "                                                                                \r"
     ]
    },
    {
     "name": "stdout",
     "output_type": "stream",
     "text": [
      "538\n"
     ]
    },
    {
     "name": "stderr",
     "output_type": "stream",
     "text": [
      "[Stage 29:====================================================>   (15 + 1) / 16]\r"
     ]
    },
    {
     "name": "stdout",
     "output_type": "stream",
     "text": [
      "466\n"
     ]
    },
    {
     "name": "stderr",
     "output_type": "stream",
     "text": [
      "                                                                                \r"
     ]
    }
   ],
   "source": [
    "print(df_final.select('Description').distinct().count())\n",
    "mappings = {\n",
    "    'AGGRAVATED':'AGG',\n",
    "    'ATTEMPT':'ATT',\n",
    "    'CRIMINAL':'CRIM',\n",
    "    'POSSESSION':'POSS',\n",
    "    'POS ':'POSS',\n",
    "    'POSESS:':'POSS ',\n",
    "    'POSESS ':'POSS ',    \n",
    "    'REGISTRATION':'REG',\n",
    "    'PRO. ':'PROFESSIONAL ',\n",
    "    'PO ': 'POLICE OFFICER ',\n",
    "    'P.O.':'POLICE OFFICER',\n",
    "    'RITUAL': 'RIT',\n",
    "    'MUTILATION':'MUT',\n",
    "    'INSTRUMENT':'INSTR',\n",
    "    'MANU/DEL:':'MANUFACTURE DELIVER',\n",
    "    'MANU/DELIVER:':'MANUFACTURE DELIVER',\n",
    "    'MANUFACTURE / DELIVER':'MANUFACTURE DELIVER'\n",
    "}\n",
    "replacement_expr = col('Description')\n",
    "for k, v in mappings.items():\n",
    "    replacement_expr = regexp_replace(replacement_expr, k, v)\n",
    "df_final = df_final.withColumn('Description', replacement_expr)\n",
    "df_final = df_final.withColumn('Description', regexp_replace(df_final['Description'], '[^A-Za-z0-9]', ''))\n",
    "print(df_final.select('Description').distinct().count())"
   ]
  },
  {
   "cell_type": "code",
   "execution_count": 19,
   "id": "00cca90c",
   "metadata": {},
   "outputs": [
    {
     "name": "stdout",
     "output_type": "stream",
     "text": [
      "+------------+--------------------+----+\n",
      "|Primary Type|Location Description|Ward|\n",
      "+------------+--------------------+----+\n",
      "|     BATTERY|           RESIDENCE|  12|\n",
      "|       THEFT|             CTA BUS|  29|\n",
      "|   NARCOTICS|            SIDEWALK|  35|\n",
      "|     ASSAULT|           APARTMENT|  28|\n",
      "|    BURGLARY|           RESIDENCE|  21|\n",
      "|    BURGLARY|    RESIDENCE-GARAGE|  32|\n",
      "|       THEFT|  GROCERY FOOD STORE|  25|\n",
      "|     ROBBERY|              STREET|  27|\n",
      "|       THEFT|PARKING LOT/GARAG...|  13|\n",
      "|     BATTERY|  SMALL RETAIL STORE|  45|\n",
      "+------------+--------------------+----+\n",
      "only showing top 10 rows\n",
      "\n",
      "+------+\n",
      "|Arrest|\n",
      "+------+\n",
      "| false|\n",
      "| false|\n",
      "|  true|\n",
      "| false|\n",
      "| false|\n",
      "| false|\n",
      "|  true|\n",
      "| false|\n",
      "| false|\n",
      "| false|\n",
      "+------+\n",
      "only showing top 10 rows\n",
      "\n"
     ]
    }
   ],
   "source": [
    "X = df_final.select('Primary Type', 'Location Description', 'Ward')\n",
    "y = df_final.select('Arrest')\n",
    "X.show(10)\n",
    "y.show(10)"
   ]
  },
  {
   "cell_type": "code",
   "execution_count": 20,
   "id": "b45cbf36",
   "metadata": {},
   "outputs": [
    {
     "ename": "NameError",
     "evalue": "name 'dataset' is not defined",
     "output_type": "error",
     "traceback": [
      "\u001b[0;31m---------------------------------------------------------------------------\u001b[0m",
      "\u001b[0;31mNameError\u001b[0m                                 Traceback (most recent call last)",
      "Cell \u001b[0;32mIn[20], line 17\u001b[0m\n\u001b[1;32m     14\u001b[0m grid \u001b[38;5;241m=\u001b[39m ParamGridBuilder()\u001b[38;5;241m.\u001b[39maddGrid(lr\u001b[38;5;241m.\u001b[39mmaxIter, [\u001b[38;5;241m0\u001b[39m, \u001b[38;5;241m1\u001b[39m])\u001b[38;5;241m.\u001b[39mbuild()\n\u001b[1;32m     15\u001b[0m lr_tvs \u001b[38;5;241m=\u001b[39m TrainValidationSplit(estimator\u001b[38;5;241m=\u001b[39mlr, estimatorParamMaps\u001b[38;5;241m=\u001b[39mgrid, evaluator\u001b[38;5;241m=\u001b[39mevaluator,\n\u001b[1;32m     16\u001b[0m     parallelism\u001b[38;5;241m=\u001b[39m\u001b[38;5;241m1\u001b[39m, seed\u001b[38;5;241m=\u001b[39m\u001b[38;5;241m42\u001b[39m)\n\u001b[0;32m---> 17\u001b[0m lr_tvs_model \u001b[38;5;241m=\u001b[39m lr_tvs\u001b[38;5;241m.\u001b[39mfit(\u001b[43mdataset\u001b[49m)\n\u001b[1;32m     18\u001b[0m \u001b[38;5;28mprint\u001b[39m(lr_tvs_model\u001b[38;5;241m.\u001b[39mgetTrainRatio())\n\u001b[1;32m     19\u001b[0m model_path \u001b[38;5;241m=\u001b[39m \u001b[38;5;124m'\u001b[39m\u001b[38;5;124mfile:///home/work/project/models/logreg\u001b[39m\u001b[38;5;124m'\u001b[39m\n",
      "\u001b[0;31mNameError\u001b[0m: name 'dataset' is not defined"
     ]
    }
   ],
   "source": [
    "# From https://spark.apache.org/docs/latest/api/python/reference/api/pyspark.ml.tuning.TrainValidationSplit.html\n",
    "from pyspark.ml.feature import OneHotEncoder, StringIndexer, VectorAssembler\n",
    "from pyspark.ml.classification import LogisticRegression, DecisionTreeClassifier, RandomForestClassifier\n",
    "from pyspark.ml.evaluation import BinaryClassificationEvaluator\n",
    "from pyspark.ml.linalg import Vectors\n",
    "from pyspark.ml.tuning import TrainValidationSplit, ParamGridBuilder\n",
    "from pyspark.ml.tuning import TrainValidationSplitModel\n",
    "import tempfile\n",
    "# Feature Preparation\n",
    "primaryTypeIndexer = StringIndexer(inputCol='Primary Type', outputCol='primTypeIdx')\n",
    "locationIndexer = StringIndexer(inputCol='Location Description', outputCol='locDescIdx')\n",
    "wardIndexer = StringIndexer(inputCol='Ward', outputCol='wardIdx')\n",
    "#Fits a model to the input dataset with optional parameters.\n",
    "df1 = primaryTypeIndexer.fit(df_final).transform(df_final)\n",
    "df2 = locationIndexer.fit(df1).transform(df1)\n",
    "df3 = wardIndexer.fit(df2).transform(df2)\n",
    "oneHotEnc = OneHotEncoder(inputCol=, outputCol=\"qualification_vec\")\n",
    "df11 = onehotencoder_qualification_vector.fit(df1).transform(df1)\n",
    "df_final.show()\n",
    "# Models\n",
    "lr = LogisticRegression()\n",
    "dt = DecisionTreeClassifier()\n",
    "rf = RandomForestClassifier()\n",
    "evaluator = BinaryClassificationEvaluator()\n",
    "# Logistic Regressor\n",
    "grid = ParamGridBuilder().addGrid(lr.maxIter, [0, 1]).build()\n",
    "lr_tvs = TrainValidationSplit(estimator=lr, estimatorParamMaps=grid, evaluator=evaluator,\n",
    "    parallelism=1, seed=42)\n",
    "lr_tvs_model = lr_tvs.fit(df3)\n",
    "print(lr_tvs_model.getTrainRatio())\n",
    "model_path = 'file:///home/work/project/models/logreg'\n",
    "lr_tvs_model.write().save(model_path)\n",
    "# Decision Tree\n",
    "# grid = ParamGridBuilder().addGrid(lr.maxIter, [0, 1]).build()\n",
    "# dt_tvs = TrainValidationSplit(estimator=dt, estimatorParamMaps=grid, evaluator=evaluator,\n",
    "#     parallelism=1, seed=42)\n",
    "# tvsModel = tvs.fit(dataset)\n",
    "\n",
    "# evaluator.evaluate(tvsModel.transform(dataset))\n",
    "\n",
    "# evaluator.evaluate(tvsModelRead.transform(dataset))\n"
   ]
  },
  {
   "cell_type": "code",
   "execution_count": null,
   "id": "35cf16d1",
   "metadata": {},
   "outputs": [],
   "source": []
  },
  {
   "cell_type": "code",
   "execution_count": null,
   "id": "05ee5adb",
   "metadata": {},
   "outputs": [],
   "source": []
  }
 ],
 "metadata": {
  "kernelspec": {
   "display_name": "Python 3 (ipykernel)",
   "language": "python",
   "name": "python3"
  },
  "language_info": {
   "codemirror_mode": {
    "name": "ipython",
    "version": 3
   },
   "file_extension": ".py",
   "mimetype": "text/x-python",
   "name": "python",
   "nbconvert_exporter": "python",
   "pygments_lexer": "ipython3",
   "version": "3.8.10"
  }
 },
 "nbformat": 4,
 "nbformat_minor": 5
}
