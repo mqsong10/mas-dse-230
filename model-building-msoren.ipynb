{
 "cells": [
  {
   "cell_type": "markdown",
   "id": "bbcc0ccd",
   "metadata": {},
   "source": [
    "# Project: Model Building Notebook\n",
    "\n",
    "Michael Sorenson\n",
    "Melody Song\n",
    "Tarik Basic"
   ]
  },
  {
   "cell_type": "markdown",
   "id": "ce959df7",
   "metadata": {},
   "source": [
    "### Import Packages"
   ]
  },
  {
   "cell_type": "code",
   "execution_count": 1,
   "id": "bde7b572",
   "metadata": {},
   "outputs": [],
   "source": [
    "!sed -i 's/hadoop.root.logger=INFO,console/hadoop.root.logger=WARN,console/' /usr/hadoop-3.3.2/etc/hadoop/log4j.properties\n",
    "\n",
    "import warnings\n",
    "warnings.filterwarnings(\"ignore\")"
   ]
  },
  {
   "cell_type": "code",
   "execution_count": 2,
   "id": "7d22b9d2",
   "metadata": {},
   "outputs": [
    {
     "name": "stderr",
     "output_type": "stream",
     "text": [
      "2023-06-02 23:51:47,038 WARN util.NativeCodeLoader: Unable to load native-hadoop library for your platform... using builtin-java classes where applicable\n"
     ]
    },
    {
     "name": "stdout",
     "output_type": "stream",
     "text": [
      "3.3.1 3.3.1\n"
     ]
    }
   ],
   "source": [
    "# initialize Spark\n",
    "\n",
    "import matplotlib.pyplot as plt\n",
    "import numpy as np\n",
    "import pandas as pd\n",
    "import pyspark\n",
    "from pyspark.sql import SparkSession, Row\n",
    "from pyspark.sql.window import Window\n",
    "from pyspark.sql.functions import *\n",
    "import pyspark.sql.functions as F\n",
    "\n",
    "import os\n",
    "import dtreeviz\n",
    "\n",
    "conf = pyspark.SparkConf().setAll([('spark.executor.memory', '8G'),\n",
    "                                   ('spark.master', 'local[2]'),\n",
    "                                   ('spark.app.name', 'PySpark DataFrame Demo')])\n",
    "spark = SparkSession.builder.config(conf=conf).getOrCreate()\n",
    "\n",
    "print (spark.version, pyspark.version.__version__)"
   ]
  },
  {
   "cell_type": "markdown",
   "id": "2696bb7f",
   "metadata": {},
   "source": [
    "### Load Data"
   ]
  },
  {
   "cell_type": "code",
   "execution_count": 3,
   "id": "75a63ad8",
   "metadata": {},
   "outputs": [
    {
     "name": "stderr",
     "output_type": "stream",
     "text": [
      "                                                                                \r"
     ]
    }
   ],
   "source": [
    "# Update the filepath\n",
    "\n",
    "#df = spark.read.csv('file:///home/work/project/mas-dse-230/Crimes_-_2001_to_Present.csv', header=True)\n",
    "df = spark.read.csv('file:///home/work/project/Crimes_-_2001_to_Present.csv', header=True) "
   ]
  },
  {
   "cell_type": "markdown",
   "id": "56f5fce7",
   "metadata": {},
   "source": [
    "1. data cleaning\n",
    "2. features used\n",
    "3. train/validation/test sets\n",
    "4. analysis approach\n",
    "    <br>a. input: cleaned, filtered training data\n",
    "    <br>b. setup: create model, cross-validate for hyperparameters\n",
    "    <br>c. output: final model, predictions, scores\n",
    "5. challenges encountered\n",
    "6. post-model analysis, discussion of results"
   ]
  },
  {
   "cell_type": "markdown",
   "id": "f9553b11",
   "metadata": {},
   "source": [
    "### Data Cleanup & Feature Preparation"
   ]
  },
  {
   "cell_type": "code",
   "execution_count": 4,
   "id": "d0928b7f",
   "metadata": {},
   "outputs": [
    {
     "data": {
      "text/plain": [
       "['ID',\n",
       " 'Case Number',\n",
       " 'Date',\n",
       " 'Block',\n",
       " 'IUCR',\n",
       " 'Primary Type',\n",
       " 'Description',\n",
       " 'Location Description',\n",
       " 'Arrest',\n",
       " 'Domestic',\n",
       " 'Beat',\n",
       " 'District',\n",
       " 'Ward',\n",
       " 'Community Area',\n",
       " 'FBI Code',\n",
       " 'X Coordinate',\n",
       " 'Y Coordinate',\n",
       " 'Year',\n",
       " 'Updated On',\n",
       " 'Latitude',\n",
       " 'Longitude',\n",
       " 'Location',\n",
       " 'Historical Wards 2003-2015',\n",
       " 'Zip Codes',\n",
       " 'Community Areas',\n",
       " 'Census Tracts',\n",
       " 'Wards',\n",
       " 'Boundaries - ZIP Codes',\n",
       " 'Police Districts',\n",
       " 'Police Beats']"
      ]
     },
     "execution_count": 4,
     "metadata": {},
     "output_type": "execute_result"
    }
   ],
   "source": [
    "df.columns"
   ]
  },
  {
   "cell_type": "code",
   "execution_count": 5,
   "id": "77f48779",
   "metadata": {},
   "outputs": [],
   "source": [
    "from pyspark.sql.functions import regexp_replace\n",
    "\n",
    "new_cats = {'CRIM SEXUAL ASSAULT':'CRIMINAL SEXUAL ASSAULT','NON-CRIMINAL (SUBJECT SPECIFIED)':'NON-CRIMINAL', 'NON - CRIMINAL':'NON-CRIMINAL',\n",
    "            'OTHER NARCOTIC VIOLATION':'NARCOTICS','PUBLIC INDECENCY':'PUBLIC INDECENCY/OBSCENITY', 'OBSCENITY':'PUBLIC INDECENCY/OBSCENITY'}\n",
    "\n",
    "for i in new_cats:\n",
    "    df = df.replace(i,new_cats[i],\"Primary Type\")"
   ]
  },
  {
   "cell_type": "code",
   "execution_count": 6,
   "id": "4d243a91",
   "metadata": {},
   "outputs": [
    {
     "name": "stderr",
     "output_type": "stream",
     "text": [
      "2023-06-02 23:52:00,109 WARN util.package: Truncated the string representation of a plan since it was too large. This behavior can be adjusted by setting 'spark.sql.debug.maxToStringFields'.\n",
      "                                                                                \r"
     ]
    },
    {
     "data": {
      "text/html": [
       "<div>\n",
       "<style scoped>\n",
       "    .dataframe tbody tr th:only-of-type {\n",
       "        vertical-align: middle;\n",
       "    }\n",
       "\n",
       "    .dataframe tbody tr th {\n",
       "        vertical-align: top;\n",
       "    }\n",
       "\n",
       "    .dataframe thead th {\n",
       "        text-align: right;\n",
       "    }\n",
       "</style>\n",
       "<table border=\"1\" class=\"dataframe\">\n",
       "  <thead>\n",
       "    <tr style=\"text-align: right;\">\n",
       "      <th></th>\n",
       "      <th>ID</th>\n",
       "      <th>Case Number</th>\n",
       "      <th>Date</th>\n",
       "      <th>Block</th>\n",
       "      <th>IUCR</th>\n",
       "      <th>Primary Type</th>\n",
       "      <th>Description</th>\n",
       "      <th>Location Description</th>\n",
       "      <th>Arrest</th>\n",
       "      <th>Domestic</th>\n",
       "      <th>...</th>\n",
       "      <th>Longitude</th>\n",
       "      <th>Location</th>\n",
       "      <th>Historical Wards 2003-2015</th>\n",
       "      <th>Zip Codes</th>\n",
       "      <th>Community Areas</th>\n",
       "      <th>Census Tracts</th>\n",
       "      <th>Wards</th>\n",
       "      <th>Boundaries - ZIP Codes</th>\n",
       "      <th>Police Districts</th>\n",
       "      <th>Police Beats</th>\n",
       "    </tr>\n",
       "  </thead>\n",
       "  <tbody>\n",
       "    <tr>\n",
       "      <th>0</th>\n",
       "      <td>7781750</td>\n",
       "      <td>7781746</td>\n",
       "      <td>7781750</td>\n",
       "      <td>7781750</td>\n",
       "      <td>7781750</td>\n",
       "      <td>7781750</td>\n",
       "      <td>7781750</td>\n",
       "      <td>7771393</td>\n",
       "      <td>7781750</td>\n",
       "      <td>7781750</td>\n",
       "      <td>...</td>\n",
       "      <td>7695035</td>\n",
       "      <td>7695035</td>\n",
       "      <td>7672323</td>\n",
       "      <td>7695035</td>\n",
       "      <td>7675422</td>\n",
       "      <td>7677558</td>\n",
       "      <td>7675539</td>\n",
       "      <td>7675475</td>\n",
       "      <td>7676590</td>\n",
       "      <td>7676613</td>\n",
       "    </tr>\n",
       "  </tbody>\n",
       "</table>\n",
       "<p>1 rows × 30 columns</p>\n",
       "</div>"
      ],
      "text/plain": [
       "        ID  Case Number     Date    Block     IUCR  Primary Type  Description  \\\n",
       "0  7781750      7781746  7781750  7781750  7781750       7781750      7781750   \n",
       "\n",
       "   Location Description   Arrest  Domestic  ...  Longitude  Location  \\\n",
       "0               7771393  7781750   7781750  ...    7695035   7695035   \n",
       "\n",
       "   Historical Wards 2003-2015  Zip Codes  Community Areas  Census Tracts  \\\n",
       "0                     7672323    7695035          7675422        7677558   \n",
       "\n",
       "     Wards  Boundaries - ZIP Codes  Police Districts  Police Beats  \n",
       "0  7675539                 7675475           7676590       7676613  \n",
       "\n",
       "[1 rows x 30 columns]"
      ]
     },
     "execution_count": 6,
     "metadata": {},
     "output_type": "execute_result"
    }
   ],
   "source": [
    "## Drop NAs\n",
    "\n",
    "df.select([count(when(col(c).isNotNull(), c)).alias(c) for c in df.columns]).toPandas()"
   ]
  },
  {
   "cell_type": "code",
   "execution_count": 7,
   "id": "fbc7cc47",
   "metadata": {},
   "outputs": [
    {
     "name": "stderr",
     "output_type": "stream",
     "text": [
      "                                                                                \r"
     ]
    },
    {
     "data": {
      "text/html": [
       "<div>\n",
       "<style scoped>\n",
       "    .dataframe tbody tr th:only-of-type {\n",
       "        vertical-align: middle;\n",
       "    }\n",
       "\n",
       "    .dataframe tbody tr th {\n",
       "        vertical-align: top;\n",
       "    }\n",
       "\n",
       "    .dataframe thead th {\n",
       "        text-align: right;\n",
       "    }\n",
       "</style>\n",
       "<table border=\"1\" class=\"dataframe\">\n",
       "  <thead>\n",
       "    <tr style=\"text-align: right;\">\n",
       "      <th></th>\n",
       "      <th>Year</th>\n",
       "      <th>count</th>\n",
       "      <th>count_after</th>\n",
       "      <th>prop_kept</th>\n",
       "    </tr>\n",
       "  </thead>\n",
       "  <tbody>\n",
       "    <tr>\n",
       "      <th>19</th>\n",
       "      <td>2001</td>\n",
       "      <td>485878</td>\n",
       "      <td>3885</td>\n",
       "      <td>0.007996</td>\n",
       "    </tr>\n",
       "    <tr>\n",
       "      <th>8</th>\n",
       "      <td>2002</td>\n",
       "      <td>486802</td>\n",
       "      <td>343581</td>\n",
       "      <td>0.705792</td>\n",
       "    </tr>\n",
       "    <tr>\n",
       "      <th>21</th>\n",
       "      <td>2003</td>\n",
       "      <td>475979</td>\n",
       "      <td>469978</td>\n",
       "      <td>0.987392</td>\n",
       "    </tr>\n",
       "    <tr>\n",
       "      <th>12</th>\n",
       "      <td>2004</td>\n",
       "      <td>469421</td>\n",
       "      <td>465257</td>\n",
       "      <td>0.991129</td>\n",
       "    </tr>\n",
       "    <tr>\n",
       "      <th>7</th>\n",
       "      <td>2005</td>\n",
       "      <td>453771</td>\n",
       "      <td>448002</td>\n",
       "      <td>0.987287</td>\n",
       "    </tr>\n",
       "    <tr>\n",
       "      <th>11</th>\n",
       "      <td>2006</td>\n",
       "      <td>448174</td>\n",
       "      <td>443609</td>\n",
       "      <td>0.989814</td>\n",
       "    </tr>\n",
       "    <tr>\n",
       "      <th>16</th>\n",
       "      <td>2007</td>\n",
       "      <td>437084</td>\n",
       "      <td>433874</td>\n",
       "      <td>0.992656</td>\n",
       "    </tr>\n",
       "    <tr>\n",
       "      <th>15</th>\n",
       "      <td>2008</td>\n",
       "      <td>427167</td>\n",
       "      <td>418048</td>\n",
       "      <td>0.978652</td>\n",
       "    </tr>\n",
       "    <tr>\n",
       "      <th>10</th>\n",
       "      <td>2009</td>\n",
       "      <td>392819</td>\n",
       "      <td>384159</td>\n",
       "      <td>0.977954</td>\n",
       "    </tr>\n",
       "    <tr>\n",
       "      <th>20</th>\n",
       "      <td>2010</td>\n",
       "      <td>370496</td>\n",
       "      <td>368307</td>\n",
       "      <td>0.994092</td>\n",
       "    </tr>\n",
       "    <tr>\n",
       "      <th>13</th>\n",
       "      <td>2011</td>\n",
       "      <td>351963</td>\n",
       "      <td>349473</td>\n",
       "      <td>0.992925</td>\n",
       "    </tr>\n",
       "    <tr>\n",
       "      <th>2</th>\n",
       "      <td>2012</td>\n",
       "      <td>336261</td>\n",
       "      <td>333752</td>\n",
       "      <td>0.992539</td>\n",
       "    </tr>\n",
       "    <tr>\n",
       "      <th>6</th>\n",
       "      <td>2013</td>\n",
       "      <td>307468</td>\n",
       "      <td>305056</td>\n",
       "      <td>0.992155</td>\n",
       "    </tr>\n",
       "    <tr>\n",
       "      <th>5</th>\n",
       "      <td>2014</td>\n",
       "      <td>275731</td>\n",
       "      <td>272528</td>\n",
       "      <td>0.988384</td>\n",
       "    </tr>\n",
       "    <tr>\n",
       "      <th>18</th>\n",
       "      <td>2015</td>\n",
       "      <td>264755</td>\n",
       "      <td>256729</td>\n",
       "      <td>0.969685</td>\n",
       "    </tr>\n",
       "    <tr>\n",
       "      <th>0</th>\n",
       "      <td>2016</td>\n",
       "      <td>269786</td>\n",
       "      <td>265315</td>\n",
       "      <td>0.983428</td>\n",
       "    </tr>\n",
       "    <tr>\n",
       "      <th>4</th>\n",
       "      <td>2017</td>\n",
       "      <td>269069</td>\n",
       "      <td>263037</td>\n",
       "      <td>0.977582</td>\n",
       "    </tr>\n",
       "    <tr>\n",
       "      <th>9</th>\n",
       "      <td>2018</td>\n",
       "      <td>268770</td>\n",
       "      <td>261666</td>\n",
       "      <td>0.973568</td>\n",
       "    </tr>\n",
       "    <tr>\n",
       "      <th>3</th>\n",
       "      <td>2019</td>\n",
       "      <td>261244</td>\n",
       "      <td>256919</td>\n",
       "      <td>0.983445</td>\n",
       "    </tr>\n",
       "    <tr>\n",
       "      <th>1</th>\n",
       "      <td>2020</td>\n",
       "      <td>212087</td>\n",
       "      <td>206406</td>\n",
       "      <td>0.973214</td>\n",
       "    </tr>\n",
       "    <tr>\n",
       "      <th>17</th>\n",
       "      <td>2021</td>\n",
       "      <td>208563</td>\n",
       "      <td>201260</td>\n",
       "      <td>0.964984</td>\n",
       "    </tr>\n",
       "    <tr>\n",
       "      <th>14</th>\n",
       "      <td>2022</td>\n",
       "      <td>238133</td>\n",
       "      <td>231311</td>\n",
       "      <td>0.971352</td>\n",
       "    </tr>\n",
       "    <tr>\n",
       "      <th>22</th>\n",
       "      <td>2023</td>\n",
       "      <td>70329</td>\n",
       "      <td>69285</td>\n",
       "      <td>0.985155</td>\n",
       "    </tr>\n",
       "  </tbody>\n",
       "</table>\n",
       "</div>"
      ],
      "text/plain": [
       "    Year   count  count_after  prop_kept\n",
       "19  2001  485878         3885   0.007996\n",
       "8   2002  486802       343581   0.705792\n",
       "21  2003  475979       469978   0.987392\n",
       "12  2004  469421       465257   0.991129\n",
       "7   2005  453771       448002   0.987287\n",
       "11  2006  448174       443609   0.989814\n",
       "16  2007  437084       433874   0.992656\n",
       "15  2008  427167       418048   0.978652\n",
       "10  2009  392819       384159   0.977954\n",
       "20  2010  370496       368307   0.994092\n",
       "13  2011  351963       349473   0.992925\n",
       "2   2012  336261       333752   0.992539\n",
       "6   2013  307468       305056   0.992155\n",
       "5   2014  275731       272528   0.988384\n",
       "18  2015  264755       256729   0.969685\n",
       "0   2016  269786       265315   0.983428\n",
       "4   2017  269069       263037   0.977582\n",
       "9   2018  268770       261666   0.973568\n",
       "3   2019  261244       256919   0.983445\n",
       "1   2020  212087       206406   0.973214\n",
       "17  2021  208563       201260   0.964984\n",
       "14  2022  238133       231311   0.971352\n",
       "22  2023   70329        69285   0.985155"
      ]
     },
     "execution_count": 7,
     "metadata": {},
     "output_type": "execute_result"
    }
   ],
   "source": [
    "# Count number of NAs for each Year to see if there is any correlation between NA values and year\n",
    "columns = pd.Series(df.columns)\n",
    "columns = columns[columns != 'Year']\n",
    "before_year_na = df.groupBy('Year').count().toPandas()\n",
    "df2 = df.dropna()\n",
    "after_year_na = df2.groupBy('Year').count().toPandas()\n",
    "after_year_na.columns = ['Year', 'count_after']\n",
    "final_na_counts = before_year_na.merge(after_year_na, on='Year')\n",
    "final_na_counts['prop_kept'] = final_na_counts['count_after'] / final_na_counts['count']\n",
    "final_na_counts = final_na_counts.sort_values(by='Year')\n",
    "final_na_counts"
   ]
  },
  {
   "cell_type": "code",
   "execution_count": 8,
   "id": "03c21d2c",
   "metadata": {},
   "outputs": [
    {
     "name": "stdout",
     "output_type": "stream",
     "text": [
      "+--------------------+---------------+--------------------+--------------------+--------+----+--------+----+---------+------+\n",
      "|                Date|   Primary Type|         Description|Location Description|Domestic|Beat|District|Ward|Zip Codes|Arrest|\n",
      "+--------------------+---------------+--------------------+--------------------+--------+----+--------+----+---------+------+\n",
      "|09/05/2015 01:30:...|        BATTERY|DOMESTIC BATTERY ...|           RESIDENCE|    true|0924|     009|  12|    14924| false|\n",
      "|09/04/2015 11:30:...|          THEFT|      POCKET-PICKING|             CTA BUS|   false|1511|     015|  29|     4299| false|\n",
      "|09/05/2015 12:45:...|      NARCOTICS|POSS: HEROIN(BRN/...|            SIDEWALK|   false|1412|     014|  35|    21538|  true|\n",
      "|09/05/2015 01:00:...|        ASSAULT|              SIMPLE|           APARTMENT|    true|1522|     015|  28|    22216| false|\n",
      "|09/05/2015 10:55:...|       BURGLARY|      FORCIBLE ENTRY|           RESIDENCE|   false|0614|     006|  21|    21554| false|\n",
      "|09/04/2015 06:00:...|       BURGLARY|      UNLAWFUL ENTRY|    RESIDENCE-GARAGE|   false|1434|     014|  32|    22535| false|\n",
      "|09/05/2015 01:00:...|          THEFT|        RETAIL THEFT|  GROCERY FOOD STORE|   false|1034|     010|  25|    14920|  true|\n",
      "|09/05/2015 11:30:...|        ROBBERY|STRONGARM - NO WE...|              STREET|    true|1222|     012|  27|    21184| false|\n",
      "|09/05/2015 02:00:...|          THEFT|      $500 AND UNDER|PARKING LOT/GARAG...|   false|0833|     008|  13|    21867| false|\n",
      "|09/05/2015 11:00:...|        BATTERY|              SIMPLE|  SMALL RETAIL STORE|   false|1623|     016|  45|    21869| false|\n",
      "|09/05/2015 03:00:...|  OTHER OFFENSE|    TELEPHONE THREAT|           APARTMENT|    true|0512|     005|  34|    21861| false|\n",
      "|09/05/2015 12:50:...|        BATTERY|DOMESTIC BATTERY ...|              STREET|    true|0222|     002|   4|     4301| false|\n",
      "|09/03/2015 01:00:...|          THEFT|           OVER $500|              STREET|   false|1424|     014|   1|    21560| false|\n",
      "|09/05/2015 11:45:...|        BATTERY|AGGRAVATED DOMEST...|           APARTMENT|   false|0612|     006|  21|    21554| false|\n",
      "|09/05/2015 01:30:...|CRIMINAL DAMAGE|          TO VEHICLE|              STREET|   false|1531|     015|  28|    22216| false|\n",
      "|07/08/2015 12:00:...|       BURGLARY|      UNLAWFUL ENTRY|               OTHER|   false|0434|     004|  10|    21202| false|\n",
      "|09/05/2015 09:55:...|       BURGLARY|      FORCIBLE ENTRY|           RESIDENCE|   false|2221|     022|  21|    21554|  true|\n",
      "|09/05/2015 12:35:...|        BATTERY|DOMESTIC BATTERY ...|              STREET|    true|1633|     016|  38|    22254| false|\n",
      "|09/04/2015 10:30:...|CRIMINAL DAMAGE|          TO VEHICLE|              STREET|   false|0432|     004|  10|    21202| false|\n",
      "|09/02/2015 12:01:...|CRIMINAL DAMAGE|         TO PROPERTY|    RESIDENCE-GARAGE|   false|1623|     016|  45|    21869| false|\n",
      "+--------------------+---------------+--------------------+--------------------+--------+----+--------+----+---------+------+\n",
      "only showing top 20 rows\n",
      "\n"
     ]
    }
   ],
   "source": [
    "df_final = df2.select('Date', 'Primary Type', 'Description', 'Location Description', 'Domestic', 'Beat', 'District',\n",
    "                      'Ward', 'Zip Codes', 'Arrest')\n",
    "df_final = df_final.where('Year > 2002 AND Year < 2023')\n",
    "df_final.show()"
   ]
  },
  {
   "cell_type": "code",
   "execution_count": 9,
   "id": "eef6d3d6",
   "metadata": {},
   "outputs": [
    {
     "name": "stderr",
     "output_type": "stream",
     "text": [
      "                                                                                \r"
     ]
    },
    {
     "data": {
      "text/plain": [
       "6634686"
      ]
     },
     "execution_count": 9,
     "metadata": {},
     "output_type": "execute_result"
    }
   ],
   "source": [
    "df_length = df_final.count()\n",
    "df_length"
   ]
  },
  {
   "cell_type": "code",
   "execution_count": 10,
   "id": "e03d847d",
   "metadata": {},
   "outputs": [
    {
     "name": "stdout",
     "output_type": "stream",
     "text": [
      "root\n",
      " |-- Date: string (nullable = true)\n",
      " |-- Primary Type: string (nullable = true)\n",
      " |-- Description: string (nullable = true)\n",
      " |-- Location Description: string (nullable = true)\n",
      " |-- Domestic: string (nullable = true)\n",
      " |-- Beat: string (nullable = true)\n",
      " |-- District: string (nullable = true)\n",
      " |-- Ward: string (nullable = true)\n",
      " |-- Zip Codes: string (nullable = true)\n",
      " |-- Arrest: string (nullable = true)\n",
      "\n"
     ]
    }
   ],
   "source": [
    "df_final.printSchema()"
   ]
  },
  {
   "cell_type": "markdown",
   "id": "692caaa4",
   "metadata": {},
   "source": [
    "### Feature Creation"
   ]
  },
  {
   "cell_type": "code",
   "execution_count": 11,
   "id": "5bfd0df6",
   "metadata": {},
   "outputs": [
    {
     "name": "stderr",
     "output_type": "stream",
     "text": [
      "                                                                                \r"
     ]
    },
    {
     "data": {
      "text/plain": [
       "<Axes: xlabel='Month'>"
      ]
     },
     "execution_count": 11,
     "metadata": {},
     "output_type": "execute_result"
    },
    {
     "data": {
      "image/png": "[encoded data removed]",
      "text/plain": [
       "<Figure size 640x480 with 1 Axes>"
      ]
     },
     "metadata": {},
     "output_type": "display_data"
    }
   ],
   "source": [
    "# Make Month column\n",
    "df_final = df_final.withColumn('Month', substring('Date', 0, 2))\n",
    "df_final.groupBy('Month').count().toPandas().sort_values('Month').plot(x='Month', y='count')"
   ]
  },
  {
   "cell_type": "code",
   "execution_count": 12,
   "id": "a01314ba",
   "metadata": {},
   "outputs": [],
   "source": [
    "# Make Hour column\n",
    "df_final = df_final.withColumn('Hour', from_unixtime(unix_timestamp('Date','MM/dd/yyyy hh:mm:ss a'),'HH'))"
   ]
  },
  {
   "cell_type": "code",
   "execution_count": 13,
   "id": "d72fd440",
   "metadata": {},
   "outputs": [
    {
     "name": "stderr",
     "output_type": "stream",
     "text": [
      "                                                                                \r"
     ]
    },
    {
     "data": {
      "text/plain": [
       "<Axes: xlabel='Month'>"
      ]
     },
     "execution_count": 13,
     "metadata": {},
     "output_type": "execute_result"
    },
    {
     "data": {
      "image/png": "[encoded data removed]",
      "text/plain": [
       "<Figure size 640x480 with 1 Axes>"
      ]
     },
     "metadata": {},
     "output_type": "display_data"
    }
   ],
   "source": [
    "df_final = df_final.withColumn('Hour', substring('Date', 0, 2))\n",
    "df_final.groupBy('Month').count().toPandas().sort_values('Month').plot(x='Month', y='count')"
   ]
  },
  {
   "cell_type": "code",
   "execution_count": 14,
   "id": "6dbad1e9",
   "metadata": {},
   "outputs": [
    {
     "name": "stderr",
     "output_type": "stream",
     "text": [
      "[Stage 20:====================================================>   (15 + 1) / 16]\r"
     ]
    },
    {
     "name": "stdout",
     "output_type": "stream",
     "text": [
      "+--------------------+-------+\n",
      "|Location Description|  count|\n",
      "+--------------------+-------+\n",
      "|              STREET|1694152|\n",
      "|           RESIDENCE|1088377|\n",
      "|           APARTMENT| 788074|\n",
      "|            SIDEWALK| 656854|\n",
      "|               OTHER| 223113|\n",
      "|PARKING LOT/GARAG...| 169235|\n",
      "|               ALLEY| 148224|\n",
      "|  SMALL RETAIL STORE| 127645|\n",
      "|SCHOOL, PUBLIC, B...| 124179|\n",
      "|    RESIDENCE-GARAGE| 114583|\n",
      "+--------------------+-------+\n",
      "only showing top 10 rows\n",
      "\n"
     ]
    },
    {
     "name": "stderr",
     "output_type": "stream",
     "text": [
      "                                                                                \r"
     ]
    }
   ],
   "source": [
    "# Check the Location Description field\n",
    "df_final.groupBy('Location Description').count().orderBy('count', ascending=False).show(10)"
   ]
  },
  {
   "cell_type": "code",
   "execution_count": 15,
   "id": "61a0eab2",
   "metadata": {},
   "outputs": [
    {
     "name": "stderr",
     "output_type": "stream",
     "text": [
      "                                                                                \r"
     ]
    },
    {
     "name": "stdout",
     "output_type": "stream",
     "text": [
      "538\n"
     ]
    },
    {
     "name": "stderr",
     "output_type": "stream",
     "text": [
      "[Stage 29:====================================================>   (15 + 1) / 16]\r"
     ]
    },
    {
     "name": "stdout",
     "output_type": "stream",
     "text": [
      "466\n"
     ]
    },
    {
     "name": "stderr",
     "output_type": "stream",
     "text": [
      "                                                                                \r"
     ]
    }
   ],
   "source": [
    "# Clean up Description field to reduce number of values in the field\n",
    "\n",
    "print(df_final.select('Description').distinct().count())\n",
    "mappings = {\n",
    "    'AGGRAVATED':'AGG',\n",
    "    'ATTEMPT':'ATT',\n",
    "    'CRIMINAL':'CRIM',\n",
    "    'POSSESSION':'POSS',\n",
    "    'POS ':'POSS',\n",
    "    'POSESS:':'POSS ',\n",
    "    'POSESS ':'POSS ',    \n",
    "    'REGISTRATION':'REG',\n",
    "    'PRO. ':'PROFESSIONAL ',\n",
    "    'PO ': 'POLICE OFFICER ',\n",
    "    'P.O.':'POLICE OFFICER',\n",
    "    'RITUAL': 'RIT',\n",
    "    'MUTILATION':'MUT',\n",
    "    'INSTRUMENT':'INSTR',\n",
    "    'MANU/DEL:':'MANUFACTURE DELIVER',\n",
    "    'MANU/DELIVER:':'MANUFACTURE DELIVER',\n",
    "    'MANUFACTURE / DELIVER':'MANUFACTURE DELIVER'\n",
    "}\n",
    "replacement_expr = col('Description')\n",
    "for k, v in mappings.items():\n",
    "    replacement_expr = regexp_replace(replacement_expr, k, v)\n",
    "df_final = df_final.withColumn('Description', replacement_expr)\n",
    "df_final = df_final.withColumn('Description', regexp_replace(df_final['Description'], '[^A-Za-z0-9]', ''))\n",
    "print(df_final.select('Description').distinct().count())"
   ]
  },
  {
   "cell_type": "code",
   "execution_count": 16,
   "id": "f2ba6bd8",
   "metadata": {},
   "outputs": [],
   "source": [
    "# Recast Arrest field into boolean\n",
    "df_final = df_final.withColumn('Arrest', col('Arrest').cast('boolean').cast('int'))"
   ]
  },
  {
   "cell_type": "markdown",
   "id": "3a992f2d",
   "metadata": {},
   "source": [
    "### Train/Test Split Data\n",
    "We will use train-validation split for hyperparameter tuning, but we need to pass a train_df into the the pipeline and test it on a holdout set."
   ]
  },
  {
   "cell_type": "code",
   "execution_count": 17,
   "id": "724f0ee4",
   "metadata": {},
   "outputs": [],
   "source": [
    "# Create train/test dataset\n",
    "\n",
    "df_train, df_test = df_final.randomSplit([0.80, 0.20], seed = 42)"
   ]
  },
  {
   "cell_type": "code",
   "execution_count": 18,
   "id": "f05e6fb6",
   "metadata": {},
   "outputs": [
    {
     "name": "stderr",
     "output_type": "stream",
     "text": [
      "                                                                                \r"
     ]
    },
    {
     "name": "stdout",
     "output_type": "stream",
     "text": [
      "5307677 12\n"
     ]
    },
    {
     "name": "stderr",
     "output_type": "stream",
     "text": [
      "[Stage 38:====================================================>   (15 + 1) / 16]\r"
     ]
    },
    {
     "name": "stdout",
     "output_type": "stream",
     "text": [
      "1327009 12\n"
     ]
    },
    {
     "name": "stderr",
     "output_type": "stream",
     "text": [
      "                                                                                \r"
     ]
    }
   ],
   "source": [
    "# Check the size\n",
    "\n",
    "print(df_train.count(),len(df_train.columns))\n",
    "print(df_test.count(),len(df_test.columns))"
   ]
  },
  {
   "cell_type": "markdown",
   "id": "63e7b1f1",
   "metadata": {},
   "source": [
    "### Build Logistic Regression model"
   ]
  },
  {
   "cell_type": "code",
   "execution_count": 19,
   "id": "b797f44b",
   "metadata": {},
   "outputs": [],
   "source": [
    "# From https://spark.apache.org/docs/latest/api/python/reference/api/pyspark.ml.tuning.TrainValidationSplit.html\n",
    "from pyspark.ml import Pipeline\n",
    "from pyspark.ml.feature import OneHotEncoder, StringIndexer, VectorAssembler\n",
    "from pyspark.ml.classification import LogisticRegression, DecisionTreeClassifier, RandomForestClassifier\n",
    "from pyspark.ml.evaluation import BinaryClassificationEvaluator\n",
    "from pyspark.ml.linalg import Vectors\n",
    "from pyspark.ml.tuning import TrainValidationSplit, ParamGridBuilder\n",
    "from pyspark.ml.tuning import TrainValidationSplitModel\n",
    "import tempfile"
   ]
  },
  {
   "cell_type": "code",
   "execution_count": 20,
   "id": "8cd01a76",
   "metadata": {
    "tags": []
   },
   "outputs": [
    {
     "name": "stderr",
     "output_type": "stream",
     "text": [
      "2023-06-03 00:13:09,957 WARN memory.MemoryStore: Not enough space to cache rdd_150_5 in memory! (computed 25.0 MiB so far)\n",
      "2023-06-03 00:13:09,969 WARN storage.BlockManager: Persisting block rdd_150_5 to disk instead.\n",
      "2023-06-03 00:14:36,767 WARN memory.MemoryStore: Failed to reserve initial memory threshold of 1024.0 KiB for computing block rdd_150_4 in memory.\n",
      "2023-06-03 00:14:36,769 WARN memory.MemoryStore: Not enough space to cache rdd_150_4 in memory! (computed 384.0 B so far)\n",
      "2023-06-03 00:14:37,179 WARN memory.MemoryStore: Failed to reserve initial memory threshold of 1024.0 KiB for computing block rdd_150_5 in memory.\n",
      "2023-06-03 00:14:37,181 WARN memory.MemoryStore: Not enough space to cache rdd_150_5 in memory! (computed 384.0 B so far)\n",
      "2023-06-03 00:14:37,608 WARN memory.MemoryStore: Failed to reserve initial memory threshold of 1024.0 KiB for computing block rdd_150_6 in memory.\n",
      "2023-06-03 00:14:37,611 WARN memory.MemoryStore: Not enough space to cache rdd_150_6 in memory! (computed 384.0 B so far)\n",
      "2023-06-03 00:14:37,984 WARN memory.MemoryStore: Failed to reserve initial memory threshold of 1024.0 KiB for computing block rdd_150_7 in memory.\n",
      "2023-06-03 00:14:37,987 WARN memory.MemoryStore: Not enough space to cache rdd_150_7 in memory! (computed 384.0 B so far)\n",
      "2023-06-03 00:14:38,424 WARN memory.MemoryStore: Not enough space to cache rdd_150_8 in memory! (computed 25.1 MiB so far)\n",
      "2023-06-03 00:14:45,878 WARN memory.MemoryStore: Not enough space to cache rdd_150_14 in memory! (computed 25.1 MiB so far)\n",
      "2023-06-03 00:14:45,878 WARN storage.BlockManager: Persisting block rdd_150_14 to disk instead.\n",
      "2023-06-03 00:14:48,898 WARN netlib.InstanceBuilder$NativeBLAS: Failed to load implementation from:dev.ludovic.netlib.blas.JNIBLAS\n",
      "2023-06-03 00:14:48,902 WARN netlib.InstanceBuilder$NativeBLAS: Failed to load implementation from:dev.ludovic.netlib.blas.ForeignLinkerBLAS\n",
      "2023-06-03 00:14:49,252 WARN memory.MemoryStore: Not enough space to cache rdd_150_5 in memory! (computed 25.0 MiB so far)\n",
      "2023-06-03 00:14:50,095 WARN memory.MemoryStore: Not enough space to cache rdd_150_7 in memory! (computed 25.1 MiB so far)\n",
      "2023-06-03 00:14:50,918 WARN memory.MemoryStore: Not enough space to cache rdd_150_9 in memory! (computed 25.1 MiB so far)\n",
      "2023-06-03 00:14:51,793 WARN memory.MemoryStore: Not enough space to cache rdd_150_11 in memory! (computed 25.1 MiB so far)\n",
      "2023-06-03 00:14:53,291 WARN memory.MemoryStore: Not enough space to cache rdd_150_14 in memory! (computed 25.1 MiB so far)\n",
      "2023-06-03 00:14:56,193 WARN memory.MemoryStore: Not enough space to cache rdd_150_7 in memory! (computed 25.1 MiB so far)\n",
      "2023-06-03 00:14:58,948 WARN memory.MemoryStore: Not enough space to cache rdd_150_14 in memory! (computed 25.1 MiB so far)\n",
      "2023-06-03 00:17:22,279 WARN memory.MemoryStore: Not enough space to cache rdd_150_10 in memory! (computed 24.8 MiB so far)\n",
      "2023-06-03 00:17:22,356 WARN memory.MemoryStore: Not enough space to cache rdd_150_11 in memory! (computed 25.1 MiB so far)\n",
      "2023-06-03 00:17:22,713 WARN memory.MemoryStore: Not enough space to cache rdd_150_12 in memory! (computed 24.9 MiB so far)\n",
      "2023-06-03 00:17:23,152 WARN memory.MemoryStore: Not enough space to cache rdd_150_14 in memory! (computed 25.1 MiB so far)\n",
      "2023-06-03 00:17:24,884 WARN memory.MemoryStore: Not enough space to cache rdd_150_10 in memory! (computed 24.8 MiB so far)\n",
      "2023-06-03 00:17:24,958 WARN memory.MemoryStore: Not enough space to cache rdd_150_11 in memory! (computed 25.1 MiB so far)\n",
      "2023-06-03 00:17:25,306 WARN memory.MemoryStore: Not enough space to cache rdd_150_12 in memory! (computed 24.9 MiB so far)\n",
      "2023-06-03 00:17:25,725 WARN memory.MemoryStore: Not enough space to cache rdd_150_14 in memory! (computed 25.1 MiB so far)\n",
      "2023-06-03 00:17:30,010 WARN memory.MemoryStore: Not enough space to cache rdd_150_13 in memory! (computed 24.9 MiB so far)\n",
      "2023-06-03 00:17:31,688 WARN netlib.BLAS: Failed to load implementation from: com.github.fommil.netlib.NativeSystemBLAS\n",
      "2023-06-03 00:17:31,689 WARN netlib.BLAS: Failed to load implementation from: com.github.fommil.netlib.NativeRefBLAS\n",
      "2023-06-03 00:17:32,951 WARN memory.MemoryStore: Not enough space to cache rdd_150_7 in memory! (computed 25.1 MiB so far)\n",
      "2023-06-03 00:17:33,764 WARN memory.MemoryStore: Not enough space to cache rdd_150_9 in memory! (computed 25.1 MiB so far)\n",
      "2023-06-03 00:17:34,589 WARN memory.MemoryStore: Not enough space to cache rdd_150_11 in memory! (computed 25.1 MiB so far)\n",
      "2023-06-03 00:17:35,441 WARN memory.MemoryStore: Not enough space to cache rdd_150_13 in memory! (computed 24.9 MiB so far)\n",
      "2023-06-03 00:17:36,088 WARN memory.MemoryStore: Not enough space to cache rdd_150_14 in memory! (computed 25.1 MiB so far)\n",
      "2023-06-03 00:17:55,464 WARN memory.MemoryStore: Not enough space to cache rdd_150_11 in memory! (computed 25.1 MiB so far)\n",
      "2023-06-03 00:17:55,831 WARN memory.MemoryStore: Not enough space to cache rdd_150_12 in memory! (computed 24.9 MiB so far)\n",
      "2023-06-03 00:17:55,898 WARN memory.MemoryStore: Not enough space to cache rdd_150_13 in memory! (computed 24.9 MiB so far)\n",
      "2023-06-03 00:17:56,246 WARN memory.MemoryStore: Not enough space to cache rdd_150_14 in memory! (computed 25.1 MiB so far)\n",
      "2023-06-03 00:17:58,158 WARN memory.MemoryStore: Not enough space to cache rdd_150_11 in memory! (computed 25.1 MiB so far)\n",
      "2023-06-03 00:17:58,515 WARN memory.MemoryStore: Not enough space to cache rdd_150_12 in memory! (computed 24.9 MiB so far)\n",
      "2023-06-03 00:17:58,573 WARN memory.MemoryStore: Not enough space to cache rdd_150_13 in memory! (computed 24.9 MiB so far)\n",
      "2023-06-03 00:17:58,946 WARN memory.MemoryStore: Not enough space to cache rdd_150_14 in memory! (computed 25.1 MiB so far)\n",
      "2023-06-03 00:18:03,379 WARN memory.MemoryStore: Not enough space to cache rdd_150_13 in memory! (computed 24.9 MiB so far)\n",
      "2023-06-03 00:18:07,331 WARN memory.MemoryStore: Not enough space to cache rdd_150_10 in memory! (computed 24.8 MiB so far)\n",
      "2023-06-03 00:18:08,825 WARN memory.MemoryStore: Not enough space to cache rdd_150_14 in memory! (computed 25.1 MiB so far)\n",
      "2023-06-03 00:18:27,724 WARN memory.MemoryStore: Not enough space to cache rdd_150_11 in memory! (computed 25.1 MiB so far)\n",
      "2023-06-03 00:18:28,070 WARN memory.MemoryStore: Not enough space to cache rdd_150_12 in memory! (computed 24.9 MiB so far)\n",
      "2023-06-03 00:18:28,147 WARN memory.MemoryStore: Not enough space to cache rdd_150_13 in memory! (computed 24.9 MiB so far)\n",
      "2023-06-03 00:18:28,523 WARN memory.MemoryStore: Not enough space to cache rdd_150_14 in memory! (computed 25.1 MiB so far)\n",
      "2023-06-03 00:18:30,289 WARN memory.MemoryStore: Not enough space to cache rdd_150_11 in memory! (computed 25.1 MiB so far)\n",
      "2023-06-03 00:18:30,602 WARN memory.MemoryStore: Not enough space to cache rdd_150_12 in memory! (computed 24.9 MiB so far)\n",
      "2023-06-03 00:18:30,688 WARN memory.MemoryStore: Not enough space to cache rdd_150_13 in memory! (computed 24.9 MiB so far)\n",
      "2023-06-03 00:18:31,005 WARN memory.MemoryStore: Not enough space to cache rdd_150_14 in memory! (computed 25.1 MiB so far)\n",
      "2023-06-03 00:18:35,431 WARN memory.MemoryStore: Not enough space to cache rdd_150_13 in memory! (computed 24.9 MiB so far)\n",
      "2023-06-03 00:18:39,421 WARN memory.MemoryStore: Not enough space to cache rdd_150_10 in memory! (computed 24.8 MiB so far)\n",
      "2023-06-03 00:18:40,917 WARN memory.MemoryStore: Not enough space to cache rdd_150_14 in memory! (computed 25.1 MiB so far)\n",
      "2023-06-03 00:22:20,250 WARN memory.MemoryStore: Not enough space to cache rdd_764_7 in memory! (computed 17.0 MiB so far)\n",
      "2023-06-03 00:22:20,251 WARN storage.BlockManager: Persisting block rdd_764_7 to disk instead.\n",
      "                                                                                \r"
     ]
    }
   ],
   "source": [
    "# Feature Preparation -- need to encode some categorical variables\n",
    "cols = ['Primary Type', 'Description', 'Location Description', 'Ward', 'Month', 'Hour']\n",
    "\n",
    "indexers = [\n",
    "    StringIndexer(inputCol=c, handleInvalid='skip', outputCol='{0}_indexed'.format(c))\n",
    "    for c in cols\n",
    "]\n",
    "\n",
    "encoders = [\n",
    "    OneHotEncoder(\n",
    "        inputCol=indexer.getOutputCol(),\n",
    "        outputCol='{0}_encoded'.format(indexer.getOutputCol()))\n",
    "    for indexer in indexers\n",
    "]\n",
    "\n",
    "assembler = VectorAssembler(\n",
    "    inputCols=[encoder.getOutputCol() for encoder in encoders],\n",
    "    outputCol='features'\n",
    ")\n",
    "\n",
    "pipeline = Pipeline(stages=indexers + encoders + [assembler])\n",
    "model_lr = pipeline.fit(df_train)\n",
    "df_train_enc = model_lr.transform(df_train).select('features', 'Arrest')\n",
    "\n",
    "# Logistic Regressor\n",
    "lr = LogisticRegression(labelCol='Arrest')\n",
    "evaluator = BinaryClassificationEvaluator().setLabelCol('Arrest')\n",
    "\n",
    "# Build parameter grid\n",
    "grid = ParamGridBuilder().addGrid(lr.maxIter, [0, 1, 2, 5])\\\n",
    "    .addGrid(lr.regParam, [1, 2])\\\n",
    "    .build()\n",
    "\n",
    "# Train Validation Split - grid search\n",
    "lr_tvs = TrainValidationSplit(estimator=lr, estimatorParamMaps=grid, evaluator=evaluator,\n",
    "    parallelism=2, seed=42)\n",
    "lr_tvs_model = lr_tvs.fit(df_train_enc)\n",
    "\n",
    "# Write model\n",
    "model_path = 'file:///home/work/project/models/logreg'\n",
    "lr_tvs_model.write().overwrite().save(model_path)\n"
   ]
  },
  {
   "cell_type": "code",
   "execution_count": 21,
   "id": "075fb314",
   "metadata": {},
   "outputs": [],
   "source": [
    "from itertools import chain\n",
    "\n",
    "lrm = lr_tvs_model.bestModel\n",
    "\n",
    "attrs = sorted(\n",
    "    (attr[\"idx\"], attr[\"name\"]) for attr in (chain(*df_train_enc\n",
    "        .schema[lrm.summary.featuresCol]\n",
    "        .metadata[\"ml_attr\"][\"attrs\"].values())))\n",
    "\n",
    "coef_list = pd.Series([(name, lrm.coefficients[idx]) for idx, name in attrs])\n",
    "coef_list = pd.DataFrame({'Name': coef_list.apply(lambda x: x[0]), 'Coef': coef_list.apply(lambda x: x[1])})"
   ]
  },
  {
   "cell_type": "code",
   "execution_count": 22,
   "id": "0f909f0e",
   "metadata": {},
   "outputs": [
    {
     "name": "stdout",
     "output_type": "stream",
     "text": [
      "maxIter: 5\n",
      "regParam: 1.0\n",
      "intercept: -1.082302255555415\n"
     ]
    }
   ],
   "source": [
    "print('maxIter:', lrm\n",
    "    ._java_obj     # Get Java object\n",
    "    .parent()      # Get parent (ALS estimator)\n",
    "    .getMaxIter())\n",
    "print('regParam:', lrm\n",
    "    ._java_obj\n",
    "    .parent()\n",
    "    .getRegParam())\n",
    "print('intercept:', lrm.intercept)\n",
    "coef_list['Name'] = coef_list['Name'].str.replace('_indexed_encoded_', ': ')\n",
    "coef_sorted = coef_list.sort_values(by='Coef', ascending=False)"
   ]
  },
  {
   "cell_type": "code",
   "execution_count": 23,
   "id": "d0ff9e34",
   "metadata": {},
   "outputs": [
    {
     "data": {
      "text/html": [
       "<div>\n",
       "<style scoped>\n",
       "    .dataframe tbody tr th:only-of-type {\n",
       "        vertical-align: middle;\n",
       "    }\n",
       "\n",
       "    .dataframe tbody tr th {\n",
       "        vertical-align: top;\n",
       "    }\n",
       "\n",
       "    .dataframe thead th {\n",
       "        text-align: right;\n",
       "    }\n",
       "</style>\n",
       "<table border=\"1\" class=\"dataframe\">\n",
       "  <thead>\n",
       "    <tr style=\"text-align: right;\">\n",
       "      <th></th>\n",
       "      <th>Name</th>\n",
       "      <th>Coef</th>\n",
       "    </tr>\n",
       "  </thead>\n",
       "  <tbody>\n",
       "    <tr>\n",
       "      <th>477</th>\n",
       "      <td>Description: AGGPOOTHERDANGEROUSWEAPON</td>\n",
       "      <td>0.642371</td>\n",
       "    </tr>\n",
       "    <tr>\n",
       "      <th>445</th>\n",
       "      <td>Description: UNLAWFULUSEOFBODYARMOR</td>\n",
       "      <td>0.621045</td>\n",
       "    </tr>\n",
       "    <tr>\n",
       "      <th>465</th>\n",
       "      <td>Description: ARSONISTDUTYTOREGISTER</td>\n",
       "      <td>0.619262</td>\n",
       "    </tr>\n",
       "    <tr>\n",
       "      <th>169</th>\n",
       "      <td>Description: GUNOFFENDERANNUALREG</td>\n",
       "      <td>0.618824</td>\n",
       "    </tr>\n",
       "    <tr>\n",
       "      <th>447</th>\n",
       "      <td>Description: ARSONISTFAILTOREGISTERNEWADDRESS</td>\n",
       "      <td>0.618170</td>\n",
       "    </tr>\n",
       "    <tr>\n",
       "      <th>126</th>\n",
       "      <td>Description: PAROLEVIOLATION</td>\n",
       "      <td>0.615899</td>\n",
       "    </tr>\n",
       "    <tr>\n",
       "      <th>198</th>\n",
       "      <td>Description: GUNOFFENDERDUTYTOREGISTER</td>\n",
       "      <td>0.610852</td>\n",
       "    </tr>\n",
       "    <tr>\n",
       "      <th>294</th>\n",
       "      <td>Description: BOARDPLANEWITHWEAPON</td>\n",
       "      <td>0.602953</td>\n",
       "    </tr>\n",
       "    <tr>\n",
       "      <th>255</th>\n",
       "      <td>Description: GUNOFFENDERDUTYTOREPORTCHANGEOFINFORMATION</td>\n",
       "      <td>0.601409</td>\n",
       "    </tr>\n",
       "    <tr>\n",
       "      <th>680</th>\n",
       "      <td>Location Description: PUBLIC HIGH SCHOOL</td>\n",
       "      <td>0.579249</td>\n",
       "    </tr>\n",
       "    <tr>\n",
       "      <th>693</th>\n",
       "      <td>Location Description: LIVERY AUTO</td>\n",
       "      <td>0.578006</td>\n",
       "    </tr>\n",
       "    <tr>\n",
       "      <th>675</th>\n",
       "      <td>Location Description: BANQUET HALL</td>\n",
       "      <td>0.577072</td>\n",
       "    </tr>\n",
       "    <tr>\n",
       "      <th>692</th>\n",
       "      <td>Location Description: LAUNDRY ROOM</td>\n",
       "      <td>0.576216</td>\n",
       "    </tr>\n",
       "    <tr>\n",
       "      <th>688</th>\n",
       "      <td>Location Description: CTA SUBWAY STATION</td>\n",
       "      <td>0.574895</td>\n",
       "    </tr>\n",
       "    <tr>\n",
       "      <th>194</th>\n",
       "      <td>Description: UNLAWFULUSEOFRECORDEDSOUND</td>\n",
       "      <td>0.573203</td>\n",
       "    </tr>\n",
       "    <tr>\n",
       "      <th>683</th>\n",
       "      <td>Location Description: YMCA</td>\n",
       "      <td>0.572907</td>\n",
       "    </tr>\n",
       "    <tr>\n",
       "      <th>687</th>\n",
       "      <td>Location Description: COACH HOUSE</td>\n",
       "      <td>0.572801</td>\n",
       "    </tr>\n",
       "    <tr>\n",
       "      <th>690</th>\n",
       "      <td>Location Description: GOVERNMENT BUILDING</td>\n",
       "      <td>0.572482</td>\n",
       "    </tr>\n",
       "    <tr>\n",
       "      <th>672</th>\n",
       "      <td>Location Description: CHA PLAY LOT</td>\n",
       "      <td>0.570872</td>\n",
       "    </tr>\n",
       "    <tr>\n",
       "      <th>370</th>\n",
       "      <td>Description: RECKLESSHOMICIDE</td>\n",
       "      <td>0.567866</td>\n",
       "    </tr>\n",
       "  </tbody>\n",
       "</table>\n",
       "</div>"
      ],
      "text/plain": [
       "                                                        Name      Coef\n",
       "477                   Description: AGGPOOTHERDANGEROUSWEAPON  0.642371\n",
       "445                      Description: UNLAWFULUSEOFBODYARMOR  0.621045\n",
       "465                      Description: ARSONISTDUTYTOREGISTER  0.619262\n",
       "169                        Description: GUNOFFENDERANNUALREG  0.618824\n",
       "447            Description: ARSONISTFAILTOREGISTERNEWADDRESS  0.618170\n",
       "126                             Description: PAROLEVIOLATION  0.615899\n",
       "198                   Description: GUNOFFENDERDUTYTOREGISTER  0.610852\n",
       "294                        Description: BOARDPLANEWITHWEAPON  0.602953\n",
       "255  Description: GUNOFFENDERDUTYTOREPORTCHANGEOFINFORMATION  0.601409\n",
       "680                 Location Description: PUBLIC HIGH SCHOOL  0.579249\n",
       "693                        Location Description: LIVERY AUTO  0.578006\n",
       "675                       Location Description: BANQUET HALL  0.577072\n",
       "692                       Location Description: LAUNDRY ROOM  0.576216\n",
       "688                 Location Description: CTA SUBWAY STATION  0.574895\n",
       "194                  Description: UNLAWFULUSEOFRECORDEDSOUND  0.573203\n",
       "683                               Location Description: YMCA  0.572907\n",
       "687                        Location Description: COACH HOUSE  0.572801\n",
       "690                Location Description: GOVERNMENT BUILDING  0.572482\n",
       "672                       Location Description: CHA PLAY LOT  0.570872\n",
       "370                            Description: RECKLESSHOMICIDE  0.567866"
      ]
     },
     "execution_count": 23,
     "metadata": {},
     "output_type": "execute_result"
    }
   ],
   "source": [
    "pd.set_option('max_colwidth', 1000)\n",
    "coef_sorted[:20]"
   ]
  },
  {
   "cell_type": "code",
   "execution_count": 24,
   "id": "003c645c",
   "metadata": {},
   "outputs": [
    {
     "data": {
      "text/html": [
       "<div>\n",
       "<style scoped>\n",
       "    .dataframe tbody tr th:only-of-type {\n",
       "        vertical-align: middle;\n",
       "    }\n",
       "\n",
       "    .dataframe tbody tr th {\n",
       "        vertical-align: top;\n",
       "    }\n",
       "\n",
       "    .dataframe thead th {\n",
       "        text-align: right;\n",
       "    }\n",
       "</style>\n",
       "<table border=\"1\" class=\"dataframe\">\n",
       "  <thead>\n",
       "    <tr style=\"text-align: right;\">\n",
       "      <th></th>\n",
       "      <th>Name</th>\n",
       "      <th>Coef</th>\n",
       "    </tr>\n",
       "  </thead>\n",
       "  <tbody>\n",
       "    <tr>\n",
       "      <th>479</th>\n",
       "      <td>Description: AGGRITMUTKNIFECUTTINGI</td>\n",
       "      <td>-0.211606</td>\n",
       "    </tr>\n",
       "    <tr>\n",
       "      <th>482</th>\n",
       "      <td>Description: ATTAGGOTHERFIREARM</td>\n",
       "      <td>-0.214488</td>\n",
       "    </tr>\n",
       "    <tr>\n",
       "      <th>408</th>\n",
       "      <td>Description: AGGOFANUNBORNCHILD</td>\n",
       "      <td>-0.218683</td>\n",
       "    </tr>\n",
       "    <tr>\n",
       "      <th>464</th>\n",
       "      <td>Description: AGGRITMUTHANDSFISTFEETSERIOUSINJURY</td>\n",
       "      <td>-0.218751</td>\n",
       "    </tr>\n",
       "    <tr>\n",
       "      <th>489</th>\n",
       "      <td>Description: SECONDDEGREEMURDER</td>\n",
       "      <td>-0.220060</td>\n",
       "    </tr>\n",
       "    <tr>\n",
       "      <th>469</th>\n",
       "      <td>Description: SALEOFTOBACCOPOLICEOFFICERUCTSTOMINOR</td>\n",
       "      <td>-0.220295</td>\n",
       "    </tr>\n",
       "    <tr>\n",
       "      <th>488</th>\n",
       "      <td>Description: POLICEOFFICERECTEDEMPOLICEOFFICEREEHANDSNOMININJURY</td>\n",
       "      <td>-0.236273</td>\n",
       "    </tr>\n",
       "    <tr>\n",
       "      <th>478</th>\n",
       "      <td>Description: AGGRITMUTHANDSFISTSFEETSERIOUSINJURY</td>\n",
       "      <td>-0.236288</td>\n",
       "    </tr>\n",
       "    <tr>\n",
       "      <th>691</th>\n",
       "      <td>Location Description: LAGOON</td>\n",
       "      <td>-0.252593</td>\n",
       "    </tr>\n",
       "    <tr>\n",
       "      <th>694</th>\n",
       "      <td>Location Description: POLICE FACILITY</td>\n",
       "      <td>-0.256430</td>\n",
       "    </tr>\n",
       "    <tr>\n",
       "      <th>685</th>\n",
       "      <td>Location Description: CHURCH PROPERTY</td>\n",
       "      <td>-0.256999</td>\n",
       "    </tr>\n",
       "    <tr>\n",
       "      <th>681</th>\n",
       "      <td>Location Description: RIVER</td>\n",
       "      <td>-0.257887</td>\n",
       "    </tr>\n",
       "    <tr>\n",
       "      <th>264</th>\n",
       "      <td>Description: LOOTING</td>\n",
       "      <td>-0.258453</td>\n",
       "    </tr>\n",
       "    <tr>\n",
       "      <th>695</th>\n",
       "      <td>Location Description: PRAIRIE</td>\n",
       "      <td>-0.260579</td>\n",
       "    </tr>\n",
       "    <tr>\n",
       "      <th>678</th>\n",
       "      <td>Location Description: DUMPSTER</td>\n",
       "      <td>-0.263409</td>\n",
       "    </tr>\n",
       "    <tr>\n",
       "      <th>686</th>\n",
       "      <td>Location Description: CLEANERS/LAUNDROMAT</td>\n",
       "      <td>-0.267254</td>\n",
       "    </tr>\n",
       "    <tr>\n",
       "      <th>684</th>\n",
       "      <td>Location Description: CHA ELEVATOR</td>\n",
       "      <td>-0.267579</td>\n",
       "    </tr>\n",
       "    <tr>\n",
       "      <th>666</th>\n",
       "      <td>Location Description: CHURCH</td>\n",
       "      <td>-0.269317</td>\n",
       "    </tr>\n",
       "    <tr>\n",
       "      <th>696</th>\n",
       "      <td>Location Description: PUBLIC GRAMMAR SCHOOL</td>\n",
       "      <td>-0.276117</td>\n",
       "    </tr>\n",
       "    <tr>\n",
       "      <th>470</th>\n",
       "      <td>Description: USEOFMETALPIERCINGBULLETS</td>\n",
       "      <td>-0.333161</td>\n",
       "    </tr>\n",
       "  </tbody>\n",
       "</table>\n",
       "</div>"
      ],
      "text/plain": [
       "                                                                 Name  \\\n",
       "479                               Description: AGGRITMUTKNIFECUTTINGI   \n",
       "482                                   Description: ATTAGGOTHERFIREARM   \n",
       "408                                   Description: AGGOFANUNBORNCHILD   \n",
       "464                  Description: AGGRITMUTHANDSFISTFEETSERIOUSINJURY   \n",
       "489                                   Description: SECONDDEGREEMURDER   \n",
       "469                Description: SALEOFTOBACCOPOLICEOFFICERUCTSTOMINOR   \n",
       "488  Description: POLICEOFFICERECTEDEMPOLICEOFFICEREEHANDSNOMININJURY   \n",
       "478                 Description: AGGRITMUTHANDSFISTSFEETSERIOUSINJURY   \n",
       "691                                      Location Description: LAGOON   \n",
       "694                             Location Description: POLICE FACILITY   \n",
       "685                             Location Description: CHURCH PROPERTY   \n",
       "681                                       Location Description: RIVER   \n",
       "264                                              Description: LOOTING   \n",
       "695                                     Location Description: PRAIRIE   \n",
       "678                                    Location Description: DUMPSTER   \n",
       "686                         Location Description: CLEANERS/LAUNDROMAT   \n",
       "684                                Location Description: CHA ELEVATOR   \n",
       "666                                      Location Description: CHURCH   \n",
       "696                       Location Description: PUBLIC GRAMMAR SCHOOL   \n",
       "470                            Description: USEOFMETALPIERCINGBULLETS   \n",
       "\n",
       "         Coef  \n",
       "479 -0.211606  \n",
       "482 -0.214488  \n",
       "408 -0.218683  \n",
       "464 -0.218751  \n",
       "489 -0.220060  \n",
       "469 -0.220295  \n",
       "488 -0.236273  \n",
       "478 -0.236288  \n",
       "691 -0.252593  \n",
       "694 -0.256430  \n",
       "685 -0.256999  \n",
       "681 -0.257887  \n",
       "264 -0.258453  \n",
       "695 -0.260579  \n",
       "678 -0.263409  \n",
       "686 -0.267254  \n",
       "684 -0.267579  \n",
       "666 -0.269317  \n",
       "696 -0.276117  \n",
       "470 -0.333161  "
      ]
     },
     "execution_count": 24,
     "metadata": {},
     "output_type": "execute_result"
    }
   ],
   "source": [
    "coef_sorted[-20:]"
   ]
  },
  {
   "cell_type": "markdown",
   "id": "52b8bb56",
   "metadata": {},
   "source": [
    "### Evaluate Logistic Regression"
   ]
  },
  {
   "cell_type": "markdown",
   "id": "3e56f877",
   "metadata": {},
   "source": [
    "#### ROC AUC Train"
   ]
  },
  {
   "cell_type": "code",
   "execution_count": 25,
   "id": "c985c750",
   "metadata": {},
   "outputs": [
    {
     "name": "stderr",
     "output_type": "stream",
     "text": [
      "                                                                                \r"
     ]
    },
    {
     "data": {
      "text/plain": [
       "0.8929753422176305"
      ]
     },
     "execution_count": 25,
     "metadata": {},
     "output_type": "execute_result"
    }
   ],
   "source": [
    "evaluator.evaluate(lr_tvs_model.transform(df_train_enc))"
   ]
  },
  {
   "cell_type": "markdown",
   "id": "aaea3cd0",
   "metadata": {},
   "source": [
    "#### ROC AUC Test"
   ]
  },
  {
   "cell_type": "code",
   "execution_count": 26,
   "id": "f42a3645",
   "metadata": {},
   "outputs": [
    {
     "name": "stderr",
     "output_type": "stream",
     "text": [
      "                                                                                \r"
     ]
    },
    {
     "data": {
      "text/plain": [
       "0.893185931070912"
      ]
     },
     "execution_count": 26,
     "metadata": {},
     "output_type": "execute_result"
    }
   ],
   "source": [
    "df_test_enc = pipeline.fit(df_train).transform(df_test).select('features', 'Arrest')\n",
    "evaluator.evaluate(lr_tvs_model.transform(df_test_enc))"
   ]
  },
  {
   "cell_type": "markdown",
   "id": "b9c77ae7",
   "metadata": {},
   "source": [
    "#### Training Accuracy"
   ]
  },
  {
   "cell_type": "code",
   "execution_count": 27,
   "id": "73e3371f",
   "metadata": {},
   "outputs": [
    {
     "name": "stderr",
     "output_type": "stream",
     "text": [
      "[Stage 286:===================================================>   (15 + 1) / 16]\r"
     ]
    },
    {
     "name": "stdout",
     "output_type": "stream",
     "text": [
      "+------------------+\n",
      "|    avg(isCorrect)|\n",
      "+------------------+\n",
      "|0.7995661755604194|\n",
      "+------------------+\n",
      "\n"
     ]
    },
    {
     "name": "stderr",
     "output_type": "stream",
     "text": [
      "                                                                                \r"
     ]
    }
   ],
   "source": [
    "train_preds = lr_tvs_model.transform(df_train_enc)\n",
    "train_preds = train_preds.withColumn(\"prediction\", train_preds.prediction.cast('int'))\n",
    "train_preds = train_preds.withColumn(\"isCorrect\", col('Arrest') == col('prediction'))\n",
    "train_preds = train_preds.withColumn('isCorrect', col('isCorrect').cast('integer'))\n",
    "train_preds.select(mean('isCorrect')).show()"
   ]
  },
  {
   "cell_type": "markdown",
   "id": "750eed6a",
   "metadata": {},
   "source": [
    "**Training Accuracy**: 79.96%"
   ]
  },
  {
   "cell_type": "markdown",
   "id": "fe8b3f71",
   "metadata": {},
   "source": [
    "#### Test Accuracy"
   ]
  },
  {
   "cell_type": "code",
   "execution_count": 28,
   "id": "0eb14680",
   "metadata": {
    "tags": []
   },
   "outputs": [
    {
     "name": "stderr",
     "output_type": "stream",
     "text": [
      "[Stage 289:===================================================>   (15 + 1) / 16]\r"
     ]
    },
    {
     "name": "stdout",
     "output_type": "stream",
     "text": [
      "+------------------+\n",
      "|    avg(isCorrect)|\n",
      "+------------------+\n",
      "|0.7989055036047394|\n",
      "+------------------+\n",
      "\n"
     ]
    },
    {
     "name": "stderr",
     "output_type": "stream",
     "text": [
      "                                                                                \r"
     ]
    }
   ],
   "source": [
    "test_preds = lr_tvs_model.transform(df_test_enc)\n",
    "test_preds = test_preds.withColumn(\"prediction\", test_preds.prediction.cast('int'))\n",
    "test_preds = test_preds.withColumn(\"isCorrect\", col('Arrest') == col('prediction'))\n",
    "test_preds = test_preds.withColumn('isCorrect', col('isCorrect').cast('integer'))\n",
    "test_preds.select(mean('isCorrect')).show()"
   ]
  },
  {
   "cell_type": "markdown",
   "id": "9aab75df",
   "metadata": {},
   "source": [
    "**Test Accuracy**: 79.92%"
   ]
  },
  {
   "cell_type": "markdown",
   "id": "ac2b773a",
   "metadata": {},
   "source": [
    "##### Confusion Matrix"
   ]
  },
  {
   "cell_type": "code",
   "execution_count": 29,
   "id": "300ce3c2",
   "metadata": {},
   "outputs": [
    {
     "name": "stderr",
     "output_type": "stream",
     "text": [
      "                                                                                \r"
     ]
    },
    {
     "name": "stdout",
     "output_type": "stream",
     "text": [
      "True Negatives:  981492\n"
     ]
    },
    {
     "name": "stderr",
     "output_type": "stream",
     "text": [
      "                                                                                \r"
     ]
    },
    {
     "name": "stdout",
     "output_type": "stream",
     "text": [
      "True Positives:  78658\n"
     ]
    },
    {
     "name": "stderr",
     "output_type": "stream",
     "text": [
      "                                                                                \r"
     ]
    },
    {
     "name": "stdout",
     "output_type": "stream",
     "text": [
      "False Negatives:  266408\n"
     ]
    },
    {
     "name": "stderr",
     "output_type": "stream",
     "text": [
      "[Stage 301:===================================================>   (15 + 1) / 16]\r"
     ]
    },
    {
     "name": "stdout",
     "output_type": "stream",
     "text": [
      "False Positives:  445\n"
     ]
    },
    {
     "name": "stderr",
     "output_type": "stream",
     "text": [
      "                                                                                \r"
     ]
    }
   ],
   "source": [
    "# Confusion Matrix\n",
    "\n",
    "true_negs = test_preds.filter((test_preds.Arrest == 0) & (test_preds.prediction == 0)).count()\n",
    "print('True Negatives: ',true_negs)\n",
    "true_pos = test_preds.filter((test_preds.Arrest == 1) & (test_preds.prediction == 1)).count()\n",
    "print('True Positives: ',true_pos)\n",
    "false_neg = test_preds.filter((test_preds.Arrest == 1) & (test_preds.prediction == 0)).count()\n",
    "print('False Negatives: ',false_neg)\n",
    "false_pos = test_preds.filter((test_preds.Arrest == 0) & (test_preds.prediction == 1)).count()\n",
    "print('False Positives: ',false_pos)"
   ]
  },
  {
   "cell_type": "code",
   "execution_count": null,
   "id": "b7326676",
   "metadata": {},
   "outputs": [],
   "source": []
  },
  {
   "cell_type": "markdown",
   "id": "dc25a291",
   "metadata": {},
   "source": [
    "### Feature Prep: Vectorize features (non encoded) for Decision Tree / Random Forest models"
   ]
  },
  {
   "cell_type": "code",
   "execution_count": 30,
   "id": "aed7b21f",
   "metadata": {},
   "outputs": [
    {
     "name": "stderr",
     "output_type": "stream",
     "text": [
      "                                                                                \r"
     ]
    }
   ],
   "source": [
    "# Assemble features into single vector column for RF and DT\n",
    "\n",
    "cols = ['Primary Type', 'Description', 'Location Description', 'Month', 'Hour']\n",
    "\n",
    "#df_final.withColumn('target')\n",
    "indexers = [\n",
    "    StringIndexer(inputCol=c, handleInvalid='keep', outputCol='{0}_indexed'.format(c))\n",
    "    for c in cols\n",
    "]\n",
    "\n",
    "assembler = VectorAssembler(\n",
    "    inputCols=[indexer.getOutputCol() for indexer in indexers],\n",
    "    outputCol='features'\n",
    ")\n",
    "\n",
    "pipeline2 = Pipeline(stages=indexers + [assembler])\n",
    "df_train_vec = pipeline2.fit(df_train).transform(df_train).select('features', 'Arrest')\n",
    "df_test_vec = pipeline2.fit(df_train).transform(df_test).select('features', 'Arrest')"
   ]
  },
  {
   "cell_type": "markdown",
   "id": "a40ae948",
   "metadata": {},
   "source": [
    "### Build Decision Tree model"
   ]
  },
  {
   "cell_type": "code",
   "execution_count": 31,
   "id": "9c08bc8f",
   "metadata": {
    "tags": []
   },
   "outputs": [
    {
     "name": "stderr",
     "output_type": "stream",
     "text": [
      "2023-06-03 01:21:24,834 WARN memory.MemoryStore: Not enough space to cache rdd_1064_9 in memory! (computed 18.4 MiB so far)\n",
      "2023-06-03 01:21:25,802 WARN memory.MemoryStore: Not enough space to cache rdd_1064_9 in memory! (computed 7.7 MiB so far)\n",
      "2023-06-03 01:24:12,341 WARN memory.MemoryStore: Not enough space to cache rdd_1128_9 in memory! (computed 18.4 MiB so far)\n",
      "2023-06-03 01:24:13,341 WARN memory.MemoryStore: Not enough space to cache rdd_1128_9 in memory! (computed 7.7 MiB so far)\n",
      "2023-06-03 01:24:14,257 WARN memory.MemoryStore: Not enough space to cache rdd_1128_9 in memory! (computed 7.7 MiB so far)\n",
      "2023-06-03 01:24:15,101 WARN memory.MemoryStore: Not enough space to cache rdd_1128_9 in memory! (computed 7.7 MiB so far)\n",
      "2023-06-03 01:24:27,647 WARN memory.MemoryStore: Not enough space to cache rdd_1193_9 in memory! (computed 18.4 MiB so far)\n",
      "2023-06-03 01:24:28,618 WARN memory.MemoryStore: Not enough space to cache rdd_1193_9 in memory! (computed 7.7 MiB so far)\n",
      "2023-06-03 01:24:29,444 WARN memory.MemoryStore: Not enough space to cache rdd_1193_9 in memory! (computed 7.7 MiB so far)\n",
      "2023-06-03 01:24:30,449 WARN memory.MemoryStore: Not enough space to cache rdd_1193_9 in memory! (computed 7.7 MiB so far)\n",
      "2023-06-03 01:24:31,596 WARN memory.MemoryStore: Not enough space to cache rdd_1193_9 in memory! (computed 7.7 MiB so far)\n",
      "2023-06-03 01:24:33,680 WARN memory.MemoryStore: Not enough space to cache rdd_1193_9 in memory! (computed 7.7 MiB so far)\n",
      "2023-06-03 01:24:35,374 WARN memory.MemoryStore: Not enough space to cache rdd_1193_9 in memory! (computed 7.7 MiB so far)\n",
      "2023-06-03 01:24:37,585 WARN memory.MemoryStore: Not enough space to cache rdd_1193_9 in memory! (computed 7.7 MiB so far)\n",
      "2023-06-03 01:24:40,205 WARN memory.MemoryStore: Not enough space to cache rdd_1193_9 in memory! (computed 7.7 MiB so far)\n",
      "2023-06-03 01:31:43,991 WARN memory.MemoryStore: Not enough space to cache rdd_1273_14 in memory! (computed 30.6 MiB so far)\n",
      "2023-06-03 01:31:43,991 WARN storage.BlockManager: Persisting block rdd_1273_14 to disk instead.\n",
      "2023-06-03 01:31:45,854 WARN memory.MemoryStore: Not enough space to cache rdd_1273_0 in memory! (computed 41.3 MiB so far)\n",
      "2023-06-03 01:31:45,871 WARN memory.MemoryStore: Not enough space to cache rdd_1273_1 in memory! (computed 41.3 MiB so far)\n",
      "2023-06-03 01:31:47,153 WARN memory.MemoryStore: Not enough space to cache rdd_1273_4 in memory! (computed 41.3 MiB so far)\n",
      "2023-06-03 01:31:47,189 WARN memory.MemoryStore: Not enough space to cache rdd_1273_5 in memory! (computed 41.3 MiB so far)\n",
      "2023-06-03 01:31:49,087 WARN memory.MemoryStore: Not enough space to cache rdd_1273_1 in memory! (computed 11.5 MiB so far)\n",
      "2023-06-03 01:31:49,308 WARN memory.MemoryStore: Not enough space to cache rdd_1273_0 in memory! (computed 27.5 MiB so far)\n",
      "2023-06-03 01:31:50,603 WARN memory.MemoryStore: Not enough space to cache rdd_1273_5 in memory! (computed 11.5 MiB so far)\n",
      "2023-06-03 01:31:50,631 WARN memory.MemoryStore: Not enough space to cache rdd_1273_4 in memory! (computed 18.4 MiB so far)\n",
      "2023-06-03 01:31:52,398 WARN memory.MemoryStore: Not enough space to cache rdd_1273_1 in memory! (computed 11.5 MiB so far)\n",
      "2023-06-03 01:31:52,522 WARN memory.MemoryStore: Not enough space to cache rdd_1273_0 in memory! (computed 27.5 MiB so far)\n",
      "2023-06-03 01:31:53,287 WARN memory.MemoryStore: Not enough space to cache rdd_1273_5 in memory! (computed 11.5 MiB so far)\n",
      "2023-06-03 01:31:53,317 WARN memory.MemoryStore: Not enough space to cache rdd_1273_4 in memory! (computed 18.4 MiB so far)\n",
      "2023-06-03 01:31:54,806 WARN memory.MemoryStore: Not enough space to cache rdd_1273_0 in memory! (computed 11.5 MiB so far)\n",
      "2023-06-03 01:31:54,955 WARN memory.MemoryStore: Not enough space to cache rdd_1273_1 in memory! (computed 27.5 MiB so far)\n",
      "2023-06-03 01:31:56,300 WARN memory.MemoryStore: Not enough space to cache rdd_1273_5 in memory! (computed 11.5 MiB so far)\n",
      "2023-06-03 01:31:56,351 WARN memory.MemoryStore: Not enough space to cache rdd_1273_4 in memory! (computed 18.4 MiB so far)\n",
      "2023-06-03 01:31:58,476 WARN memory.MemoryStore: Not enough space to cache rdd_1273_0 in memory! (computed 11.5 MiB so far)\n",
      "2023-06-03 01:31:58,526 WARN memory.MemoryStore: Not enough space to cache rdd_1273_1 in memory! (computed 18.4 MiB so far)\n",
      "2023-06-03 01:31:59,673 WARN memory.MemoryStore: Not enough space to cache rdd_1273_4 in memory! (computed 18.4 MiB so far)\n",
      "2023-06-03 01:31:59,674 WARN memory.MemoryStore: Not enough space to cache rdd_1273_5 in memory! (computed 11.5 MiB so far)\n",
      "2023-06-03 01:32:01,548 WARN memory.MemoryStore: Not enough space to cache rdd_1273_0 in memory! (computed 11.5 MiB so far)\n",
      "2023-06-03 01:32:01,595 WARN memory.MemoryStore: Not enough space to cache rdd_1273_1 in memory! (computed 18.4 MiB so far)\n",
      "2023-06-03 01:32:02,743 WARN memory.MemoryStore: Not enough space to cache rdd_1273_4 in memory! (computed 18.4 MiB so far)\n",
      "2023-06-03 01:32:02,744 WARN memory.MemoryStore: Not enough space to cache rdd_1273_5 in memory! (computed 11.5 MiB so far)\n",
      "2023-06-03 01:32:08,037 WARN memory.MemoryStore: Not enough space to cache rdd_1273_0 in memory! (computed 11.5 MiB so far)\n",
      "2023-06-03 01:32:08,113 WARN memory.MemoryStore: Not enough space to cache rdd_1273_1 in memory! (computed 18.4 MiB so far)\n",
      "2023-06-03 01:32:09,222 WARN memory.MemoryStore: Not enough space to cache rdd_1273_5 in memory! (computed 11.5 MiB so far)\n",
      "2023-06-03 01:32:09,228 WARN memory.MemoryStore: Not enough space to cache rdd_1273_4 in memory! (computed 18.4 MiB so far)\n",
      "2023-06-03 01:32:12,741 WARN memory.MemoryStore: Not enough space to cache rdd_1273_1 in memory! (computed 11.5 MiB so far)\n",
      "2023-06-03 01:32:12,810 WARN memory.MemoryStore: Not enough space to cache rdd_1273_0 in memory! (computed 18.4 MiB so far)\n",
      "2023-06-03 01:32:14,148 WARN memory.MemoryStore: Not enough space to cache rdd_1273_4 in memory! (computed 18.4 MiB so far)\n",
      "2023-06-03 01:32:14,168 WARN memory.MemoryStore: Not enough space to cache rdd_1273_5 in memory! (computed 11.5 MiB so far)\n",
      "2023-06-03 01:32:16,996 WARN memory.MemoryStore: Not enough space to cache rdd_1273_1 in memory! (computed 11.5 MiB so far)\n",
      "2023-06-03 01:32:17,034 WARN memory.MemoryStore: Not enough space to cache rdd_1273_0 in memory! (computed 18.4 MiB so far)\n",
      "2023-06-03 01:32:18,001 WARN memory.MemoryStore: Not enough space to cache rdd_1273_5 in memory! (computed 11.5 MiB so far)\n",
      "2023-06-03 01:32:18,038 WARN memory.MemoryStore: Not enough space to cache rdd_1273_4 in memory! (computed 18.4 MiB so far)\n",
      "                                                                                \r"
     ]
    },
    {
     "name": "stdout",
     "output_type": "stream",
     "text": [
      "0.75\n"
     ]
    },
    {
     "name": "stderr",
     "output_type": "stream",
     "text": [
      "                                                                                \r"
     ]
    }
   ],
   "source": [
    "# Decision Tree\n",
    "\n",
    "dt = DecisionTreeClassifier(featuresCol='features',labelCol='Arrest',maxBins=475)\n",
    "evaluator = BinaryClassificationEvaluator().setLabelCol('Arrest')\n",
    "grid = ParamGridBuilder().addGrid(dt.maxDepth, [3, 5, 10]).build()\\\n",
    "\n",
    "dt_tvs = TrainValidationSplit(estimator=dt, estimatorParamMaps=grid, evaluator=evaluator,\n",
    "    parallelism=1, seed=42)\n",
    "dt_tvs_model = dt_tvs.fit(df_train_vec)\n",
    "\n",
    "print(dt_tvs_model.getTrainRatio())\n",
    "model_path = 'file:///home/work/project/models/dectree'\n",
    "dt_tvs_model.write().overwrite().save(model_path)\n",
    "\n",
    "train_error = evaluator.evaluate(dt_tvs_model.transform(df_train_vec))"
   ]
  },
  {
   "cell_type": "markdown",
   "id": "521dd69f",
   "metadata": {},
   "source": [
    "#### Evaluate Decision Tree"
   ]
  },
  {
   "cell_type": "markdown",
   "id": "1891845f",
   "metadata": {},
   "source": [
    "##### Train ROC AUC"
   ]
  },
  {
   "cell_type": "code",
   "execution_count": 32,
   "id": "33cb5529",
   "metadata": {},
   "outputs": [
    {
     "name": "stderr",
     "output_type": "stream",
     "text": [
      "                                                                                \r"
     ]
    },
    {
     "data": {
      "text/plain": [
       "0.6359757164800905"
      ]
     },
     "execution_count": 32,
     "metadata": {},
     "output_type": "execute_result"
    }
   ],
   "source": [
    "# Train ROC AUC\n",
    "evaluator.evaluate(dt_tvs_model.transform(df_train_vec))"
   ]
  },
  {
   "cell_type": "markdown",
   "id": "72744924",
   "metadata": {},
   "source": [
    "##### Test ROC AUC"
   ]
  },
  {
   "cell_type": "code",
   "execution_count": 35,
   "id": "befaf99d",
   "metadata": {},
   "outputs": [
    {
     "name": "stderr",
     "output_type": "stream",
     "text": [
      "2023-06-03 01:55:08,557 WARN netty.NettyRpcEnv: Ignored failure: java.util.concurrent.TimeoutException: Cannot receive any reply from 1fc37cfb29cc:36101 in 10000 milliseconds\n",
      "2023-06-03 01:55:11,027 WARN executor.Executor: Issue communicating with driver in heartbeater\n",
      "org.apache.spark.rpc.RpcTimeoutException: Futures timed out after [10000 milliseconds]. This timeout is controlled by spark.executor.heartbeatInterval\n",
      "\tat org.apache.spark.rpc.RpcTimeout.org$apache$spark$rpc$RpcTimeout$$createRpcTimeoutException(RpcTimeout.scala:47)\n",
      "\tat org.apache.spark.rpc.RpcTimeout$$anonfun$addMessageIfTimeout$1.applyOrElse(RpcTimeout.scala:62)\n",
      "\tat org.apache.spark.rpc.RpcTimeout$$anonfun$addMessageIfTimeout$1.applyOrElse(RpcTimeout.scala:58)\n",
      "\tat scala.runtime.AbstractPartialFunction.apply(AbstractPartialFunction.scala:38)\n",
      "\tat org.apache.spark.rpc.RpcTimeout.awaitResult(RpcTimeout.scala:76)\n",
      "\tat org.apache.spark.rpc.RpcEndpointRef.askSync(RpcEndpointRef.scala:103)\n",
      "\tat org.apache.spark.executor.Executor.reportHeartBeat(Executor.scala:1053)\n",
      "\tat org.apache.spark.executor.Executor.$anonfun$heartbeater$1(Executor.scala:238)\n",
      "\tat scala.runtime.java8.JFunction0$mcV$sp.apply(JFunction0$mcV$sp.java:23)\n",
      "\tat org.apache.spark.util.Utils$.logUncaughtExceptions(Utils.scala:2066)\n",
      "\tat org.apache.spark.Heartbeater$$anon$1.run(Heartbeater.scala:46)\n",
      "\tat java.base/java.util.concurrent.Executors$RunnableAdapter.call(Executors.java:515)\n",
      "\tat java.base/java.util.concurrent.FutureTask.runAndReset(FutureTask.java:305)\n",
      "\tat java.base/java.util.concurrent.ScheduledThreadPoolExecutor$ScheduledFutureTask.run(ScheduledThreadPoolExecutor.java:305)\n",
      "\tat java.base/java.util.concurrent.ThreadPoolExecutor.runWorker(ThreadPoolExecutor.java:1128)\n",
      "\tat java.base/java.util.concurrent.ThreadPoolExecutor$Worker.run(ThreadPoolExecutor.java:628)\n",
      "\tat java.base/java.lang.Thread.run(Thread.java:829)\n",
      "Caused by: java.util.concurrent.TimeoutException: Futures timed out after [10000 milliseconds]\n",
      "\tat scala.concurrent.impl.Promise$DefaultPromise.ready(Promise.scala:259)\n",
      "\tat scala.concurrent.impl.Promise$DefaultPromise.result(Promise.scala:263)\n",
      "\tat org.apache.spark.util.ThreadUtils$.awaitResult(ThreadUtils.scala:293)\n",
      "\tat org.apache.spark.rpc.RpcTimeout.awaitResult(RpcTimeout.scala:75)\n",
      "\t... 12 more\n",
      "                                                                                \r"
     ]
    },
    {
     "data": {
      "text/plain": [
       "0.6366296703256312"
      ]
     },
     "execution_count": 35,
     "metadata": {},
     "output_type": "execute_result"
    }
   ],
   "source": [
    "# Test ROC AUC\n",
    "df_test_enc = pipeline2.fit(df_train).transform(df_test).select('features', 'Arrest')\n",
    "evaluator.evaluate(dt_tvs_model.transform(df_test_vec))"
   ]
  },
  {
   "cell_type": "markdown",
   "id": "68db897b",
   "metadata": {},
   "source": [
    "##### Training Accuracy"
   ]
  },
  {
   "cell_type": "code",
   "execution_count": 36,
   "id": "35a0e418",
   "metadata": {},
   "outputs": [
    {
     "name": "stderr",
     "output_type": "stream",
     "text": [
      "[Stage 506:===================================================>   (15 + 1) / 16]\r"
     ]
    },
    {
     "name": "stdout",
     "output_type": "stream",
     "text": [
      "+------------------+\n",
      "|    avg(isCorrect)|\n",
      "+------------------+\n",
      "|0.8859764827437691|\n",
      "+------------------+\n",
      "\n"
     ]
    },
    {
     "name": "stderr",
     "output_type": "stream",
     "text": [
      "                                                                                \r"
     ]
    }
   ],
   "source": [
    "# Training Accuracy\n",
    "train_preds = dt_tvs_model.transform(df_train_vec)\n",
    "train_preds = train_preds.withColumn(\"prediction\", train_preds.prediction.cast('int'))\n",
    "train_preds = train_preds.withColumn(\"isCorrect\", col('Arrest') == col('prediction'))\n",
    "train_preds = train_preds.withColumn('isCorrect', col('isCorrect').cast('integer'))\n",
    "train_preds.select(mean('isCorrect')).show()"
   ]
  },
  {
   "cell_type": "markdown",
   "id": "f59a4bab",
   "metadata": {},
   "source": [
    "##### Test Accuracy"
   ]
  },
  {
   "cell_type": "code",
   "execution_count": 37,
   "id": "92742405",
   "metadata": {},
   "outputs": [
    {
     "name": "stderr",
     "output_type": "stream",
     "text": [
      "[Stage 509:===================================================>   (15 + 1) / 16]\r"
     ]
    },
    {
     "name": "stdout",
     "output_type": "stream",
     "text": [
      "+------------------+\n",
      "|    avg(isCorrect)|\n",
      "+------------------+\n",
      "|0.8858915048805246|\n",
      "+------------------+\n",
      "\n"
     ]
    },
    {
     "name": "stderr",
     "output_type": "stream",
     "text": [
      "                                                                                \r"
     ]
    }
   ],
   "source": [
    "# Test Accuracy\n",
    "test_preds = dt_tvs_model.transform(df_test_vec)\n",
    "test_preds = test_preds.withColumn(\"prediction\", test_preds.prediction.cast('int'))\n",
    "test_preds = test_preds.withColumn(\"isCorrect\", col('Arrest') == col('prediction'))\n",
    "test_preds = test_preds.withColumn('isCorrect', col('isCorrect').cast('integer'))\n",
    "test_preds.select(mean('isCorrect')).show()"
   ]
  },
  {
   "cell_type": "markdown",
   "id": "4771b15b",
   "metadata": {},
   "source": [
    "##### Confusion Matrix"
   ]
  },
  {
   "cell_type": "code",
   "execution_count": 38,
   "id": "453ce46b",
   "metadata": {
    "tags": []
   },
   "outputs": [
    {
     "name": "stderr",
     "output_type": "stream",
     "text": [
      "                                                                                \r"
     ]
    },
    {
     "name": "stdout",
     "output_type": "stream",
     "text": [
      "True Negatives:  959259\n"
     ]
    },
    {
     "name": "stderr",
     "output_type": "stream",
     "text": [
      "                                                                                \r"
     ]
    },
    {
     "name": "stdout",
     "output_type": "stream",
     "text": [
      "True Positives:  216327\n"
     ]
    },
    {
     "name": "stderr",
     "output_type": "stream",
     "text": [
      "                                                                                \r"
     ]
    },
    {
     "name": "stdout",
     "output_type": "stream",
     "text": [
      "False Negatives:  128742\n"
     ]
    },
    {
     "name": "stderr",
     "output_type": "stream",
     "text": [
      "[Stage 521:===================================================>   (15 + 1) / 16]\r"
     ]
    },
    {
     "name": "stdout",
     "output_type": "stream",
     "text": [
      "False Positives:  22681\n"
     ]
    },
    {
     "name": "stderr",
     "output_type": "stream",
     "text": [
      "                                                                                \r"
     ]
    }
   ],
   "source": [
    "# Confusion Matrix\n",
    "\n",
    "true_negs = test_preds.filter((test_preds.Arrest == 0) & (test_preds.prediction == 0)).count()\n",
    "print('True Negatives: ',true_negs)\n",
    "true_pos = test_preds.filter((test_preds.Arrest == 1) & (test_preds.prediction == 1)).count()\n",
    "print('True Positives: ',true_pos)\n",
    "false_neg = test_preds.filter((test_preds.Arrest == 1) & (test_preds.prediction == 0)).count()\n",
    "print('False Negatives: ',false_neg)\n",
    "false_pos = test_preds.filter((test_preds.Arrest == 0) & (test_preds.prediction == 1)).count()\n",
    "print('False Positives: ',false_pos)"
   ]
  },
  {
   "cell_type": "code",
   "execution_count": null,
   "id": "953de474",
   "metadata": {},
   "outputs": [],
   "source": []
  },
  {
   "cell_type": "markdown",
   "id": "fbe134df",
   "metadata": {},
   "source": [
    "#### Build Random Forest model"
   ]
  },
  {
   "cell_type": "code",
   "execution_count": 39,
   "id": "3b776e96",
   "metadata": {
    "tags": []
   },
   "outputs": [
    {
     "name": "stderr",
     "output_type": "stream",
     "text": [
      "2023-06-03 03:21:53,068 WARN memory.MemoryStore: Not enough space to cache rdd_1498_9 in memory! (computed 8.3 MiB so far)\n",
      "2023-06-03 03:21:53,109 WARN memory.MemoryStore: Not enough space to cache rdd_1498_8 in memory! (computed 12.7 MiB so far)\n",
      "2023-06-03 03:21:53,663 WARN memory.MemoryStore: Not enough space to cache rdd_1498_10 in memory! (computed 19.7 MiB so far)\n",
      "2023-06-03 03:21:55,031 WARN memory.MemoryStore: Not enough space to cache rdd_1498_9 in memory! (computed 8.3 MiB so far)\n",
      "2023-06-03 03:21:55,057 WARN memory.MemoryStore: Not enough space to cache rdd_1498_8 in memory! (computed 12.7 MiB so far)\n",
      "2023-06-03 03:21:55,694 WARN memory.MemoryStore: Not enough space to cache rdd_1498_10 in memory! (computed 19.7 MiB so far)\n",
      "2023-06-03 03:24:14,031 WARN memory.MemoryStore: Not enough space to cache rdd_1579_0 in memory! (computed 41.6 MiB so far)\n",
      "2023-06-03 03:24:14,037 WARN memory.MemoryStore: Not enough space to cache rdd_1579_1 in memory! (computed 41.6 MiB so far)\n",
      "2023-06-03 03:24:14,919 WARN memory.MemoryStore: Not enough space to cache rdd_1579_4 in memory! (computed 41.6 MiB so far)\n",
      "2023-06-03 03:24:15,047 WARN memory.MemoryStore: Not enough space to cache rdd_1579_5 in memory! (computed 41.6 MiB so far)\n",
      "2023-06-03 03:24:17,445 WARN memory.MemoryStore: Not enough space to cache rdd_1579_1 in memory! (computed 17.6 MiB so far)\n",
      "2023-06-03 03:24:17,449 WARN memory.MemoryStore: Not enough space to cache rdd_1579_0 in memory! (computed 17.6 MiB so far)\n",
      "2023-06-03 03:24:18,361 WARN memory.MemoryStore: Not enough space to cache rdd_1579_5 in memory! (computed 11.7 MiB so far)\n",
      "2023-06-03 03:24:18,419 WARN memory.MemoryStore: Not enough space to cache rdd_1579_4 in memory! (computed 26.6 MiB so far)\n",
      "2023-06-03 03:24:32,712 WARN memory.MemoryStore: Not enough space to cache rdd_1655_14 in memory! (computed 28.0 MiB so far)\n",
      "2023-06-03 03:24:32,713 WARN storage.BlockManager: Persisting block rdd_1655_14 to disk instead.\n",
      "2023-06-03 03:24:33,838 WARN memory.MemoryStore: Not enough space to cache rdd_1655_0 in memory! (computed 12.3 MiB so far)\n",
      "2023-06-03 03:24:33,843 WARN memory.MemoryStore: Not enough space to cache rdd_1655_1 in memory! (computed 12.3 MiB so far)\n",
      "2023-06-03 03:24:34,823 WARN memory.MemoryStore: Not enough space to cache rdd_1655_5 in memory! (computed 5.5 MiB so far)\n",
      "2023-06-03 03:24:34,832 WARN memory.MemoryStore: Not enough space to cache rdd_1655_4 in memory! (computed 12.3 MiB so far)\n",
      "2023-06-03 03:24:37,907 WARN memory.MemoryStore: Not enough space to cache rdd_1655_0 in memory! (computed 8.2 MiB so far)\n",
      "2023-06-03 03:24:37,907 WARN memory.MemoryStore: Not enough space to cache rdd_1655_1 in memory! (computed 8.2 MiB so far)\n",
      "2023-06-03 03:24:39,016 WARN memory.MemoryStore: Not enough space to cache rdd_1655_5 in memory! (computed 5.5 MiB so far)\n",
      "2023-06-03 03:24:39,029 WARN memory.MemoryStore: Not enough space to cache rdd_1655_4 in memory! (computed 12.3 MiB so far)\n",
      "2023-06-03 03:24:54,029 WARN memory.MemoryStore: Not enough space to cache rdd_1731_11 in memory! (computed 46.0 MiB so far)\n",
      "2023-06-03 03:24:54,029 WARN storage.BlockManager: Persisting block rdd_1731_11 to disk instead.\n",
      "2023-06-03 03:24:56,179 WARN memory.MemoryStore: Not enough space to cache rdd_1731_14 in memory! (computed 19.5 MiB so far)\n",
      "2023-06-03 03:24:56,179 WARN storage.BlockManager: Persisting block rdd_1731_14 to disk instead.\n",
      "2023-06-03 03:24:56,321 WARN memory.MemoryStore: Not enough space to cache rdd_1731_13 in memory! (computed 29.4 MiB so far)\n",
      "2023-06-03 03:24:56,321 WARN storage.BlockManager: Persisting block rdd_1731_13 to disk instead.\n",
      "2023-06-03 03:24:58,553 WARN memory.MemoryStore: Not enough space to cache rdd_1731_0 in memory! (computed 19.5 MiB so far)\n",
      "2023-06-03 03:24:58,621 WARN memory.MemoryStore: Not enough space to cache rdd_1731_1 in memory! (computed 29.4 MiB so far)\n",
      "2023-06-03 03:24:59,763 WARN memory.MemoryStore: Not enough space to cache rdd_1731_5 in memory! (computed 13.0 MiB so far)\n",
      "2023-06-03 03:24:59,846 WARN memory.MemoryStore: Not enough space to cache rdd_1731_4 in memory! (computed 29.4 MiB so far)\n",
      "2023-06-03 03:25:01,024 WARN memory.MemoryStore: Not enough space to cache rdd_1731_6 in memory! (computed 46.0 MiB so far)\n",
      "2023-06-03 03:25:04,166 WARN memory.MemoryStore: Not enough space to cache rdd_1731_1 in memory! (computed 19.5 MiB so far)\n",
      "2023-06-03 03:25:04,185 WARN memory.MemoryStore: Not enough space to cache rdd_1731_0 in memory! (computed 19.5 MiB so far)\n",
      "2023-06-03 03:25:05,614 WARN memory.MemoryStore: Not enough space to cache rdd_1731_5 in memory! (computed 13.0 MiB so far)\n",
      "2023-06-03 03:25:05,624 WARN memory.MemoryStore: Not enough space to cache rdd_1731_4 in memory! (computed 29.4 MiB so far)\n",
      "2023-06-03 03:25:07,211 WARN memory.MemoryStore: Not enough space to cache rdd_1731_6 in memory! (computed 46.0 MiB so far)\n",
      "2023-06-03 03:25:26,701 WARN memory.MemoryStore: Not enough space to cache rdd_1807_12 in memory! (computed 44.4 MiB so far)\n",
      "2023-06-03 03:25:26,701 WARN storage.BlockManager: Persisting block rdd_1807_12 to disk instead.\n",
      "2023-06-03 03:25:26,761 WARN memory.MemoryStore: Not enough space to cache rdd_1807_13 in memory! (computed 44.4 MiB so far)\n",
      "2023-06-03 03:25:26,761 WARN storage.BlockManager: Persisting block rdd_1807_13 to disk instead.\n",
      "2023-06-03 03:25:28,477 WARN memory.MemoryStore: Not enough space to cache rdd_1807_15 in memory! (computed 13.1 MiB so far)\n",
      "2023-06-03 03:25:28,478 WARN storage.BlockManager: Persisting block rdd_1807_15 to disk instead.\n",
      "2023-06-03 03:25:28,502 WARN memory.MemoryStore: Not enough space to cache rdd_1807_14 in memory! (computed 13.1 MiB so far)\n",
      "2023-06-03 03:25:28,502 WARN storage.BlockManager: Persisting block rdd_1807_14 to disk instead.\n",
      "2023-06-03 03:25:29,480 WARN memory.MemoryStore: Not enough space to cache rdd_1807_14 in memory! (computed 29.6 MiB so far)\n",
      "2023-06-03 03:25:30,300 WARN memory.MemoryStore: Not enough space to cache rdd_1807_0 in memory! (computed 19.7 MiB so far)\n",
      "2023-06-03 03:25:30,304 WARN memory.MemoryStore: Not enough space to cache rdd_1807_1 in memory! (computed 19.7 MiB so far)\n",
      "2023-06-03 03:25:31,831 WARN memory.MemoryStore: Not enough space to cache rdd_1807_5 in memory! (computed 8.3 MiB so far)\n",
      "2023-06-03 03:25:31,850 WARN memory.MemoryStore: Not enough space to cache rdd_1807_4 in memory! (computed 19.7 MiB so far)\n",
      "2023-06-03 03:25:33,209 WARN memory.MemoryStore: Not enough space to cache rdd_1807_6 in memory! (computed 19.7 MiB so far)\n",
      "2023-06-03 03:25:36,924 WARN memory.MemoryStore: Not enough space to cache rdd_1807_14 in memory! (computed 19.7 MiB so far)\n",
      "2023-06-03 03:25:37,972 WARN memory.MemoryStore: Not enough space to cache rdd_1807_0 in memory! (computed 13.1 MiB so far)\n",
      "2023-06-03 03:25:37,973 WARN memory.MemoryStore: Not enough space to cache rdd_1807_1 in memory! (computed 13.1 MiB so far)\n",
      "2023-06-03 03:25:39,897 WARN memory.MemoryStore: Not enough space to cache rdd_1807_4 in memory! (computed 19.7 MiB so far)\n",
      "2023-06-03 03:25:39,950 WARN memory.MemoryStore: Not enough space to cache rdd_1807_5 in memory! (computed 8.3 MiB so far)\n",
      "2023-06-03 03:25:41,652 WARN memory.MemoryStore: Not enough space to cache rdd_1807_6 in memory! (computed 19.7 MiB so far)\n",
      "2023-06-03 03:25:47,157 WARN memory.MemoryStore: Not enough space to cache rdd_1807_14 in memory! (computed 19.7 MiB so far)\n",
      "2023-06-03 03:26:03,942 WARN memory.MemoryStore: Not enough space to cache rdd_1883_8 in memory! (computed 12.7 MiB so far)\n",
      "2023-06-03 03:26:03,961 WARN memory.MemoryStore: Not enough space to cache rdd_1883_9 in memory! (computed 8.3 MiB so far)\n",
      "2023-06-03 03:26:04,559 WARN memory.MemoryStore: Not enough space to cache rdd_1883_10 in memory! (computed 19.7 MiB so far)\n",
      "2023-06-03 03:26:06,221 WARN memory.MemoryStore: Not enough space to cache rdd_1883_9 in memory! (computed 8.3 MiB so far)\n",
      "2023-06-03 03:26:06,229 WARN memory.MemoryStore: Not enough space to cache rdd_1883_8 in memory! (computed 12.7 MiB so far)\n",
      "2023-06-03 03:26:06,970 WARN memory.MemoryStore: Not enough space to cache rdd_1883_10 in memory! (computed 19.7 MiB so far)\n",
      "2023-06-03 03:26:09,046 WARN memory.MemoryStore: Not enough space to cache rdd_1883_9 in memory! (computed 8.3 MiB so far)\n",
      "2023-06-03 03:26:09,064 WARN memory.MemoryStore: Not enough space to cache rdd_1883_8 in memory! (computed 12.7 MiB so far)\n",
      "2023-06-03 03:26:09,828 WARN memory.MemoryStore: Not enough space to cache rdd_1883_10 in memory! (computed 19.7 MiB so far)\n",
      "2023-06-03 03:26:12,508 WARN memory.MemoryStore: Not enough space to cache rdd_1883_9 in memory! (computed 8.3 MiB so far)\n",
      "2023-06-03 03:26:12,536 WARN memory.MemoryStore: Not enough space to cache rdd_1883_8 in memory! (computed 12.7 MiB so far)\n",
      "2023-06-03 03:26:13,411 WARN memory.MemoryStore: Not enough space to cache rdd_1883_10 in memory! (computed 19.7 MiB so far)\n",
      "2023-06-03 03:26:26,404 WARN memory.MemoryStore: Not enough space to cache rdd_1965_0 in memory! (computed 41.6 MiB so far)\n",
      "2023-06-03 03:26:26,406 WARN memory.MemoryStore: Not enough space to cache rdd_1965_1 in memory! (computed 41.6 MiB so far)\n",
      "2023-06-03 03:26:27,420 WARN memory.MemoryStore: Not enough space to cache rdd_1965_4 in memory! (computed 41.6 MiB so far)\n",
      "2023-06-03 03:26:27,464 WARN memory.MemoryStore: Not enough space to cache rdd_1965_5 in memory! (computed 41.6 MiB so far)\n",
      "2023-06-03 03:26:30,111 WARN memory.MemoryStore: Not enough space to cache rdd_1965_0 in memory! (computed 17.6 MiB so far)\n",
      "2023-06-03 03:26:30,115 WARN memory.MemoryStore: Not enough space to cache rdd_1965_1 in memory! (computed 17.6 MiB so far)\n",
      "2023-06-03 03:26:31,105 WARN memory.MemoryStore: Not enough space to cache rdd_1965_5 in memory! (computed 11.7 MiB so far)\n",
      "2023-06-03 03:26:31,163 WARN memory.MemoryStore: Not enough space to cache rdd_1965_4 in memory! (computed 26.6 MiB so far)\n",
      "2023-06-03 03:26:34,537 WARN memory.MemoryStore: Not enough space to cache rdd_1965_1 in memory! (computed 17.6 MiB so far)\n",
      "2023-06-03 03:26:34,547 WARN memory.MemoryStore: Not enough space to cache rdd_1965_0 in memory! (computed 17.6 MiB so far)\n",
      "2023-06-03 03:26:35,718 WARN memory.MemoryStore: Not enough space to cache rdd_1965_5 in memory! (computed 11.7 MiB so far)\n",
      "2023-06-03 03:26:35,752 WARN memory.MemoryStore: Not enough space to cache rdd_1965_4 in memory! (computed 26.6 MiB so far)\n",
      "2023-06-03 03:26:39,804 WARN memory.MemoryStore: Not enough space to cache rdd_1965_0 in memory! (computed 17.6 MiB so far)\n",
      "2023-06-03 03:26:39,809 WARN memory.MemoryStore: Not enough space to cache rdd_1965_1 in memory! (computed 17.6 MiB so far)\n",
      "2023-06-03 03:26:41,097 WARN memory.MemoryStore: Not enough space to cache rdd_1965_5 in memory! (computed 11.7 MiB so far)\n",
      "2023-06-03 03:26:41,135 WARN memory.MemoryStore: Not enough space to cache rdd_1965_4 in memory! (computed 26.6 MiB so far)\n",
      "2023-06-03 03:26:56,136 WARN memory.MemoryStore: Not enough space to cache rdd_2047_10 in memory! (computed 43.8 MiB so far)\n",
      "2023-06-03 03:26:56,136 WARN storage.BlockManager: Persisting block rdd_2047_10 to disk instead.\n",
      "2023-06-03 03:26:56,157 WARN memory.MemoryStore: Not enough space to cache rdd_2047_11 in memory! (computed 43.8 MiB so far)\n",
      "2023-06-03 03:26:56,157 WARN storage.BlockManager: Persisting block rdd_2047_11 to disk instead.\n",
      "2023-06-03 03:26:58,004 WARN memory.MemoryStore: Not enough space to cache rdd_2047_12 in memory! (computed 28.0 MiB so far)\n",
      "2023-06-03 03:26:58,004 WARN storage.BlockManager: Persisting block rdd_2047_12 to disk instead.\n",
      "2023-06-03 03:26:58,019 WARN memory.MemoryStore: Not enough space to cache rdd_2047_13 in memory! (computed 28.0 MiB so far)\n",
      "2023-06-03 03:26:58,019 WARN storage.BlockManager: Persisting block rdd_2047_13 to disk instead.\n",
      "2023-06-03 03:26:58,916 WARN memory.MemoryStore: Not enough space to cache rdd_2047_13 in memory! (computed 43.8 MiB so far)\n",
      "2023-06-03 03:26:59,635 WARN memory.MemoryStore: Not enough space to cache rdd_2047_14 in memory! (computed 28.0 MiB so far)\n",
      "2023-06-03 03:26:59,636 WARN storage.BlockManager: Persisting block rdd_2047_14 to disk instead.\n",
      "2023-06-03 03:27:00,759 WARN memory.MemoryStore: Not enough space to cache rdd_2047_1 in memory! (computed 12.3 MiB so far)\n",
      "2023-06-03 03:27:00,764 WARN memory.MemoryStore: Not enough space to cache rdd_2047_0 in memory! (computed 12.3 MiB so far)\n",
      "2023-06-03 03:27:01,813 WARN memory.MemoryStore: Not enough space to cache rdd_2047_4 in memory! (computed 12.3 MiB so far)\n",
      "2023-06-03 03:27:04,300 WARN memory.MemoryStore: Not enough space to cache rdd_2047_13 in memory! (computed 12.3 MiB so far)\n",
      "2023-06-03 03:27:05,284 WARN memory.MemoryStore: Not enough space to cache rdd_2047_1 in memory! (computed 8.2 MiB so far)\n",
      "2023-06-03 03:27:05,287 WARN memory.MemoryStore: Not enough space to cache rdd_2047_0 in memory! (computed 8.2 MiB so far)\n",
      "2023-06-03 03:27:06,507 WARN memory.MemoryStore: Not enough space to cache rdd_2047_4 in memory! (computed 12.3 MiB so far)\n",
      "2023-06-03 03:27:09,698 WARN memory.MemoryStore: Not enough space to cache rdd_2047_13 in memory! (computed 12.3 MiB so far)\n",
      "2023-06-03 03:27:10,900 WARN memory.MemoryStore: Not enough space to cache rdd_2047_1 in memory! (computed 8.2 MiB so far)\n",
      "2023-06-03 03:27:10,903 WARN memory.MemoryStore: Not enough space to cache rdd_2047_0 in memory! (computed 8.2 MiB so far)\n",
      "2023-06-03 03:27:12,265 WARN memory.MemoryStore: Not enough space to cache rdd_2047_4 in memory! (computed 12.3 MiB so far)\n",
      "2023-06-03 03:27:16,079 WARN memory.MemoryStore: Not enough space to cache rdd_2047_13 in memory! (computed 12.3 MiB so far)\n",
      "2023-06-03 03:27:17,506 WARN memory.MemoryStore: Not enough space to cache rdd_2047_0 in memory! (computed 8.2 MiB so far)\n",
      "2023-06-03 03:27:17,508 WARN memory.MemoryStore: Not enough space to cache rdd_2047_1 in memory! (computed 8.2 MiB so far)\n",
      "2023-06-03 03:27:19,185 WARN memory.MemoryStore: Not enough space to cache rdd_2047_4 in memory! (computed 12.3 MiB so far)\n",
      "2023-06-03 03:27:23,955 WARN memory.MemoryStore: Not enough space to cache rdd_2047_13 in memory! (computed 12.3 MiB so far)\n",
      "2023-06-03 03:27:37,351 WARN memory.MemoryStore: Not enough space to cache rdd_2129_11 in memory! (computed 46.0 MiB so far)\n",
      "2023-06-03 03:27:37,351 WARN storage.BlockManager: Persisting block rdd_2129_11 to disk instead.\n",
      "2023-06-03 03:27:39,371 WARN memory.MemoryStore: Not enough space to cache rdd_2129_14 in memory! (computed 19.5 MiB so far)\n",
      "2023-06-03 03:27:39,371 WARN storage.BlockManager: Persisting block rdd_2129_14 to disk instead.\n",
      "2023-06-03 03:27:39,486 WARN memory.MemoryStore: Not enough space to cache rdd_2129_13 in memory! (computed 29.4 MiB so far)\n",
      "2023-06-03 03:27:39,486 WARN storage.BlockManager: Persisting block rdd_2129_13 to disk instead.\n",
      "2023-06-03 03:27:41,113 WARN memory.MemoryStore: Not enough space to cache rdd_2129_1 in memory! (computed 3.4 MiB so far)\n",
      "2023-06-03 03:27:41,123 WARN memory.MemoryStore: Not enough space to cache rdd_2129_0 in memory! (computed 5.7 MiB so far)\n",
      "2023-06-03 03:27:42,242 WARN memory.MemoryStore: Not enough space to cache rdd_2129_3 in memory! (computed 3.4 MiB so far)\n",
      "2023-06-03 03:27:42,375 WARN memory.MemoryStore: Not enough space to cache rdd_2129_4 in memory! (computed 3.4 MiB so far)\n",
      "2023-06-03 03:27:42,459 WARN memory.MemoryStore: Not enough space to cache rdd_2129_5 in memory! (computed 3.4 MiB so far)\n",
      "2023-06-03 03:27:47,070 WARN memory.MemoryStore: Not enough space to cache rdd_2129_0 in memory! (computed 2.3 MiB so far)\n",
      "2023-06-03 03:27:47,074 WARN memory.MemoryStore: Not enough space to cache rdd_2129_1 in memory! (computed 2.3 MiB so far)\n",
      "2023-06-03 03:27:48,495 WARN memory.MemoryStore: Not enough space to cache rdd_2129_3 in memory! (computed 3.4 MiB so far)\n",
      "2023-06-03 03:27:48,570 WARN memory.MemoryStore: Not enough space to cache rdd_2129_4 in memory! (computed 1544.0 KiB so far)\n",
      "2023-06-03 03:27:48,754 WARN memory.MemoryStore: Not enough space to cache rdd_2129_5 in memory! (computed 3.4 MiB so far)\n",
      "2023-06-03 03:27:54,859 WARN memory.MemoryStore: Not enough space to cache rdd_2129_1 in memory! (computed 2.3 MiB so far)\n",
      "2023-06-03 03:27:54,886 WARN memory.MemoryStore: Not enough space to cache rdd_2129_0 in memory! (computed 5.7 MiB so far)\n",
      "2023-06-03 03:27:56,577 WARN memory.MemoryStore: Not enough space to cache rdd_2129_3 in memory! (computed 3.4 MiB so far)\n",
      "2023-06-03 03:27:56,726 WARN memory.MemoryStore: Not enough space to cache rdd_2129_4 in memory! (computed 3.4 MiB so far)\n",
      "2023-06-03 03:27:56,886 WARN memory.MemoryStore: Not enough space to cache rdd_2129_5 in memory! (computed 3.4 MiB so far)\n",
      "2023-06-03 03:28:04,673 WARN memory.MemoryStore: Not enough space to cache rdd_2129_0 in memory! (computed 2.3 MiB so far)\n",
      "2023-06-03 03:28:04,709 WARN memory.MemoryStore: Not enough space to cache rdd_2129_1 in memory! (computed 5.7 MiB so far)\n",
      "2023-06-03 03:28:06,736 WARN memory.MemoryStore: Not enough space to cache rdd_2129_2 in memory! (computed 5.7 MiB so far)\n",
      "2023-06-03 03:28:06,769 WARN memory.MemoryStore: Not enough space to cache rdd_2129_3 in memory! (computed 5.7 MiB so far)\n",
      "2023-06-03 03:28:07,093 WARN memory.MemoryStore: Not enough space to cache rdd_2129_4 in memory! (computed 8.6 MiB so far)\n",
      "2023-06-03 03:28:07,151 WARN memory.MemoryStore: Not enough space to cache rdd_2129_5 in memory! (computed 1544.0 KiB so far)\n",
      "2023-06-03 03:28:09,435 WARN memory.MemoryStore: Not enough space to cache rdd_2129_6 in memory! (computed 46.0 MiB so far)\n",
      "2023-06-03 03:28:33,394 WARN memory.MemoryStore: Not enough space to cache rdd_2211_12 in memory! (computed 44.4 MiB so far)\n",
      "2023-06-03 03:28:33,394 WARN storage.BlockManager: Persisting block rdd_2211_12 to disk instead.\n",
      "2023-06-03 03:28:33,407 WARN memory.MemoryStore: Not enough space to cache rdd_2211_13 in memory! (computed 44.4 MiB so far)\n",
      "2023-06-03 03:28:33,408 WARN storage.BlockManager: Persisting block rdd_2211_13 to disk instead.\n",
      "2023-06-03 03:28:35,253 WARN memory.MemoryStore: Not enough space to cache rdd_2211_14 in memory! (computed 13.1 MiB so far)\n",
      "2023-06-03 03:28:35,253 WARN storage.BlockManager: Persisting block rdd_2211_14 to disk instead.\n",
      "2023-06-03 03:28:35,255 WARN memory.MemoryStore: Not enough space to cache rdd_2211_15 in memory! (computed 13.1 MiB so far)\n",
      "2023-06-03 03:28:35,256 WARN storage.BlockManager: Persisting block rdd_2211_15 to disk instead.\n",
      "2023-06-03 03:28:36,127 WARN memory.MemoryStore: Not enough space to cache rdd_2211_14 in memory! (computed 29.6 MiB so far)\n",
      "2023-06-03 03:28:36,986 WARN memory.MemoryStore: Not enough space to cache rdd_2211_0 in memory! (computed 19.7 MiB so far)\n",
      "2023-06-03 03:28:36,986 WARN memory.MemoryStore: Not enough space to cache rdd_2211_1 in memory! (computed 19.7 MiB so far)\n",
      "2023-06-03 03:28:38,689 WARN memory.MemoryStore: Not enough space to cache rdd_2211_4 in memory! (computed 19.7 MiB so far)\n",
      "2023-06-03 03:28:38,725 WARN memory.MemoryStore: Not enough space to cache rdd_2211_5 in memory! (computed 8.3 MiB so far)\n",
      "2023-06-03 03:28:40,204 WARN memory.MemoryStore: Not enough space to cache rdd_2211_6 in memory! (computed 19.7 MiB so far)\n",
      "2023-06-03 03:28:44,489 WARN memory.MemoryStore: Not enough space to cache rdd_2211_14 in memory! (computed 19.7 MiB so far)\n",
      "2023-06-03 03:28:45,653 WARN memory.MemoryStore: Not enough space to cache rdd_2211_0 in memory! (computed 13.1 MiB so far)\n",
      "2023-06-03 03:28:45,656 WARN memory.MemoryStore: Not enough space to cache rdd_2211_1 in memory! (computed 13.1 MiB so far)\n",
      "2023-06-03 03:28:47,769 WARN memory.MemoryStore: Not enough space to cache rdd_2211_4 in memory! (computed 19.7 MiB so far)\n",
      "2023-06-03 03:28:47,795 WARN memory.MemoryStore: Not enough space to cache rdd_2211_5 in memory! (computed 8.3 MiB so far)\n",
      "2023-06-03 03:28:49,741 WARN memory.MemoryStore: Not enough space to cache rdd_2211_6 in memory! (computed 19.7 MiB so far)\n",
      "2023-06-03 03:28:55,589 WARN memory.MemoryStore: Not enough space to cache rdd_2211_14 in memory! (computed 19.7 MiB so far)\n",
      "2023-06-03 03:28:57,062 WARN memory.MemoryStore: Not enough space to cache rdd_2211_0 in memory! (computed 13.1 MiB so far)\n",
      "2023-06-03 03:28:57,065 WARN memory.MemoryStore: Not enough space to cache rdd_2211_1 in memory! (computed 13.1 MiB so far)\n",
      "2023-06-03 03:28:59,640 WARN memory.MemoryStore: Not enough space to cache rdd_2211_4 in memory! (computed 19.7 MiB so far)\n",
      "2023-06-03 03:28:59,730 WARN memory.MemoryStore: Not enough space to cache rdd_2211_5 in memory! (computed 8.3 MiB so far)\n",
      "2023-06-03 03:29:01,964 WARN memory.MemoryStore: Not enough space to cache rdd_2211_6 in memory! (computed 19.7 MiB so far)\n",
      "2023-06-03 03:29:09,928 WARN memory.MemoryStore: Not enough space to cache rdd_2211_14 in memory! (computed 19.7 MiB so far)\n",
      "2023-06-03 03:29:11,785 WARN memory.MemoryStore: Not enough space to cache rdd_2211_1 in memory! (computed 13.1 MiB so far)\n",
      "2023-06-03 03:29:11,800 WARN memory.MemoryStore: Not enough space to cache rdd_2211_0 in memory! (computed 13.1 MiB so far)\n",
      "2023-06-03 03:29:14,927 WARN memory.MemoryStore: Not enough space to cache rdd_2211_4 in memory! (computed 19.7 MiB so far)\n",
      "2023-06-03 03:29:15,081 WARN memory.MemoryStore: Not enough space to cache rdd_2211_5 in memory! (computed 8.3 MiB so far)\n",
      "2023-06-03 03:29:17,825 WARN memory.MemoryStore: Not enough space to cache rdd_2211_6 in memory! (computed 19.7 MiB so far)\n",
      "2023-06-03 03:29:27,994 WARN memory.MemoryStore: Not enough space to cache rdd_2211_14 in memory! (computed 19.7 MiB so far)\n",
      "2023-06-03 03:29:46,935 WARN memory.MemoryStore: Not enough space to cache rdd_2293_8 in memory! (computed 12.7 MiB so far)\n",
      "2023-06-03 03:29:46,940 WARN memory.MemoryStore: Not enough space to cache rdd_2293_9 in memory! (computed 8.3 MiB so far)\n",
      "2023-06-03 03:29:47,561 WARN memory.MemoryStore: Not enough space to cache rdd_2293_10 in memory! (computed 19.7 MiB so far)\n",
      "2023-06-03 03:29:49,201 WARN memory.MemoryStore: Not enough space to cache rdd_2293_9 in memory! (computed 8.3 MiB so far)\n",
      "2023-06-03 03:29:49,212 WARN memory.MemoryStore: Not enough space to cache rdd_2293_8 in memory! (computed 12.7 MiB so far)\n",
      "2023-06-03 03:29:49,897 WARN memory.MemoryStore: Not enough space to cache rdd_2293_10 in memory! (computed 19.7 MiB so far)\n",
      "2023-06-03 03:29:51,922 WARN memory.MemoryStore: Not enough space to cache rdd_2293_9 in memory! (computed 8.3 MiB so far)\n",
      "2023-06-03 03:29:51,931 WARN memory.MemoryStore: Not enough space to cache rdd_2293_8 in memory! (computed 12.7 MiB so far)\n",
      "2023-06-03 03:29:52,689 WARN memory.MemoryStore: Not enough space to cache rdd_2293_10 in memory! (computed 19.7 MiB so far)\n",
      "2023-06-03 03:29:55,150 WARN memory.MemoryStore: Not enough space to cache rdd_2293_8 in memory! (computed 12.7 MiB so far)\n",
      "2023-06-03 03:29:55,176 WARN memory.MemoryStore: Not enough space to cache rdd_2293_9 in memory! (computed 8.3 MiB so far)\n",
      "2023-06-03 03:29:56,013 WARN memory.MemoryStore: Not enough space to cache rdd_2293_10 in memory! (computed 19.7 MiB so far)\n",
      "2023-06-03 03:29:59,005 WARN memory.MemoryStore: Not enough space to cache rdd_2293_8 in memory! (computed 12.7 MiB so far)\n",
      "2023-06-03 03:29:59,017 WARN memory.MemoryStore: Not enough space to cache rdd_2293_9 in memory! (computed 8.3 MiB so far)\n",
      "2023-06-03 03:29:59,927 WARN memory.MemoryStore: Not enough space to cache rdd_2293_10 in memory! (computed 19.7 MiB so far)\n",
      "2023-06-03 03:30:03,462 WARN memory.MemoryStore: Not enough space to cache rdd_2293_8 in memory! (computed 12.7 MiB so far)\n",
      "2023-06-03 03:30:03,473 WARN memory.MemoryStore: Not enough space to cache rdd_2293_9 in memory! (computed 8.3 MiB so far)\n",
      "2023-06-03 03:30:04,475 WARN memory.MemoryStore: Not enough space to cache rdd_2293_10 in memory! (computed 19.7 MiB so far)\n",
      "2023-06-03 03:30:08,778 WARN memory.MemoryStore: Not enough space to cache rdd_2293_8 in memory! (computed 12.7 MiB so far)\n",
      "2023-06-03 03:30:08,791 WARN memory.MemoryStore: Not enough space to cache rdd_2293_9 in memory! (computed 8.3 MiB so far)\n",
      "2023-06-03 03:30:09,964 WARN memory.MemoryStore: Not enough space to cache rdd_2293_10 in memory! (computed 19.7 MiB so far)\n",
      "2023-06-03 03:30:15,022 WARN memory.MemoryStore: Not enough space to cache rdd_2293_8 in memory! (computed 12.7 MiB so far)\n",
      "2023-06-03 03:30:15,037 WARN memory.MemoryStore: Not enough space to cache rdd_2293_9 in memory! (computed 8.3 MiB so far)\n",
      "2023-06-03 03:30:16,314 WARN memory.MemoryStore: Not enough space to cache rdd_2293_10 in memory! (computed 19.7 MiB so far)\n",
      "2023-06-03 03:30:22,300 WARN memory.MemoryStore: Not enough space to cache rdd_2293_8 in memory! (computed 12.7 MiB so far)\n",
      "2023-06-03 03:30:22,325 WARN memory.MemoryStore: Not enough space to cache rdd_2293_9 in memory! (computed 8.3 MiB so far)\n",
      "2023-06-03 03:30:23,722 WARN memory.MemoryStore: Not enough space to cache rdd_2293_10 in memory! (computed 19.7 MiB so far)\n",
      "2023-06-03 03:30:38,214 WARN memory.MemoryStore: Not enough space to cache rdd_2390_13 in memory! (computed 41.6 MiB so far)\n",
      "2023-06-03 03:30:38,214 WARN storage.BlockManager: Persisting block rdd_2390_13 to disk instead.\n",
      "2023-06-03 03:30:39,717 WARN memory.MemoryStore: Not enough space to cache rdd_2390_0 in memory! (computed 17.6 MiB so far)\n",
      "2023-06-03 03:30:39,777 WARN memory.MemoryStore: Not enough space to cache rdd_2390_1 in memory! (computed 26.6 MiB so far)\n",
      "2023-06-03 03:30:40,658 WARN memory.MemoryStore: Not enough space to cache rdd_2390_5 in memory! (computed 11.7 MiB so far)\n",
      "2023-06-03 03:30:40,715 WARN memory.MemoryStore: Not enough space to cache rdd_2390_4 in memory! (computed 26.6 MiB so far)\n",
      "2023-06-03 03:30:43,364 WARN memory.MemoryStore: Not enough space to cache rdd_2390_1 in memory! (computed 17.6 MiB so far)\n",
      "2023-06-03 03:30:43,366 WARN memory.MemoryStore: Not enough space to cache rdd_2390_0 in memory! (computed 17.6 MiB so far)\n",
      "2023-06-03 03:30:44,339 WARN memory.MemoryStore: Not enough space to cache rdd_2390_5 in memory! (computed 11.7 MiB so far)\n",
      "2023-06-03 03:30:44,421 WARN memory.MemoryStore: Not enough space to cache rdd_2390_4 in memory! (computed 26.6 MiB so far)\n",
      "2023-06-03 03:30:47,747 WARN memory.MemoryStore: Not enough space to cache rdd_2390_0 in memory! (computed 17.6 MiB so far)\n",
      "2023-06-03 03:30:47,756 WARN memory.MemoryStore: Not enough space to cache rdd_2390_1 in memory! (computed 17.6 MiB so far)\n",
      "2023-06-03 03:30:48,843 WARN memory.MemoryStore: Not enough space to cache rdd_2390_5 in memory! (computed 11.7 MiB so far)\n",
      "2023-06-03 03:30:48,904 WARN memory.MemoryStore: Not enough space to cache rdd_2390_4 in memory! (computed 26.6 MiB so far)\n",
      "2023-06-03 03:30:52,875 WARN memory.MemoryStore: Not enough space to cache rdd_2390_1 in memory! (computed 17.6 MiB so far)\n",
      "2023-06-03 03:30:52,881 WARN memory.MemoryStore: Not enough space to cache rdd_2390_0 in memory! (computed 17.6 MiB so far)\n",
      "2023-06-03 03:30:54,177 WARN memory.MemoryStore: Not enough space to cache rdd_2390_5 in memory! (computed 11.7 MiB so far)\n",
      "2023-06-03 03:30:54,250 WARN memory.MemoryStore: Not enough space to cache rdd_2390_4 in memory! (computed 26.6 MiB so far)\n",
      "2023-06-03 03:30:59,196 WARN memory.MemoryStore: Not enough space to cache rdd_2390_1 in memory! (computed 17.6 MiB so far)\n",
      "2023-06-03 03:30:59,201 WARN memory.MemoryStore: Not enough space to cache rdd_2390_0 in memory! (computed 17.6 MiB so far)\n",
      "2023-06-03 03:31:00,711 WARN memory.MemoryStore: Not enough space to cache rdd_2390_5 in memory! (computed 11.7 MiB so far)\n",
      "2023-06-03 03:31:00,718 WARN memory.MemoryStore: Not enough space to cache rdd_2390_4 in memory! (computed 26.6 MiB so far)\n",
      "2023-06-03 03:31:06,806 WARN memory.MemoryStore: Not enough space to cache rdd_2390_0 in memory! (computed 17.6 MiB so far)\n",
      "2023-06-03 03:31:06,809 WARN memory.MemoryStore: Not enough space to cache rdd_2390_1 in memory! (computed 17.6 MiB so far)\n",
      "2023-06-03 03:31:08,578 WARN memory.MemoryStore: Not enough space to cache rdd_2390_4 in memory! (computed 26.6 MiB so far)\n",
      "2023-06-03 03:31:08,612 WARN memory.MemoryStore: Not enough space to cache rdd_2390_5 in memory! (computed 11.7 MiB so far)\n",
      "2023-06-03 03:31:15,777 WARN memory.MemoryStore: Not enough space to cache rdd_2390_0 in memory! (computed 17.6 MiB so far)\n",
      "2023-06-03 03:31:15,781 WARN memory.MemoryStore: Not enough space to cache rdd_2390_1 in memory! (computed 17.6 MiB so far)\n",
      "2023-06-03 03:31:17,825 WARN memory.MemoryStore: Not enough space to cache rdd_2390_5 in memory! (computed 11.7 MiB so far)\n",
      "2023-06-03 03:31:17,841 WARN memory.MemoryStore: Not enough space to cache rdd_2390_4 in memory! (computed 26.6 MiB so far)\n",
      "2023-06-03 03:31:26,365 WARN scheduler.DAGScheduler: Broadcasting large task binary with size 1023.3 KiB\n",
      "2023-06-03 03:31:26,563 WARN memory.MemoryStore: Not enough space to cache rdd_2390_1 in memory! (computed 17.6 MiB so far)\n",
      "2023-06-03 03:31:26,564 WARN memory.MemoryStore: Not enough space to cache rdd_2390_0 in memory! (computed 17.6 MiB so far)\n",
      "2023-06-03 03:31:28,940 WARN memory.MemoryStore: Not enough space to cache rdd_2390_4 in memory! (computed 26.6 MiB so far)\n",
      "2023-06-03 03:31:28,962 WARN memory.MemoryStore: Not enough space to cache rdd_2390_5 in memory! (computed 11.7 MiB so far)\n",
      "2023-06-03 03:31:39,542 WARN scheduler.DAGScheduler: Broadcasting large task binary with size 1488.1 KiB\n",
      "2023-06-03 03:31:39,744 WARN memory.MemoryStore: Not enough space to cache rdd_2390_0 in memory! (computed 17.6 MiB so far)\n",
      "2023-06-03 03:31:39,752 WARN memory.MemoryStore: Not enough space to cache rdd_2390_1 in memory! (computed 17.6 MiB so far)\n",
      "2023-06-03 03:31:42,674 WARN memory.MemoryStore: Not enough space to cache rdd_2390_5 in memory! (computed 11.7 MiB so far)\n",
      "2023-06-03 03:31:42,771 WARN memory.MemoryStore: Not enough space to cache rdd_2390_4 in memory! (computed 26.6 MiB so far)\n",
      "2023-06-03 03:32:10,319 WARN memory.MemoryStore: Not enough space to cache rdd_2487_1 in memory! (computed 28.0 MiB so far)\n",
      "2023-06-03 03:32:10,392 WARN memory.MemoryStore: Not enough space to cache rdd_2487_0 in memory! (computed 43.8 MiB so far)\n",
      "2023-06-03 03:32:11,447 WARN memory.MemoryStore: Not enough space to cache rdd_2487_4 in memory! (computed 28.0 MiB so far)\n",
      "2023-06-03 03:32:11,523 WARN memory.MemoryStore: Not enough space to cache rdd_2487_5 in memory! (computed 28.0 MiB so far)\n",
      "2023-06-03 03:32:12,485 WARN memory.MemoryStore: Not enough space to cache rdd_2487_6 in memory! (computed 43.8 MiB so far)\n",
      "2023-06-03 03:32:15,156 WARN memory.MemoryStore: Not enough space to cache rdd_2487_0 in memory! (computed 28.0 MiB so far)\n",
      "2023-06-03 03:32:15,166 WARN memory.MemoryStore: Not enough space to cache rdd_2487_1 in memory! (computed 28.0 MiB so far)\n",
      "2023-06-03 03:32:16,366 WARN memory.MemoryStore: Not enough space to cache rdd_2487_4 in memory! (computed 28.0 MiB so far)\n",
      "2023-06-03 03:32:16,423 WARN memory.MemoryStore: Not enough space to cache rdd_2487_5 in memory! (computed 28.0 MiB so far)\n",
      "2023-06-03 03:32:17,598 WARN memory.MemoryStore: Not enough space to cache rdd_2487_6 in memory! (computed 43.8 MiB so far)\n",
      "2023-06-03 03:32:20,992 WARN memory.MemoryStore: Not enough space to cache rdd_2487_0 in memory! (computed 28.0 MiB so far)\n",
      "2023-06-03 03:32:20,993 WARN memory.MemoryStore: Not enough space to cache rdd_2487_1 in memory! (computed 28.0 MiB so far)\n",
      "2023-06-03 03:32:22,292 WARN memory.MemoryStore: Not enough space to cache rdd_2487_4 in memory! (computed 28.0 MiB so far)\n",
      "2023-06-03 03:32:22,345 WARN memory.MemoryStore: Not enough space to cache rdd_2487_5 in memory! (computed 28.0 MiB so far)\n",
      "2023-06-03 03:32:23,640 WARN memory.MemoryStore: Not enough space to cache rdd_2487_6 in memory! (computed 43.8 MiB so far)\n",
      "2023-06-03 03:32:27,857 WARN memory.MemoryStore: Not enough space to cache rdd_2487_1 in memory! (computed 28.0 MiB so far)\n",
      "2023-06-03 03:32:27,868 WARN memory.MemoryStore: Not enough space to cache rdd_2487_0 in memory! (computed 28.0 MiB so far)\n",
      "2023-06-03 03:32:29,460 WARN memory.MemoryStore: Not enough space to cache rdd_2487_5 in memory! (computed 18.5 MiB so far)\n",
      "2023-06-03 03:32:29,538 WARN memory.MemoryStore: Not enough space to cache rdd_2487_4 in memory! (computed 43.8 MiB so far)\n",
      "2023-06-03 03:32:31,057 WARN memory.MemoryStore: Not enough space to cache rdd_2487_6 in memory! (computed 43.8 MiB so far)\n",
      "2023-06-03 03:32:36,475 WARN memory.MemoryStore: Not enough space to cache rdd_2487_0 in memory! (computed 28.0 MiB so far)\n",
      "2023-06-03 03:32:36,476 WARN memory.MemoryStore: Not enough space to cache rdd_2487_1 in memory! (computed 28.0 MiB so far)\n",
      "2023-06-03 03:32:38,408 WARN memory.MemoryStore: Not enough space to cache rdd_2487_5 in memory! (computed 18.5 MiB so far)\n",
      "2023-06-03 03:32:38,440 WARN memory.MemoryStore: Not enough space to cache rdd_2487_4 in memory! (computed 43.8 MiB so far)\n",
      "2023-06-03 03:32:40,165 WARN memory.MemoryStore: Not enough space to cache rdd_2487_6 in memory! (computed 43.8 MiB so far)\n",
      "2023-06-03 03:32:48,329 WARN memory.MemoryStore: Not enough space to cache rdd_2487_1 in memory! (computed 28.0 MiB so far)\n",
      "2023-06-03 03:32:48,329 WARN memory.MemoryStore: Not enough space to cache rdd_2487_0 in memory! (computed 28.0 MiB so far)\n",
      "2023-06-03 03:32:50,491 WARN memory.MemoryStore: Not enough space to cache rdd_2487_5 in memory! (computed 18.5 MiB so far)\n",
      "2023-06-03 03:32:50,524 WARN memory.MemoryStore: Not enough space to cache rdd_2487_4 in memory! (computed 43.8 MiB so far)\n",
      "2023-06-03 03:32:52,539 WARN memory.MemoryStore: Not enough space to cache rdd_2487_6 in memory! (computed 43.8 MiB so far)\n",
      "2023-06-03 03:33:00,699 WARN memory.MemoryStore: Not enough space to cache rdd_2487_1 in memory! (computed 28.0 MiB so far)\n",
      "2023-06-03 03:33:00,702 WARN memory.MemoryStore: Not enough space to cache rdd_2487_0 in memory! (computed 28.0 MiB so far)\n",
      "2023-06-03 03:33:03,354 WARN memory.MemoryStore: Not enough space to cache rdd_2487_4 in memory! (computed 43.8 MiB so far)\n",
      "2023-06-03 03:33:03,373 WARN memory.MemoryStore: Not enough space to cache rdd_2487_5 in memory! (computed 18.5 MiB so far)\n",
      "2023-06-03 03:33:05,655 WARN memory.MemoryStore: Not enough space to cache rdd_2487_6 in memory! (computed 43.8 MiB so far)\n",
      "2023-06-03 03:33:15,165 WARN scheduler.DAGScheduler: Broadcasting large task binary with size 1202.7 KiB\n",
      "2023-06-03 03:33:15,437 WARN memory.MemoryStore: Not enough space to cache rdd_2487_0 in memory! (computed 28.0 MiB so far)\n",
      "2023-06-03 03:33:15,444 WARN memory.MemoryStore: Not enough space to cache rdd_2487_1 in memory! (computed 28.0 MiB so far)\n",
      "2023-06-03 03:33:18,944 WARN memory.MemoryStore: Not enough space to cache rdd_2487_4 in memory! (computed 43.8 MiB so far)\n",
      "2023-06-03 03:33:18,964 WARN memory.MemoryStore: Not enough space to cache rdd_2487_5 in memory! (computed 18.5 MiB so far)\n",
      "2023-06-03 03:33:21,609 WARN memory.MemoryStore: Not enough space to cache rdd_2487_6 in memory! (computed 43.8 MiB so far)\n",
      "2023-06-03 03:33:33,533 WARN scheduler.DAGScheduler: Broadcasting large task binary with size 1806.4 KiB\n",
      "2023-06-03 03:33:33,883 WARN memory.MemoryStore: Not enough space to cache rdd_2487_1 in memory! (computed 28.0 MiB so far)\n",
      "2023-06-03 03:33:33,890 WARN memory.MemoryStore: Not enough space to cache rdd_2487_0 in memory! (computed 28.0 MiB so far)\n",
      "2023-06-03 03:33:38,000 WARN memory.MemoryStore: Not enough space to cache rdd_2487_4 in memory! (computed 43.8 MiB so far)\n",
      "2023-06-03 03:33:38,017 WARN memory.MemoryStore: Not enough space to cache rdd_2487_5 in memory! (computed 18.5 MiB so far)\n",
      "2023-06-03 03:33:41,224 WARN memory.MemoryStore: Not enough space to cache rdd_2487_6 in memory! (computed 43.8 MiB so far)\n",
      "2023-06-03 03:33:56,712 WARN scheduler.DAGScheduler: Broadcasting large task binary with size 1050.4 KiB\n",
      "2023-06-03 03:34:09,899 WARN memory.MemoryStore: Not enough space to cache rdd_2585_11 in memory! (computed 46.0 MiB so far)\n",
      "2023-06-03 03:34:09,900 WARN storage.BlockManager: Persisting block rdd_2585_11 to disk instead.\n",
      "2023-06-03 03:34:11,916 WARN memory.MemoryStore: Not enough space to cache rdd_2585_14 in memory! (computed 19.5 MiB so far)\n",
      "2023-06-03 03:34:11,916 WARN storage.BlockManager: Persisting block rdd_2585_14 to disk instead.\n",
      "2023-06-03 03:34:12,019 WARN memory.MemoryStore: Not enough space to cache rdd_2585_13 in memory! (computed 29.4 MiB so far)\n",
      "2023-06-03 03:34:12,019 WARN storage.BlockManager: Persisting block rdd_2585_13 to disk instead.\n",
      "2023-06-03 03:34:13,632 WARN memory.MemoryStore: Not enough space to cache rdd_2585_1 in memory! (computed 3.4 MiB so far)\n",
      "2023-06-03 03:34:13,653 WARN memory.MemoryStore: Not enough space to cache rdd_2585_0 in memory! (computed 5.7 MiB so far)\n",
      "2023-06-03 03:34:14,811 WARN memory.MemoryStore: Not enough space to cache rdd_2585_3 in memory! (computed 3.4 MiB so far)\n",
      "2023-06-03 03:34:14,913 WARN memory.MemoryStore: Not enough space to cache rdd_2585_4 in memory! (computed 3.4 MiB so far)\n",
      "2023-06-03 03:34:15,013 WARN memory.MemoryStore: Not enough space to cache rdd_2585_5 in memory! (computed 3.4 MiB so far)\n",
      "2023-06-03 03:34:19,656 WARN memory.MemoryStore: Not enough space to cache rdd_2585_0 in memory! (computed 2.3 MiB so far)\n",
      "2023-06-03 03:34:19,660 WARN memory.MemoryStore: Not enough space to cache rdd_2585_1 in memory! (computed 2.3 MiB so far)\n",
      "2023-06-03 03:34:21,073 WARN memory.MemoryStore: Not enough space to cache rdd_2585_3 in memory! (computed 3.4 MiB so far)\n",
      "2023-06-03 03:34:21,123 WARN memory.MemoryStore: Not enough space to cache rdd_2585_4 in memory! (computed 1544.0 KiB so far)\n",
      "2023-06-03 03:34:21,352 WARN memory.MemoryStore: Not enough space to cache rdd_2585_5 in memory! (computed 3.4 MiB so far)\n",
      "2023-06-03 03:34:27,453 WARN memory.MemoryStore: Not enough space to cache rdd_2585_0 in memory! (computed 2.3 MiB so far)\n",
      "2023-06-03 03:34:27,484 WARN memory.MemoryStore: Not enough space to cache rdd_2585_1 in memory! (computed 5.7 MiB so far)\n",
      "2023-06-03 03:34:29,146 WARN memory.MemoryStore: Not enough space to cache rdd_2585_3 in memory! (computed 3.4 MiB so far)\n",
      "2023-06-03 03:34:29,321 WARN memory.MemoryStore: Not enough space to cache rdd_2585_4 in memory! (computed 3.4 MiB so far)\n",
      "2023-06-03 03:34:29,475 WARN memory.MemoryStore: Not enough space to cache rdd_2585_5 in memory! (computed 3.4 MiB so far)\n",
      "2023-06-03 03:34:37,137 WARN memory.MemoryStore: Not enough space to cache rdd_2585_1 in memory! (computed 2.3 MiB so far)\n",
      "2023-06-03 03:34:37,169 WARN memory.MemoryStore: Not enough space to cache rdd_2585_0 in memory! (computed 5.7 MiB so far)\n",
      "2023-06-03 03:34:39,748 WARN memory.MemoryStore: Not enough space to cache rdd_2585_3 in memory! (computed 3.4 MiB so far)\n",
      "2023-06-03 03:34:39,930 WARN memory.MemoryStore: Not enough space to cache rdd_2585_4 in memory! (computed 3.4 MiB so far)\n",
      "2023-06-03 03:34:40,108 WARN memory.MemoryStore: Not enough space to cache rdd_2585_5 in memory! (computed 3.4 MiB so far)\n",
      "2023-06-03 03:34:49,697 WARN memory.MemoryStore: Not enough space to cache rdd_2585_1 in memory! (computed 1544.0 KiB so far)\n",
      "2023-06-03 03:34:49,707 WARN memory.MemoryStore: Not enough space to cache rdd_2585_0 in memory! (computed 2.3 MiB so far)\n",
      "2023-06-03 03:34:52,109 WARN memory.MemoryStore: Not enough space to cache rdd_2585_3 in memory! (computed 3.4 MiB so far)\n",
      "2023-06-03 03:34:52,243 WARN memory.MemoryStore: Not enough space to cache rdd_2585_4 in memory! (computed 1544.0 KiB so far)\n",
      "2023-06-03 03:34:52,572 WARN memory.MemoryStore: Not enough space to cache rdd_2585_5 in memory! (computed 3.4 MiB so far)\n",
      "2023-06-03 03:35:04,314 WARN memory.MemoryStore: Not enough space to cache rdd_2585_0 in memory! (computed 1544.0 KiB so far)\n",
      "2023-06-03 03:35:04,337 WARN memory.MemoryStore: Not enough space to cache rdd_2585_1 in memory! (computed 2.3 MiB so far)\n",
      "2023-06-03 03:35:07,362 WARN memory.MemoryStore: Not enough space to cache rdd_2585_3 in memory! (computed 3.4 MiB so far)\n",
      "2023-06-03 03:35:07,608 WARN memory.MemoryStore: Not enough space to cache rdd_2585_4 in memory! (computed 3.4 MiB so far)\n",
      "2023-06-03 03:35:08,004 WARN memory.MemoryStore: Not enough space to cache rdd_2585_5 in memory! (computed 3.4 MiB so far)\n",
      "2023-06-03 03:35:23,220 WARN scheduler.DAGScheduler: Broadcasting large task binary with size 1114.1 KiB\n",
      "2023-06-03 03:35:23,292 WARN memory.MemoryStore: Not enough space to cache rdd_2585_1 in memory! (computed 1544.0 KiB so far)\n",
      "2023-06-03 03:35:23,351 WARN memory.MemoryStore: Not enough space to cache rdd_2585_0 in memory! (computed 5.7 MiB so far)\n",
      "2023-06-03 03:35:26,832 WARN memory.MemoryStore: Not enough space to cache rdd_2585_2 in memory! (computed 3.4 MiB so far)\n",
      "2023-06-03 03:35:26,939 WARN memory.MemoryStore: Not enough space to cache rdd_2585_3 in memory! (computed 5.7 MiB so far)\n",
      "2023-06-03 03:35:27,896 WARN memory.MemoryStore: Not enough space to cache rdd_2585_5 in memory! (computed 13.0 MiB so far)\n",
      "2023-06-03 03:35:27,976 WARN memory.MemoryStore: Not enough space to cache rdd_2585_4 in memory! (computed 46.0 MiB so far)\n",
      "2023-06-03 03:35:31,505 WARN memory.MemoryStore: Not enough space to cache rdd_2585_6 in memory! (computed 46.0 MiB so far)\n",
      "2023-06-03 03:35:48,284 WARN scheduler.DAGScheduler: Broadcasting large task binary with size 1699.9 KiB\n",
      "2023-06-03 03:35:48,486 WARN memory.MemoryStore: Not enough space to cache rdd_2585_0 in memory! (computed 19.5 MiB so far)\n",
      "2023-06-03 03:35:48,633 WARN memory.MemoryStore: Not enough space to cache rdd_2585_1 in memory! (computed 29.4 MiB so far)\n",
      "2023-06-03 03:35:54,399 WARN memory.MemoryStore: Not enough space to cache rdd_2585_5 in memory! (computed 46.0 MiB so far)\n",
      "2023-06-03 03:35:58,215 WARN memory.MemoryStore: Not enough space to cache rdd_2585_6 in memory! (computed 46.0 MiB so far)\n",
      "2023-06-03 03:35:59,768 WARN memory.MemoryStore: Not enough space to cache rdd_2585_7 in memory! (computed 46.0 MiB so far)\n",
      "2023-06-03 03:36:18,194 WARN scheduler.DAGScheduler: Broadcasting large task binary with size 2.5 MiB\n",
      "2023-06-03 03:36:18,424 WARN memory.MemoryStore: Not enough space to cache rdd_2585_0 in memory! (computed 19.5 MiB so far)\n",
      "2023-06-03 03:36:18,429 WARN memory.MemoryStore: Not enough space to cache rdd_2585_1 in memory! (computed 19.5 MiB so far)\n",
      "2023-06-03 03:36:25,060 WARN memory.MemoryStore: Not enough space to cache rdd_2585_5 in memory! (computed 46.0 MiB so far)\n",
      "2023-06-03 03:36:30,765 WARN memory.MemoryStore: Not enough space to cache rdd_2585_7 in memory! (computed 46.0 MiB so far)\n",
      "2023-06-03 03:36:36,481 WARN memory.MemoryStore: Not enough space to cache rdd_2585_9 in memory! (computed 46.0 MiB so far)\n",
      "2023-06-03 03:36:59,654 WARN scheduler.DAGScheduler: Broadcasting large task binary with size 1462.6 KiB\n",
      "2023-06-03 03:37:16,552 WARN memory.MemoryStore: Not enough space to cache rdd_2683_10 in memory! (computed 44.4 MiB so far)\n",
      "2023-06-03 03:37:16,552 WARN storage.BlockManager: Persisting block rdd_2683_10 to disk instead.\n",
      "2023-06-03 03:37:16,623 WARN memory.MemoryStore: Not enough space to cache rdd_2683_11 in memory! (computed 44.4 MiB so far)\n",
      "2023-06-03 03:37:16,624 WARN storage.BlockManager: Persisting block rdd_2683_11 to disk instead.\n",
      "2023-06-03 03:37:18,869 WARN memory.MemoryStore: Not enough space to cache rdd_2683_12 in memory! (computed 19.7 MiB so far)\n",
      "2023-06-03 03:37:18,870 WARN storage.BlockManager: Persisting block rdd_2683_12 to disk instead.\n",
      "2023-06-03 03:37:18,906 WARN memory.MemoryStore: Not enough space to cache rdd_2683_13 in memory! (computed 19.7 MiB so far)\n",
      "2023-06-03 03:37:18,906 WARN storage.BlockManager: Persisting block rdd_2683_13 to disk instead.\n",
      "2023-06-03 03:37:19,962 WARN memory.MemoryStore: Not enough space to cache rdd_2683_12 in memory! (computed 44.4 MiB so far)\n",
      "2023-06-03 03:37:20,050 WARN memory.MemoryStore: Not enough space to cache rdd_2683_13 in memory! (computed 44.4 MiB so far)\n",
      "2023-06-03 03:37:22,084 WARN memory.MemoryStore: Not enough space to cache rdd_2683_0 in memory! (computed 19.7 MiB so far)\n",
      "2023-06-03 03:37:22,150 WARN memory.MemoryStore: Not enough space to cache rdd_2683_1 in memory! (computed 29.6 MiB so far)\n",
      "2023-06-03 03:37:23,777 WARN memory.MemoryStore: Not enough space to cache rdd_2683_4 in memory! (computed 29.6 MiB so far)\n",
      "2023-06-03 03:37:23,791 WARN memory.MemoryStore: Not enough space to cache rdd_2683_5 in memory! (computed 8.3 MiB so far)\n",
      "2023-06-03 03:37:28,762 WARN memory.MemoryStore: Not enough space to cache rdd_2683_12 in memory! (computed 29.6 MiB so far)\n",
      "2023-06-03 03:37:28,770 WARN memory.MemoryStore: Not enough space to cache rdd_2683_13 in memory! (computed 8.3 MiB so far)\n",
      "2023-06-03 03:37:31,028 WARN memory.MemoryStore: Not enough space to cache rdd_2683_1 in memory! (computed 19.7 MiB so far)\n",
      "2023-06-03 03:37:31,030 WARN memory.MemoryStore: Not enough space to cache rdd_2683_0 in memory! (computed 19.7 MiB so far)\n",
      "2023-06-03 03:37:33,093 WARN memory.MemoryStore: Not enough space to cache rdd_2683_5 in memory! (computed 8.3 MiB so far)\n",
      "2023-06-03 03:37:33,097 WARN memory.MemoryStore: Not enough space to cache rdd_2683_4 in memory! (computed 29.6 MiB so far)\n",
      "2023-06-03 03:37:39,413 WARN memory.MemoryStore: Not enough space to cache rdd_2683_12 in memory! (computed 29.6 MiB so far)\n",
      "2023-06-03 03:37:39,571 WARN memory.MemoryStore: Not enough space to cache rdd_2683_13 in memory! (computed 8.3 MiB so far)\n",
      "2023-06-03 03:37:42,484 WARN memory.MemoryStore: Not enough space to cache rdd_2683_0 in memory! (computed 19.7 MiB so far)\n",
      "2023-06-03 03:37:42,492 WARN memory.MemoryStore: Not enough space to cache rdd_2683_1 in memory! (computed 19.7 MiB so far)\n",
      "2023-06-03 03:37:45,046 WARN memory.MemoryStore: Not enough space to cache rdd_2683_5 in memory! (computed 8.3 MiB so far)\n",
      "2023-06-03 03:37:45,083 WARN memory.MemoryStore: Not enough space to cache rdd_2683_4 in memory! (computed 29.6 MiB so far)\n",
      "2023-06-03 03:37:53,044 WARN memory.MemoryStore: Not enough space to cache rdd_2683_13 in memory! (computed 8.3 MiB so far)\n",
      "2023-06-03 03:37:53,070 WARN memory.MemoryStore: Not enough space to cache rdd_2683_12 in memory! (computed 29.6 MiB so far)\n",
      "2023-06-03 03:37:56,911 WARN memory.MemoryStore: Not enough space to cache rdd_2683_1 in memory! (computed 19.7 MiB so far)\n",
      "2023-06-03 03:37:56,922 WARN memory.MemoryStore: Not enough space to cache rdd_2683_0 in memory! (computed 19.7 MiB so far)\n",
      "2023-06-03 03:38:00,071 WARN memory.MemoryStore: Not enough space to cache rdd_2683_4 in memory! (computed 29.6 MiB so far)\n",
      "2023-06-03 03:38:00,141 WARN memory.MemoryStore: Not enough space to cache rdd_2683_5 in memory! (computed 8.3 MiB so far)\n",
      "2023-06-03 03:38:10,388 WARN memory.MemoryStore: Not enough space to cache rdd_2683_12 in memory! (computed 29.6 MiB so far)\n",
      "2023-06-03 03:38:10,554 WARN memory.MemoryStore: Not enough space to cache rdd_2683_13 in memory! (computed 8.3 MiB so far)\n",
      "2023-06-03 03:38:15,190 WARN memory.MemoryStore: Not enough space to cache rdd_2683_1 in memory! (computed 19.7 MiB so far)\n",
      "2023-06-03 03:38:15,193 WARN memory.MemoryStore: Not enough space to cache rdd_2683_0 in memory! (computed 19.7 MiB so far)\n",
      "2023-06-03 03:38:19,166 WARN memory.MemoryStore: Not enough space to cache rdd_2683_4 in memory! (computed 29.6 MiB so far)\n",
      "2023-06-03 03:38:19,269 WARN memory.MemoryStore: Not enough space to cache rdd_2683_5 in memory! (computed 8.3 MiB so far)\n",
      "2023-06-03 03:38:31,950 WARN memory.MemoryStore: Not enough space to cache rdd_2683_12 in memory! (computed 29.6 MiB so far)\n",
      "2023-06-03 03:38:32,355 WARN memory.MemoryStore: Not enough space to cache rdd_2683_13 in memory! (computed 8.3 MiB so far)\n",
      "2023-06-03 03:38:37,851 WARN scheduler.DAGScheduler: Broadcasting large task binary with size 1014.4 KiB\n",
      "2023-06-03 03:38:38,040 WARN memory.MemoryStore: Not enough space to cache rdd_2683_1 in memory! (computed 19.7 MiB so far)\n",
      "2023-06-03 03:38:38,050 WARN memory.MemoryStore: Not enough space to cache rdd_2683_0 in memory! (computed 19.7 MiB so far)\n",
      "2023-06-03 03:38:42,883 WARN memory.MemoryStore: Not enough space to cache rdd_2683_4 in memory! (computed 29.6 MiB so far)\n",
      "2023-06-03 03:38:43,187 WARN memory.MemoryStore: Not enough space to cache rdd_2683_5 in memory! (computed 8.3 MiB so far)\n",
      "2023-06-03 03:38:59,577 WARN memory.MemoryStore: Not enough space to cache rdd_2683_12 in memory! (computed 29.6 MiB so far)\n",
      "2023-06-03 03:39:00,096 WARN memory.MemoryStore: Not enough space to cache rdd_2683_13 in memory! (computed 8.3 MiB so far)\n",
      "2023-06-03 03:39:06,895 WARN scheduler.DAGScheduler: Broadcasting large task binary with size 1562.1 KiB\n",
      "2023-06-03 03:39:07,071 WARN memory.MemoryStore: Not enough space to cache rdd_2683_1 in memory! (computed 19.7 MiB so far)\n",
      "2023-06-03 03:39:07,082 WARN memory.MemoryStore: Not enough space to cache rdd_2683_0 in memory! (computed 19.7 MiB so far)\n",
      "2023-06-03 03:39:13,621 WARN memory.MemoryStore: Not enough space to cache rdd_2683_4 in memory! (computed 29.6 MiB so far)\n",
      "2023-06-03 03:39:13,679 WARN memory.MemoryStore: Not enough space to cache rdd_2683_5 in memory! (computed 8.3 MiB so far)\n",
      "2023-06-03 03:39:34,560 WARN memory.MemoryStore: Not enough space to cache rdd_2683_12 in memory! (computed 29.6 MiB so far)\n",
      "2023-06-03 03:39:35,417 WARN memory.MemoryStore: Not enough space to cache rdd_2683_13 in memory! (computed 8.3 MiB so far)\n",
      "2023-06-03 03:39:44,680 WARN scheduler.DAGScheduler: Broadcasting large task binary with size 2.4 MiB\n",
      "2023-06-03 03:39:44,899 WARN memory.MemoryStore: Not enough space to cache rdd_2683_1 in memory! (computed 13.1 MiB so far)\n",
      "2023-06-03 03:39:44,947 WARN memory.MemoryStore: Not enough space to cache rdd_2683_0 in memory! (computed 19.7 MiB so far)\n",
      "2023-06-03 03:39:53,522 WARN memory.MemoryStore: Not enough space to cache rdd_2683_4 in memory! (computed 29.6 MiB so far)\n",
      "2023-06-03 03:39:54,628 WARN memory.MemoryStore: Not enough space to cache rdd_2683_5 in memory! (computed 44.4 MiB so far)\n",
      "2023-06-03 03:40:23,896 WARN memory.MemoryStore: Not enough space to cache rdd_2683_12 in memory! (computed 29.6 MiB so far)\n",
      "2023-06-03 03:40:23,901 WARN memory.MemoryStore: Not enough space to cache rdd_2683_13 in memory! (computed 8.3 MiB so far)\n",
      "2023-06-03 03:40:37,462 WARN scheduler.DAGScheduler: Broadcasting large task binary with size 3.6 MiB\n",
      "2023-06-03 03:40:37,658 WARN memory.MemoryStore: Not enough space to cache rdd_2683_0 in memory! (computed 13.1 MiB so far)\n",
      "2023-06-03 03:40:37,710 WARN memory.MemoryStore: Not enough space to cache rdd_2683_1 in memory! (computed 19.7 MiB so far)\n",
      "2023-06-03 03:41:18,818 WARN memory.MemoryStore: Not enough space to cache rdd_2683_11 in memory! (computed 29.6 MiB so far)\n",
      "2023-06-03 03:41:27,268 WARN memory.MemoryStore: Not enough space to cache rdd_2683_12 in memory! (computed 29.6 MiB so far)\n",
      "2023-06-03 03:41:36,869 WARN memory.MemoryStore: Not enough space to cache rdd_2683_14 in memory! (computed 13.1 MiB so far)\n",
      "2023-06-03 03:41:45,713 WARN scheduler.DAGScheduler: Broadcasting large task binary with size 1961.6 KiB\n",
      "2023-06-03 03:46:53,446 WARN memory.MemoryStore: Not enough space to cache rdd_2778_4 in memory! (computed 19.5 MiB so far)\n",
      "2023-06-03 03:46:53,446 WARN storage.BlockManager: Persisting block rdd_2778_4 to disk instead.\n",
      "2023-06-03 03:46:53,570 WARN memory.MemoryStore: Not enough space to cache rdd_2778_5 in memory! (computed 3.4 MiB so far)\n",
      "2023-06-03 03:46:53,570 WARN storage.BlockManager: Persisting block rdd_2778_5 to disk instead.\n",
      "2023-06-03 03:48:29,708 WARN memory.MemoryStore: Not enough space to cache rdd_2778_14 in memory! (computed 1026.9 KiB so far)\n",
      "2023-06-03 03:48:29,709 WARN storage.BlockManager: Persisting block rdd_2778_14 to disk instead.\n",
      "2023-06-03 03:48:32,347 WARN memory.MemoryStore: Not enough space to cache rdd_2778_0 in memory! (computed 19.5 MiB so far)\n",
      "2023-06-03 03:48:32,409 WARN memory.MemoryStore: Not enough space to cache rdd_2778_1 in memory! (computed 29.4 MiB so far)\n",
      "2023-06-03 03:48:34,194 WARN memory.MemoryStore: Not enough space to cache rdd_2778_4 in memory! (computed 29.4 MiB so far)\n",
      "2023-06-03 03:48:34,224 WARN memory.MemoryStore: Not enough space to cache rdd_2778_5 in memory! (computed 13.0 MiB so far)\n",
      "2023-06-03 03:48:35,777 WARN memory.MemoryStore: Not enough space to cache rdd_2778_6 in memory! (computed 29.4 MiB so far)\n",
      "2023-06-03 03:48:35,859 WARN memory.MemoryStore: Not enough space to cache rdd_2778_7 in memory! (computed 13.0 MiB so far)\n",
      "2023-06-03 03:48:37,301 WARN memory.MemoryStore: Not enough space to cache rdd_2778_8 in memory! (computed 29.4 MiB so far)\n",
      "2023-06-03 03:48:41,126 WARN memory.MemoryStore: Not enough space to cache rdd_2778_1 in memory! (computed 19.5 MiB so far)\n",
      "2023-06-03 03:48:41,130 WARN memory.MemoryStore: Not enough space to cache rdd_2778_0 in memory! (computed 19.5 MiB so far)\n",
      "2023-06-03 03:48:43,274 WARN memory.MemoryStore: Not enough space to cache rdd_2778_4 in memory! (computed 29.4 MiB so far)\n",
      "2023-06-03 03:48:43,301 WARN memory.MemoryStore: Not enough space to cache rdd_2778_5 in memory! (computed 13.0 MiB so far)\n",
      "2023-06-03 03:48:45,162 WARN memory.MemoryStore: Not enough space to cache rdd_2778_6 in memory! (computed 29.4 MiB so far)\n",
      "2023-06-03 03:48:45,258 WARN memory.MemoryStore: Not enough space to cache rdd_2778_7 in memory! (computed 13.0 MiB so far)\n",
      "2023-06-03 03:48:47,078 WARN memory.MemoryStore: Not enough space to cache rdd_2778_8 in memory! (computed 29.4 MiB so far)\n",
      "2023-06-03 03:48:52,235 WARN memory.MemoryStore: Not enough space to cache rdd_2778_1 in memory! (computed 19.5 MiB so far)\n",
      "2023-06-03 03:48:52,235 WARN memory.MemoryStore: Not enough space to cache rdd_2778_0 in memory! (computed 19.5 MiB so far)\n",
      "2023-06-03 03:48:54,782 WARN memory.MemoryStore: Not enough space to cache rdd_2778_4 in memory! (computed 29.4 MiB so far)\n",
      "2023-06-03 03:48:54,796 WARN memory.MemoryStore: Not enough space to cache rdd_2778_5 in memory! (computed 13.0 MiB so far)\n",
      "2023-06-03 03:48:57,032 WARN memory.MemoryStore: Not enough space to cache rdd_2778_6 in memory! (computed 29.4 MiB so far)\n",
      "2023-06-03 03:48:57,078 WARN memory.MemoryStore: Not enough space to cache rdd_2778_7 in memory! (computed 13.0 MiB so far)\n",
      "2023-06-03 03:48:59,194 WARN memory.MemoryStore: Not enough space to cache rdd_2778_8 in memory! (computed 29.4 MiB so far)\n",
      "2023-06-03 03:49:05,614 WARN memory.MemoryStore: Not enough space to cache rdd_2778_0 in memory! (computed 19.5 MiB so far)\n",
      "2023-06-03 03:49:05,617 WARN memory.MemoryStore: Not enough space to cache rdd_2778_1 in memory! (computed 19.5 MiB so far)\n",
      "2023-06-03 03:49:08,755 WARN memory.MemoryStore: Not enough space to cache rdd_2778_4 in memory! (computed 29.4 MiB so far)\n",
      "2023-06-03 03:49:08,908 WARN memory.MemoryStore: Not enough space to cache rdd_2778_5 in memory! (computed 13.0 MiB so far)\n",
      "2023-06-03 03:49:11,721 WARN memory.MemoryStore: Not enough space to cache rdd_2778_6 in memory! (computed 29.4 MiB so far)\n",
      "2023-06-03 03:49:12,062 WARN memory.MemoryStore: Not enough space to cache rdd_2778_7 in memory! (computed 13.0 MiB so far)\n",
      "2023-06-03 03:49:14,400 WARN memory.MemoryStore: Not enough space to cache rdd_2778_8 in memory! (computed 29.4 MiB so far)\n",
      "2023-06-03 03:49:22,741 WARN memory.MemoryStore: Not enough space to cache rdd_2778_1 in memory! (computed 19.5 MiB so far)\n",
      "2023-06-03 03:49:22,743 WARN memory.MemoryStore: Not enough space to cache rdd_2778_0 in memory! (computed 19.5 MiB so far)\n",
      "2023-06-03 03:49:26,246 WARN memory.MemoryStore: Not enough space to cache rdd_2778_4 in memory! (computed 29.4 MiB so far)\n",
      "2023-06-03 03:49:26,488 WARN memory.MemoryStore: Not enough space to cache rdd_2778_5 in memory! (computed 13.0 MiB so far)\n",
      "2023-06-03 03:49:29,471 WARN memory.MemoryStore: Not enough space to cache rdd_2778_6 in memory! (computed 29.4 MiB so far)\n",
      "2023-06-03 03:49:29,815 WARN memory.MemoryStore: Not enough space to cache rdd_2778_7 in memory! (computed 13.0 MiB so far)\n",
      "2023-06-03 03:49:32,698 WARN memory.MemoryStore: Not enough space to cache rdd_2778_8 in memory! (computed 29.4 MiB so far)\n",
      "2023-06-03 03:49:42,957 WARN memory.MemoryStore: Not enough space to cache rdd_2778_1 in memory! (computed 19.5 MiB so far)\n",
      "2023-06-03 03:49:42,961 WARN memory.MemoryStore: Not enough space to cache rdd_2778_0 in memory! (computed 19.5 MiB so far)\n",
      "2023-06-03 03:49:47,167 WARN memory.MemoryStore: Not enough space to cache rdd_2778_4 in memory! (computed 29.4 MiB so far)\n",
      "2023-06-03 03:49:47,228 WARN memory.MemoryStore: Not enough space to cache rdd_2778_5 in memory! (computed 13.0 MiB so far)\n",
      "2023-06-03 03:49:51,018 WARN memory.MemoryStore: Not enough space to cache rdd_2778_6 in memory! (computed 29.4 MiB so far)\n",
      "2023-06-03 03:49:51,085 WARN memory.MemoryStore: Not enough space to cache rdd_2778_7 in memory! (computed 13.0 MiB so far)\n",
      "2023-06-03 03:49:54,737 WARN memory.MemoryStore: Not enough space to cache rdd_2778_8 in memory! (computed 29.4 MiB so far)\n",
      "2023-06-03 03:50:07,566 WARN scheduler.DAGScheduler: Broadcasting large task binary with size 1142.3 KiB\n",
      "2023-06-03 03:50:07,753 WARN memory.MemoryStore: Not enough space to cache rdd_2778_1 in memory! (computed 19.5 MiB so far)\n",
      "2023-06-03 03:50:07,757 WARN memory.MemoryStore: Not enough space to cache rdd_2778_0 in memory! (computed 19.5 MiB so far)\n",
      "2023-06-03 03:50:12,864 WARN memory.MemoryStore: Not enough space to cache rdd_2778_4 in memory! (computed 29.4 MiB so far)\n",
      "2023-06-03 03:50:13,034 WARN memory.MemoryStore: Not enough space to cache rdd_2778_5 in memory! (computed 13.0 MiB so far)\n",
      "2023-06-03 03:50:17,513 WARN memory.MemoryStore: Not enough space to cache rdd_2778_6 in memory! (computed 29.4 MiB so far)\n",
      "2023-06-03 03:50:17,935 WARN memory.MemoryStore: Not enough space to cache rdd_2778_7 in memory! (computed 13.0 MiB so far)\n",
      "2023-06-03 03:50:22,120 WARN memory.MemoryStore: Not enough space to cache rdd_2778_8 in memory! (computed 29.4 MiB so far)\n",
      "2023-06-03 03:50:38,215 WARN scheduler.DAGScheduler: Broadcasting large task binary with size 1709.0 KiB\n",
      "2023-06-03 03:50:38,467 WARN memory.MemoryStore: Not enough space to cache rdd_2778_1 in memory! (computed 19.5 MiB so far)\n",
      "2023-06-03 03:50:38,483 WARN memory.MemoryStore: Not enough space to cache rdd_2778_0 in memory! (computed 19.5 MiB so far)\n",
      "2023-06-03 03:50:45,592 WARN memory.MemoryStore: Not enough space to cache rdd_2778_4 in memory! (computed 19.5 MiB so far)\n",
      "2023-06-03 03:50:45,836 WARN memory.MemoryStore: Not enough space to cache rdd_2778_5 in memory! (computed 19.5 MiB so far)\n",
      "2023-06-03 03:50:51,687 WARN memory.MemoryStore: Not enough space to cache rdd_2778_6 in memory! (computed 19.5 MiB so far)\n",
      "2023-06-03 03:50:51,931 WARN memory.MemoryStore: Not enough space to cache rdd_2778_7 in memory! (computed 19.5 MiB so far)\n",
      "2023-06-03 03:50:58,403 WARN memory.MemoryStore: Not enough space to cache rdd_2778_9 in memory! (computed 29.4 MiB so far)\n",
      "2023-06-03 03:51:18,035 WARN scheduler.DAGScheduler: Broadcasting large task binary with size 2.6 MiB\n",
      "2023-06-03 03:51:18,246 WARN memory.MemoryStore: Not enough space to cache rdd_2778_1 in memory! (computed 19.5 MiB so far)\n",
      "2023-06-03 03:51:18,263 WARN memory.MemoryStore: Not enough space to cache rdd_2778_0 in memory! (computed 19.5 MiB so far)\n",
      "2023-06-03 03:51:26,813 WARN memory.MemoryStore: Not enough space to cache rdd_2778_4 in memory! (computed 29.4 MiB so far)\n",
      "2023-06-03 03:51:34,564 WARN memory.MemoryStore: Not enough space to cache rdd_2778_6 in memory! (computed 29.4 MiB so far)\n",
      "2023-06-03 03:51:34,659 WARN memory.MemoryStore: Not enough space to cache rdd_2778_7 in memory! (computed 13.0 MiB so far)\n",
      "2023-06-03 03:51:41,869 WARN memory.MemoryStore: Not enough space to cache rdd_2778_8 in memory! (computed 29.4 MiB so far)\n",
      "2023-06-03 03:51:49,069 WARN memory.MemoryStore: Not enough space to cache rdd_2778_10 in memory! (computed 29.4 MiB so far)\n",
      "                                                                                \r"
     ]
    },
    {
     "name": "stdout",
     "output_type": "stream",
     "text": [
      "0.75\n"
     ]
    },
    {
     "name": "stderr",
     "output_type": "stream",
     "text": [
      "2023-06-03 03:52:13,181 WARN scheduler.DAGScheduler: Broadcasting large task binary with size 1411.2 KiB\n",
      "                                                                                \r"
     ]
    }
   ],
   "source": [
    "# Random Forest\n",
    "\n",
    "rf = RandomForestClassifier(labelCol='Arrest',maxBins=475)\n",
    "evaluator = BinaryClassificationEvaluator().setLabelCol('Arrest')\n",
    "grid = ParamGridBuilder()\\\n",
    "       .addGrid(rf.maxDepth, [3, 5, 10])\\\n",
    "       .addGrid(rf.numTrees, [3, 5, 7, 10, 15])\\\n",
    "       .build()\n",
    "\n",
    "rf_tvs = TrainValidationSplit(estimator=rf, estimatorParamMaps=grid, evaluator=evaluator,\n",
    "    parallelism=1, seed=42)\n",
    "rf_tvs_model = rf_tvs.fit(df_train_vec)\n",
    "\n",
    "print(rf_tvs_model.getTrainRatio())\n",
    "model_path = 'file:///home/work/project/models/randfor'\n",
    "rf_tvs_model.write().overwrite().save(model_path)\n",
    "\n",
    "rf_train_error = evaluator.evaluate(rf_tvs_model.transform(df_train_vec))"
   ]
  },
  {
   "cell_type": "markdown",
   "id": "46b70bd0",
   "metadata": {},
   "source": [
    "##### Train ROC AUC"
   ]
  },
  {
   "cell_type": "code",
   "execution_count": 40,
   "id": "c12bc175",
   "metadata": {},
   "outputs": [
    {
     "name": "stderr",
     "output_type": "stream",
     "text": [
      "2023-06-03 03:54:44,779 WARN scheduler.DAGScheduler: Broadcasting large task binary with size 1411.2 KiB\n",
      "                                                                                \r"
     ]
    },
    {
     "data": {
      "text/plain": [
       "0.8940977061136788"
      ]
     },
     "execution_count": 40,
     "metadata": {},
     "output_type": "execute_result"
    }
   ],
   "source": [
    "# Train ROC AUC\n",
    "evaluator.evaluate(rf_tvs_model.transform(df_train_vec))"
   ]
  },
  {
   "cell_type": "markdown",
   "id": "ec66990f",
   "metadata": {},
   "source": [
    "##### Test ROC AUC"
   ]
  },
  {
   "cell_type": "code",
   "execution_count": 41,
   "id": "20c33159",
   "metadata": {},
   "outputs": [
    {
     "name": "stderr",
     "output_type": "stream",
     "text": [
      "2023-06-03 03:57:50,689 WARN scheduler.DAGScheduler: Broadcasting large task binary with size 1411.2 KiB\n",
      "                                                                                \r"
     ]
    },
    {
     "data": {
      "text/plain": [
       "0.8944923780833869"
      ]
     },
     "execution_count": 41,
     "metadata": {},
     "output_type": "execute_result"
    }
   ],
   "source": [
    "# Test ROC AUC\n",
    "evaluator.evaluate(rf_tvs_model.transform(df_test_vec))"
   ]
  },
  {
   "cell_type": "markdown",
   "id": "93e503c7",
   "metadata": {},
   "source": [
    "##### Training Accuracy"
   ]
  },
  {
   "cell_type": "code",
   "execution_count": 42,
   "id": "0ff096f6",
   "metadata": {},
   "outputs": [
    {
     "name": "stderr",
     "output_type": "stream",
     "text": [
      "2023-06-03 04:00:19,072 WARN scheduler.DAGScheduler: Broadcasting large task binary with size 1422.0 KiB\n",
      "[Stage 1012:==================================================>   (15 + 1) / 16]\r"
     ]
    },
    {
     "name": "stdout",
     "output_type": "stream",
     "text": [
      "+------------------+\n",
      "|    avg(isCorrect)|\n",
      "+------------------+\n",
      "|0.8857242066538714|\n",
      "+------------------+\n",
      "\n"
     ]
    },
    {
     "name": "stderr",
     "output_type": "stream",
     "text": [
      "                                                                                \r"
     ]
    }
   ],
   "source": [
    "# Training Accuracy\n",
    "train_preds = rf_tvs_model.transform(df_train_vec)\n",
    "train_preds = train_preds.withColumn(\"prediction\", train_preds.prediction.cast('int'))\n",
    "train_preds = train_preds.withColumn(\"isCorrect\", col('Arrest') == col('prediction'))\n",
    "train_preds = train_preds.withColumn('isCorrect', col('isCorrect').cast('integer'))\n",
    "train_preds.select(mean('isCorrect')).show()"
   ]
  },
  {
   "cell_type": "markdown",
   "id": "6160c89b",
   "metadata": {},
   "source": [
    "##### Test Accuracy"
   ]
  },
  {
   "cell_type": "code",
   "execution_count": 43,
   "id": "e64077bd",
   "metadata": {},
   "outputs": [
    {
     "name": "stderr",
     "output_type": "stream",
     "text": [
      "2023-06-03 04:02:40,746 WARN scheduler.DAGScheduler: Broadcasting large task binary with size 1422.1 KiB\n",
      "[Stage 1015:==================================================>   (15 + 1) / 16]\r"
     ]
    },
    {
     "name": "stdout",
     "output_type": "stream",
     "text": [
      "+------------------+\n",
      "|    avg(isCorrect)|\n",
      "+------------------+\n",
      "|0.8857897723376406|\n",
      "+------------------+\n",
      "\n"
     ]
    },
    {
     "name": "stderr",
     "output_type": "stream",
     "text": [
      "                                                                                \r"
     ]
    }
   ],
   "source": [
    "# Test Accuracy\n",
    "test_preds = rf_tvs_model.transform(df_test_vec)\n",
    "test_preds = test_preds.withColumn(\"prediction\", test_preds.prediction.cast('int'))\n",
    "test_preds = test_preds.withColumn(\"isCorrect\", col('Arrest') == col('prediction'))\n",
    "test_preds = test_preds.withColumn('isCorrect', col('isCorrect').cast('integer'))\n",
    "test_preds.select(mean('isCorrect')).show()"
   ]
  },
  {
   "cell_type": "markdown",
   "id": "4d18b7f0",
   "metadata": {},
   "source": [
    "##### Confusion Matrix"
   ]
  },
  {
   "cell_type": "code",
   "execution_count": 44,
   "id": "b9f56abd",
   "metadata": {},
   "outputs": [
    {
     "name": "stderr",
     "output_type": "stream",
     "text": [
      "2023-06-03 04:04:43,265 WARN scheduler.DAGScheduler: Broadcasting large task binary with size 1421.7 KiB\n",
      "                                                                                \r"
     ]
    },
    {
     "name": "stdout",
     "output_type": "stream",
     "text": [
      "True Negatives:  962510\n"
     ]
    },
    {
     "name": "stderr",
     "output_type": "stream",
     "text": [
      "2023-06-03 04:06:44,953 WARN scheduler.DAGScheduler: Broadcasting large task binary with size 1421.7 KiB\n",
      "                                                                                \r"
     ]
    },
    {
     "name": "stdout",
     "output_type": "stream",
     "text": [
      "True Positives:  212941\n"
     ]
    },
    {
     "name": "stderr",
     "output_type": "stream",
     "text": [
      "2023-06-03 04:08:43,711 WARN scheduler.DAGScheduler: Broadcasting large task binary with size 1421.7 KiB\n",
      "                                                                                \r"
     ]
    },
    {
     "name": "stdout",
     "output_type": "stream",
     "text": [
      "False Negatives:  132128\n"
     ]
    },
    {
     "name": "stderr",
     "output_type": "stream",
     "text": [
      "2023-06-03 04:10:40,544 WARN scheduler.DAGScheduler: Broadcasting large task binary with size 1421.7 KiB\n",
      "[Stage 1027:==================================================>   (15 + 1) / 16]\r"
     ]
    },
    {
     "name": "stdout",
     "output_type": "stream",
     "text": [
      "False Positives:  19430\n"
     ]
    },
    {
     "name": "stderr",
     "output_type": "stream",
     "text": [
      "                                                                                \r"
     ]
    }
   ],
   "source": [
    "# Confusion Matrix\n",
    "\n",
    "true_negs = test_preds.filter((test_preds.Arrest == 0) & (test_preds.prediction == 0)).count()\n",
    "print('True Negatives: ',true_negs)\n",
    "true_pos = test_preds.filter((test_preds.Arrest == 1) & (test_preds.prediction == 1)).count()\n",
    "print('True Positives: ',true_pos)\n",
    "false_neg = test_preds.filter((test_preds.Arrest == 1) & (test_preds.prediction == 0)).count()\n",
    "print('False Negatives: ',false_neg)\n",
    "false_pos = test_preds.filter((test_preds.Arrest == 0) & (test_preds.prediction == 1)).count()\n",
    "print('False Positives: ',false_pos)"
   ]
  },
  {
   "cell_type": "code",
   "execution_count": null,
   "id": "04f7c2df",
   "metadata": {},
   "outputs": [],
   "source": []
  }
 ],
 "metadata": {
  "kernelspec": {
   "display_name": "Python 3 (ipykernel)",
   "language": "python",
   "name": "python3"
  },
  "language_info": {
   "codemirror_mode": {
    "name": "ipython",
    "version": 3
   },
   "file_extension": ".py",
   "mimetype": "text/x-python",
   "name": "python",
   "nbconvert_exporter": "python",
   "pygments_lexer": "ipython3",
   "version": "3.8.10"
  }
 },
 "nbformat": 4,
 "nbformat_minor": 5
}
