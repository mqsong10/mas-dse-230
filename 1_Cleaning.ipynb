{
 "cells": [
  {
   "cell_type": "code",
   "execution_count": 1,
   "id": "76f772fc",
   "metadata": {},
   "outputs": [
    {
     "name": "stderr",
     "output_type": "stream",
     "text": [
      "2023-05-27 18:19:04,179 WARN util.NativeCodeLoader: Unable to load native-hadoop library for your platform... using builtin-java classes where applicable\n",
      "2023-05-27 18:19:05,581 WARN util.Utils: Service 'SparkUI' could not bind on port 4040. Attempting port 4041.\n"
     ]
    }
   ],
   "source": [
    "import pyspark\n",
    "import warnings\n",
    "from pyspark.sql import SparkSession\n",
    "from pyspark.sql.functions import *\n",
    "\n",
    "!sed -i 's/hadoop.root.logger=INFO,console/hadoop.root.logger=WARN,console/' /usr/hadoop-3.3.2/etc/hadoop/log4j.properties\n",
    "warnings.filterwarnings('ignore')\n",
    "\n",
    "conf = pyspark.SparkConf().setAll(\n",
    "    [('spark.master', 'local[2]'),\n",
    "     ('spark.app.name', 'Cleaning')])\n",
    "spark = SparkSession.builder.config(conf=conf).getOrCreate()"
   ]
  },
  {
   "cell_type": "markdown",
   "id": "5e66fd25",
   "metadata": {},
   "source": [
    "### 1. Load Dataset\n",
    "\n",
    "The dataset was procured as a csv from the [City of Chicago](https://data.cityofchicago.org/Public-Safety/Crimes-2001-to-present-Dashboard/5cd6-ry5g). To keep even distribution of data across seasons, 2023 data will be removed immediately (incomplete year)."
   ]
  },
  {
   "cell_type": "code",
   "execution_count": 2,
   "id": "df83ddc4",
   "metadata": {},
   "outputs": [
    {
     "name": "stderr",
     "output_type": "stream",
     "text": [
      "[Stage 2:====================================================>    (13 + 1) / 14]\r"
     ]
    },
    {
     "name": "stdout",
     "output_type": "stream",
     "text": [
      "Rows: 7711262, Columns: 22\n"
     ]
    },
    {
     "name": "stderr",
     "output_type": "stream",
     "text": [
      "                                                                                \r"
     ]
    }
   ],
   "source": [
    "# csv was renamed to `crime.csv`\n",
    "path = 'home/work/Project/mas-dse-230/crime.csv'\n",
    "\n",
    "df = spark.read.csv(f'file:///{path}', header=True, inferSchema=True)\n",
    "df.createOrReplaceTempView('df')\n",
    "df = df.filter(\"Year < 2023\")\n",
    "\n",
    "print(f'Rows: {df.count()}, Columns: {len(df.schema)}')"
   ]
  },
  {
   "cell_type": "markdown",
   "id": "3d9b186d",
   "metadata": {},
   "source": [
    "### 2. Null Handling\n",
    "\n",
    "It's possible that the distribution of null is time-dependent due to changing data practices. As 7.7M records is already plenty of data, imbalanced years can likely be dropped with minimal impact so long as it comes from an extreme of the dataset."
   ]
  },
  {
   "cell_type": "code",
   "execution_count": 7,
   "id": "511f7ca5",
   "metadata": {},
   "outputs": [
    {
     "name": "stderr",
     "output_type": "stream",
     "text": [
      "[Stage 24:====================================================>   (13 + 1) / 14]\r"
     ]
    },
    {
     "name": "stdout",
     "output_type": "stream",
     "text": [
      "+----+-------------+---------------------+------------------+\n",
      "|Year|total_records|records_without_nulls|proportion_removed|\n",
      "+----+-------------+---------------------+------------------+\n",
      "|2022|       238017|               232561|            0.0229|\n",
      "|2021|       208543|               202246|            0.0302|\n",
      "|2020|       212080|               207439|            0.0219|\n",
      "|2019|       261242|               258161|            0.0118|\n",
      "|2018|       268769|               262834|            0.0221|\n",
      "|2017|       269064|               264156|            0.0182|\n",
      "|2016|       269785|               266482|            0.0122|\n",
      "|2015|       264755|               257788|            0.0263|\n",
      "|2014|       275731|               273610|            0.0077|\n",
      "|2013|       307466|               306325|            0.0037|\n",
      "|2012|       336261|               335099|            0.0035|\n",
      "|2011|       351960|               350905|             0.003|\n",
      "|2010|       370496|               369805|            0.0019|\n",
      "|2009|       392819|               385849|            0.0177|\n",
      "|2008|       427165|               419794|            0.0173|\n",
      "|2007|       437084|               435532|            0.0036|\n",
      "|2006|       448174|               445499|             0.006|\n",
      "|2005|       453771|               449868|            0.0086|\n",
      "|2004|       469421|               467132|            0.0049|\n",
      "|2003|       475979|               471995|            0.0084|\n",
      "|2002|       486802|               345026|            0.2912|\n",
      "|2001|       485878|                 3888|             0.992|\n",
      "+----+-------------+---------------------+------------------+\n",
      "\n"
     ]
    },
    {
     "name": "stderr",
     "output_type": "stream",
     "text": [
      "                                                                                \r"
     ]
    }
   ],
   "source": [
    "denulled = df.dropna().groupBy('Year').count()\n",
    "denulled.createOrReplaceTempView('denulled')\n",
    "\n",
    "query = '''\n",
    "    WITH cte AS (\n",
    "        SELECT Year, COUNT(*) AS total_records\n",
    "        FROM df\n",
    "        GROUP BY Year\n",
    "    )\n",
    "    SELECT cte.Year, cte.total_records, denulled.count AS records_without_nulls\n",
    "        , ROUND(1 - denulled.count/cte.total_records, 4) AS proportion_removed\n",
    "    FROM cte\n",
    "    INNER JOIN denulled\n",
    "        ON denulled.Year = cte.Year\n",
    "    ORDER BY Year DESC\n",
    "'''\n",
    "spark.sql(query).show(n=100)"
   ]
  },
  {
   "cell_type": "markdown",
   "id": "d4b2329c",
   "metadata": {},
   "source": [
    "Nearly all of 2001 had records with nulls. 2002 had a significant proportion of null-containing records as well (29%).\n",
    "\n",
    "These years will be removed as will all null records since they account for a relatively small proportion of the total dataset. This null removall may impact the accuracy of downstream analyses."
   ]
  },
  {
   "cell_type": "code",
   "execution_count": 9,
   "id": "6848588e",
   "metadata": {},
   "outputs": [
    {
     "name": "stderr",
     "output_type": "stream",
     "text": [
      "                                                                                \r"
     ]
    },
    {
     "data": {
      "text/plain": [
       "6663080"
      ]
     },
     "execution_count": 9,
     "metadata": {},
     "output_type": "execute_result"
    }
   ],
   "source": [
    "df = df.filter(\"Year > 2002\").dropna()\n",
    "df.createOrReplaceTempView('df')\n",
    "\n",
    "df.count()"
   ]
  },
  {
   "cell_type": "markdown",
   "id": "d840bcd7",
   "metadata": {},
   "source": [
    "### 3. Category Consolidation\n",
    "\n",
    "The features `Primary Type` and `Description` (to be further explored in the next notebook) contain categorical values that describe a crime. Many of these labels appear to be overlapping or text variations of each other, for example, `NON-CRIMINAL` and `NON - CRIMINAL`.\n",
    "\n",
    "The next cells will consolidate these categories."
   ]
  },
  {
   "cell_type": "code",
   "execution_count": 13,
   "id": "2a5bf3df",
   "metadata": {},
   "outputs": [],
   "source": [
    "ptype_consolidation = {\n",
    "    'CRIM SEXUAL ASSAULT': 'CRIMINAL SEXUAL ASSAULT',\n",
    "    'NON-CRIMINAL (SUBJECT SPECIFIED)': 'NON-CRIMINAL',\n",
    "    'NON - CRIMINAL': 'NON-CRIMINAL',\n",
    "    'OTHER NARCOTIC VIOLATION': 'NARCOTICS',\n",
    "    'PUBLIC INDECENCY': 'PUBLIC INDECENCY/OBSCENITY',\n",
    "    'OBSCENITY': 'PUBLIC INDECENCY/OBSCENITY'\n",
    "}\n",
    "desc_consolidation = {\n",
    "    'AGGRAVATED':'AGG',\n",
    "    'ATTEMPT':'ATT',\n",
    "    'CRIMINAL':'CRIM',\n",
    "    'POSSESSION':'POSS',\n",
    "    'POS ':'POSS',\n",
    "    'POSESS:':'POSS ',\n",
    "    'POSESS ':'POSS ',    \n",
    "    'REGISTRATION':'REG',\n",
    "    'PRO. ':'PROFESSIONAL ',\n",
    "    'PO ': 'POLICE OFFICER ',\n",
    "    'P.O.':'POLICE OFFICER',\n",
    "    'RITUAL': 'RIT',\n",
    "    'MUTILATION':'MUT',\n",
    "    'INSTRUMENT':'INSTR',\n",
    "    'MANU/DEL:':'MANUFACTURE DELIVER',\n",
    "    'MANU/DELIVER:':'MANUFACTURE DELIVER',\n",
    "    'MANUFACTURE / DELIVER':'MANUFACTURE DELIVER'\n",
    "}\n",
    "\n",
    "for k, v in ptype_consolidation.items():\n",
    "    df = df.replace(k, v, 'Primary Type')\n",
    "    \n",
    "replacement_expr = col('Description')\n",
    "for k, v in desc_consolidation.items():\n",
    "    replacement_expr = regexp_replace(replacement_expr, k, v)\n",
    "df = df.withColumn('Description', replacement_expr)\n",
    "df = df.withColumn('Description', regexp_replace(df['Description'], '[^A-Za-z0-9]', ''))"
   ]
  },
  {
   "cell_type": "markdown",
   "id": "319fb03e",
   "metadata": {},
   "source": [
    "Cleaning is now done, specify the output path to generate the new csv which will be the input for the next notebooks."
   ]
  },
  {
   "cell_type": "code",
   "execution_count": 15,
   "id": "63c5bd2b",
   "metadata": {},
   "outputs": [
    {
     "name": "stderr",
     "output_type": "stream",
     "text": [
      "                                                                                \r"
     ]
    }
   ],
   "source": [
    "write_path = 'home/work/Project/mas-dse-230/cleaned_crime.csv'\n",
    "df.coalesce(1).write.mode('overwrite').csv(f'file:///{write_path}')"
   ]
  },
  {
   "cell_type": "code",
   "execution_count": 16,
   "id": "338d49d1",
   "metadata": {},
   "outputs": [],
   "source": [
    "spark.stop()"
   ]
  },
  {
   "cell_type": "code",
   "execution_count": null,
   "id": "b30ab968",
   "metadata": {},
   "outputs": [],
   "source": []
  }
 ],
 "metadata": {
  "kernelspec": {
   "display_name": "Python 3 (ipykernel)",
   "language": "python",
   "name": "python3"
  },
  "language_info": {
   "codemirror_mode": {
    "name": "ipython",
    "version": 3
   },
   "file_extension": ".py",
   "mimetype": "text/x-python",
   "name": "python",
   "nbconvert_exporter": "python",
   "pygments_lexer": "ipython3",
   "version": "3.8.10"
  }
 },
 "nbformat": 4,
 "nbformat_minor": 5
}
